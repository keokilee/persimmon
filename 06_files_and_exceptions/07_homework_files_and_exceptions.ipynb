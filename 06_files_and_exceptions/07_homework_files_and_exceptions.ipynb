{
 "cells": [
  {
   "cell_type": "markdown",
   "metadata": {},
   "source": [
    "# Homework 07\n",
    "\n",
    "## Instructions\n",
    "\n",
    "Open the file in Jupyter Lab. Fill out the problems and submit the completed notebook on Laulima.\n",
    "\n",
    "## Problem 1: File Head Display\n",
    "\n",
    "Write a program that asks the user for the name of a file. The program should display only the first five lines of the file's contents. If the file contains less than five linees, it should display the file's entire contents."
   ]
  },
  {
   "cell_type": "code",
   "execution_count": 1,
   "metadata": {},
   "outputs": [],
   "source": [
    "# Input solution here"
   ]
  },
  {
   "cell_type": "markdown",
   "metadata": {},
   "source": [
    "## Problem 2: Item Counter\n",
    "\n",
    "Assume a file containing a series of names (as strings) is named `names.txt` and exists on the computer's disk. Write a program that displays the number of names that are stored in the file.\n",
    "\n",
    "(Hint: Open the file and read every line stored in it. Use a variable to keep a count of the number of items that are read from the file.)"
   ]
  },
  {
   "cell_type": "code",
   "execution_count": 2,
   "metadata": {},
   "outputs": [],
   "source": [
    "# Input solution here"
   ]
  },
  {
   "cell_type": "markdown",
   "metadata": {},
   "source": [
    "## Problem 3: Random Number File Reader\n",
    "\n",
    "Write a program that reads the file you created in the \"Random Number File Writer\" assignment in the lab. The program should read the file, display the numbers, then display the following data:\n",
    "\n",
    "* The total of the numbers\n",
    "* The number of random numbers read from the file"
   ]
  },
  {
   "cell_type": "code",
   "execution_count": 3,
   "metadata": {},
   "outputs": [],
   "source": [
    "# Input solution here"
   ]
  },
  {
   "cell_type": "markdown",
   "metadata": {},
   "source": [
    "## Problem 4: Personal Web Page Generator\n",
    "\n",
    "Write a program that asks the user for his or her name, then asks the user to enter a sentence that describes himself or herself. Here's an example of the program's output:\n",
    "\n",
    "```\n",
    "Enter your name: {user name}\n",
    "Describe yourself: {user description}\n",
    "```\n",
    "\n",
    "Once the user has entered the requested input, the program should create an HTML file containing the input for a simple Web page and write it to disk (name it whatever you want). Here is an example of the HTML content:\n",
    "\n",
    "```\n",
    "<html>\n",
    "<head>\n",
    "</head>\n",
    "<body>\n",
    "    <center>\n",
    "        <h1>{user name}</h1>\n",
    "    </center>\n",
    "    <hr />\n",
    "    <p>\n",
    "        {user description}\n",
    "    </p>\n",
    "</body>\n",
    "</html>\n",
    "```"
   ]
  },
  {
   "cell_type": "code",
   "execution_count": 1,
   "metadata": {},
   "outputs": [],
   "source": [
    "# Input solution here"
   ]
  }
 ],
 "metadata": {
  "kernelspec": {
   "display_name": "Python 3",
   "language": "python",
   "name": "python3"
  },
  "language_info": {
   "codemirror_mode": {
    "name": "ipython",
    "version": 3
   },
   "file_extension": ".py",
   "mimetype": "text/x-python",
   "name": "python",
   "nbconvert_exporter": "python",
   "pygments_lexer": "ipython3",
   "version": "3.7.4"
  }
 },
 "nbformat": 4,
 "nbformat_minor": 4
}
