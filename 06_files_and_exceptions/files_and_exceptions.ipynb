{
 "cells": [
  {
   "cell_type": "markdown",
   "metadata": {
    "slideshow": {
     "slide_type": "slide"
    }
   },
   "source": [
    "# Files and Exceptions"
   ]
  },
  {
   "cell_type": "markdown",
   "metadata": {
    "slideshow": {
     "slide_type": "slide"
    }
   },
   "source": [
    "## File Input and Output\n",
    "\n",
    "* Currently, our variables are stored in memory\n",
    "* Variables are reset when we exit our program\n",
    "* Writing data to an _output file_\n",
    "* Reading data from an _input file_"
   ]
  },
  {
   "cell_type": "markdown",
   "metadata": {
    "slideshow": {
     "slide_type": "slide"
    }
   },
   "source": [
    "## Software that read/write files\n",
    "\n",
    "* Word processors\n",
    "* Image Editors\n",
    "* Spreadsheets\n",
    "* Games\n",
    "* Web Browsers"
   ]
  },
  {
   "cell_type": "markdown",
   "metadata": {
    "slideshow": {
     "slide_type": "slide"
    }
   },
   "source": [
    "## Overview of how to manipulate files\n",
    "\n",
    "1. Open the file for reading or writing (input vs. output file). Connects the file to the program.\n",
    "2. Process the file. Either read the data or write data.\n",
    "3. Close the file. Releases the connection of the file to the program."
   ]
  },
  {
   "cell_type": "markdown",
   "metadata": {
    "slideshow": {
     "slide_type": "slide"
    }
   },
   "source": [
    "## File Types and Access Methods\n",
    "\n",
    "* Two types of files\n",
    "    1. Text\n",
    "    2. Binary (an image, for example)\n",
    "* File access methods\n",
    "    1. Sequential (line by line)\n",
    "    2. Direct (jump directly to any piece of data)\n",
    "* We'll be accessing text files sequentially"
   ]
  },
  {
   "cell_type": "markdown",
   "metadata": {
    "slideshow": {
     "slide_type": "slide"
    }
   },
   "source": [
    "## Opening a file\n",
    "\n",
    "* We need to open a file with a _file name_\n",
    "* When we open a file, the program creates a _file object_ \n",
    "* We need to assign this to a variable, this represents the file on disk"
   ]
  },
  {
   "cell_type": "markdown",
   "metadata": {
    "slideshow": {
     "slide_type": "slide"
    }
   },
   "source": [
    "![open file diagram](images/open_file_diagram.png)"
   ]
  },
  {
   "cell_type": "markdown",
   "metadata": {
    "slideshow": {
     "slide_type": "slide"
    }
   },
   "source": [
    "## Opening a file in Python\n",
    "\n",
    "* Use the `open` function (no need to `import` anything)\n",
    "* Creates a file object and associates it with a file on disk\n",
    "* Takes two parameters, the file path/name and the `mode`"
   ]
  },
  {
   "cell_type": "markdown",
   "metadata": {
    "slideshow": {
     "slide_type": "slide"
    }
   },
   "source": [
    "## Python File Modes\n",
    "\n",
    "* String specifying whether the file is being read or written to\n",
    "* We'll be using 3 values in this course (there are more)\n",
    "    1. `'r'` means to open the file for reading only.\n",
    "    2. `'w'` means to open a file for writing. If the file exists, erase it.\n",
    "    3. `'a'` means to open a file to be written to. Data is written to the end of the file if it exists.\n",
    "* `'w'` and `'a'` creates the file if it doesn't exist"
   ]
  },
  {
   "cell_type": "code",
   "execution_count": 6,
   "metadata": {
    "slideshow": {
     "slide_type": "slide"
    }
   },
   "outputs": [
    {
     "name": "stdout",
     "output_type": "stream",
     "text": [
      "<class '_io.TextIOWrapper'>\n"
     ]
    }
   ],
   "source": [
    "# Example reading a file.\n",
    "# Assumes the file exists in a folder called \"files\" in the same directory as this notebook.\n",
    "# Windows users should use a \\ instead of a /\n",
    "\n",
    "hello = open('files/hello.txt', 'r')\n",
    "print(type(hello))\n",
    "hello.close()"
   ]
  },
  {
   "cell_type": "code",
   "execution_count": 4,
   "metadata": {
    "slideshow": {
     "slide_type": "slide"
    }
   },
   "outputs": [
    {
     "name": "stdout",
     "output_type": "stream",
     "text": [
      "<class '_io.TextIOWrapper'>\n"
     ]
    }
   ],
   "source": [
    "# Example writing a file\n",
    "goodbye = open('files/goodbye.txt', 'w')\n",
    "print(type(goodbye))\n",
    "goodbye.close()"
   ]
  },
  {
   "cell_type": "markdown",
   "metadata": {
    "slideshow": {
     "slide_type": "slide"
    }
   },
   "source": [
    "## Relative vs. Absolute file paths\n",
    "\n",
    "* Examples above demonstrate _relative_ file paths. \n",
    "* File path is based on the current directory\n",
    "* An _absolute_ file path is the path from the base of the directory\n",
    "    * In Windows, this might mean `C:\\Users\\George\\temp\\hello.txt`\n",
    "    * In OSX, this might mean `/Users/George/temp/hello.txt`\n",
    "    * In Linux, this might mean `/home/george/temp/hello.txt`"
   ]
  },
  {
   "cell_type": "markdown",
   "metadata": {
    "slideshow": {
     "slide_type": "slide"
    }
   },
   "source": [
    "## Working with Windows paths\n",
    "\n",
    "* Windows paths use `\\`, which is an escape character (recall `\\t`, `\\\"`, etc.)\n",
    "* Use the `r` prefix to a string to indicate that this is a raw string (no escapes)\n",
    "* What's the difference between the two:\n",
    "    * `print('C:\\Users\\George\\temp\\test.txt')`\n",
    "    * `print(r'C:\\Users\\George\\temp\\test.txt')`"
   ]
  },
  {
   "cell_type": "markdown",
   "metadata": {
    "slideshow": {
     "slide_type": "slide"
    }
   },
   "source": [
    "## Objects and Methods\n",
    "\n",
    "* We have an instance of a file object\n",
    "* This file object has functions attached to it called _methods_\n",
    "* Methods are called the same way as functions\n",
    "* We write to a file using the `write()` method"
   ]
  },
  {
   "cell_type": "code",
   "execution_count": 9,
   "metadata": {
    "slideshow": {
     "slide_type": "slide"
    }
   },
   "outputs": [],
   "source": [
    "# Example writing to a file\n",
    "goodbye = open('files/goodbye.txt', 'w')\n",
    "goodbye.write('Goodbye\\n')\n",
    "goodbye.write('Aloha\\n')\n",
    "goodbye.write('Sayonara\\n')\n",
    "goodbye.close()"
   ]
  },
  {
   "cell_type": "markdown",
   "metadata": {
    "slideshow": {
     "slide_type": "slide"
    }
   },
   "source": [
    "## Closing files\n",
    "\n",
    "* Files should be closed when your program is done writing\n",
    "* Python writes the data into a _buffer_ in memory\n",
    "* The `close` method ensures that the _buffer_ is written"
   ]
  },
  {
   "cell_type": "markdown",
   "metadata": {
    "slideshow": {
     "slide_type": "slide"
    }
   },
   "source": [
    "## Reading a file\n",
    "\n",
    "* Use the `'r'` mode\n",
    "* We use the `read` method to get the file contents as a string\n",
    "* Still should `close` the file after we're done"
   ]
  },
  {
   "cell_type": "code",
   "execution_count": 10,
   "metadata": {
    "slideshow": {
     "slide_type": "slide"
    }
   },
   "outputs": [
    {
     "name": "stdout",
     "output_type": "stream",
     "text": [
      "Goodbye\n",
      "Aloha\n",
      "Sayonara\n",
      "\n"
     ]
    }
   ],
   "source": [
    "# Example reading a file\n",
    "goodbye = open('files/goodbye.txt', 'r')\n",
    "contents = goodbye.read()\n",
    "print(contents)\n",
    "goodbye.close()"
   ]
  },
  {
   "cell_type": "markdown",
   "metadata": {
    "slideshow": {
     "slide_type": "slide"
    }
   },
   "source": [
    "## Reading files using `readline`\n",
    "\n",
    "* May not want to put all the data into a single string\n",
    "* Maybe input is data that is processed line by line\n",
    "* Maybe input is very very large\n",
    "* `readline` reads a line from the file\n",
    "    * A line ends with a `\\n`\n",
    "    * `readline` prints the line with a trailing `\\n`"
   ]
  },
  {
   "cell_type": "code",
   "execution_count": 11,
   "metadata": {
    "slideshow": {
     "slide_type": "slide"
    }
   },
   "outputs": [
    {
     "name": "stdout",
     "output_type": "stream",
     "text": [
      "Goodbye\n",
      "\n",
      "Aloha\n",
      "\n",
      "Sayonara\n",
      "\n"
     ]
    }
   ],
   "source": [
    "# Example reading using `readline`\n",
    "goodbye = open('files/goodbye.txt', 'r')\n",
    "print(goodbye.readline())\n",
    "print(goodbye.readline())\n",
    "print(goodbye.readline())\n",
    "goodbye.close()"
   ]
  },
  {
   "cell_type": "markdown",
   "metadata": {
    "slideshow": {
     "slide_type": "slide"
    }
   },
   "source": [
    "## File Cursors\n",
    "\n",
    "* Python internally tracks a read position, or a _cursor_\n",
    "* This tracks where in the file we are currently reading from\n",
    "* Each call to `readline` moves the cursor to the next line"
   ]
  },
  {
   "cell_type": "markdown",
   "metadata": {
    "slideshow": {
     "slide_type": "slide"
    }
   },
   "source": [
    "## String concatenation\n",
    "\n",
    "* We typically write to a file line by line\n",
    "* This means our strings should have a `\\n` at the end\n",
    "* May need to add it if it is not there\n",
    "* We can use the `+` operator to do this"
   ]
  },
  {
   "cell_type": "code",
   "execution_count": 12,
   "metadata": {
    "slideshow": {
     "slide_type": "slide"
    }
   },
   "outputs": [
    {
     "name": "stdin",
     "output_type": "stream",
     "text": [
      "What's another way to say goodbye? adios\n"
     ]
    }
   ],
   "source": [
    "goodbye_file = open('files/goodbye.txt', 'a')\n",
    "user_input = input(\"What's another way to say goodbye?\")\n",
    "goodbye_file.write(user_input + '\\n')\n",
    "goodbye_file.close()"
   ]
  },
  {
   "cell_type": "markdown",
   "metadata": {
    "slideshow": {
     "slide_type": "slide"
    }
   },
   "source": [
    "## Stripping a new line from a string\n",
    "\n",
    "* `readline` prints out an extra `\\n`\n",
    "    * The one at the end of the string\n",
    "    * The default `print` ender\n",
    "* Strings are objects, too\n",
    "* `rstrip()` removes specific characters from the end of a string\n",
    "* Strips the characters from the right side of the string"
   ]
  },
  {
   "cell_type": "code",
   "execution_count": 17,
   "metadata": {
    "slideshow": {
     "slide_type": "slide"
    }
   },
   "outputs": [
    {
     "name": "stdout",
     "output_type": "stream",
     "text": [
      "Goodbye\n",
      "Aloha\n",
      "Sayonara\n",
      "adios\n"
     ]
    }
   ],
   "source": [
    "goodbye_file = open('files/goodbye.txt', 'r')\n",
    "for i in range(4):\n",
    "    line = goodbye_file.readline()\n",
    "    print(line.rstrip('\\n'))\n",
    "\n",
    "goodbye_file.close()"
   ]
  },
  {
   "cell_type": "markdown",
   "metadata": {
    "slideshow": {
     "slide_type": "slide"
    }
   },
   "source": [
    "## Reading and Writing Numeric Data\n",
    "\n",
    "* `write()` method takes a string\n",
    "* Built in `str` function converts a number to a string\n",
    "* `readline` gives back a string\n",
    "* Use `int` or `float` to convert the string into a number"
   ]
  },
  {
   "cell_type": "code",
   "execution_count": 20,
   "metadata": {
    "slideshow": {
     "slide_type": "slide"
    }
   },
   "outputs": [
    {
     "name": "stdin",
     "output_type": "stream",
     "text": [
      "Enter a number 3\n"
     ]
    }
   ],
   "source": [
    "number_file = open('files/numbers.txt', 'w')\n",
    "# This is an error\n",
    "# number_file.write(1)\n",
    "\n",
    "number_file.write(str(1) + '\\n')\n",
    "number_file.write(str(2) + '\\n')\n",
    "user_input = int(input(\"Enter a number\"))\n",
    "number_file.write(str(user_input) + '\\n')\n",
    "number_file.close()"
   ]
  },
  {
   "cell_type": "code",
   "execution_count": 23,
   "metadata": {
    "slideshow": {
     "slide_type": "slide"
    }
   },
   "outputs": [
    {
     "name": "stdout",
     "output_type": "stream",
     "text": [
      "6\n"
     ]
    }
   ],
   "source": [
    "number_file = open('files/numbers.txt', 'r')\n",
    "total = 0\n",
    "for i in range(3):\n",
    "    # rstrip can be used, but is not necessary for int\n",
    "    line = int(number_file.readline())\n",
    "    total += int(line)\n",
    "    \n",
    "print(total)"
   ]
  },
  {
   "cell_type": "code",
   "execution_count": 25,
   "metadata": {
    "slideshow": {
     "slide_type": "slide"
    }
   },
   "outputs": [
    {
     "name": "stdin",
     "output_type": "stream",
     "text": [
      "How many students are in the class? 2\n",
      "Enter student 1's score 10\n",
      "Enter student 2's score 9\n"
     ]
    }
   ],
   "source": [
    "# Using a loop to write data\n",
    "scores = open('files/test_scores.txt', 'w')\n",
    "num_students = int(input(\"How many students are in the class?\"))\n",
    "for i in range(num_students):\n",
    "    score = int(input(f\"Enter student {i + 1}'s score\"))\n",
    "    scores.write(str(score) + '\\n')\n",
    "\n",
    "scores.close()"
   ]
  },
  {
   "cell_type": "markdown",
   "metadata": {
    "slideshow": {
     "slide_type": "slide"
    }
   },
   "source": [
    "## Reading a file with a loop\n",
    "\n",
    "* Some examples above\n",
    "* How do we know when there is no more data?\n",
    "* `readline` returns `''` when it tries to read beyond the end of the file\n",
    "* Use a `while` loop to detect this"
   ]
  },
  {
   "cell_type": "markdown",
   "metadata": {
    "slideshow": {
     "slide_type": "slide"
    }
   },
   "source": [
    "![Loop read algorithm](images/loop-read-algorithm.png)"
   ]
  },
  {
   "cell_type": "code",
   "execution_count": 27,
   "metadata": {
    "slideshow": {
     "slide_type": "slide"
    }
   },
   "outputs": [
    {
     "name": "stdout",
     "output_type": "stream",
     "text": [
      "The average score is 9.5\n"
     ]
    }
   ],
   "source": [
    "# Using a loop to read data\n",
    "scores = open('files/test_scores.txt', 'r')\n",
    "total = 0\n",
    "count = 0\n",
    "\n",
    "line = scores.readline()\n",
    "while line != '':\n",
    "    total = total + int(line)\n",
    "    count = count + 1\n",
    "    line = scores.readline()\n",
    "    \n",
    "print(\"The average score is\", total / count)\n",
    "scores.close()"
   ]
  },
  {
   "cell_type": "markdown",
   "metadata": {
    "slideshow": {
     "slide_type": "slide"
    }
   },
   "source": [
    "## Using the `for` loop to read lines\n",
    "\n",
    "* Recall that the Python `for` loop _iterates_ over a list of items\n",
    "* Not strictly true, as it can iterate over _iterable_ objects\n",
    "* For a file, the `for` loop can iterate over lines in a file"
   ]
  },
  {
   "cell_type": "code",
   "execution_count": 28,
   "metadata": {
    "slideshow": {
     "slide_type": "slide"
    }
   },
   "outputs": [
    {
     "name": "stdout",
     "output_type": "stream",
     "text": [
      "The average score is 9.5\n"
     ]
    }
   ],
   "source": [
    "# Using a for loop to read data\n",
    "scores = open('files/test_scores.txt', 'r')\n",
    "total = 0\n",
    "count = 0\n",
    "\n",
    "for line in scores:\n",
    "    total += int(line)\n",
    "    count += 1\n",
    "    \n",
    "print('The average score is', total / count)\n",
    "scores.close()"
   ]
  },
  {
   "cell_type": "markdown",
   "metadata": {
    "slideshow": {
     "slide_type": "slide"
    }
   },
   "source": [
    "## Exceptions\n",
    "\n",
    "An _exception_ is an error that occurs while a program is running, causing the program to abruptly halt."
   ]
  },
  {
   "cell_type": "code",
   "execution_count": 30,
   "metadata": {
    "slideshow": {
     "slide_type": "slide"
    }
   },
   "outputs": [
    {
     "name": "stdin",
     "output_type": "stream",
     "text": [
      "Enter a number: 10\n",
      "Enter another number: 0\n"
     ]
    },
    {
     "ename": "ZeroDivisionError",
     "evalue": "division by zero",
     "output_type": "error",
     "traceback": [
      "\u001b[0;31m---------------------------------------------------------------------------\u001b[0m",
      "\u001b[0;31mZeroDivisionError\u001b[0m                         Traceback (most recent call last)",
      "\u001b[0;32m<ipython-input-30-7e1690f0898b>\u001b[0m in \u001b[0;36m<module>\u001b[0;34m\u001b[0m\n\u001b[1;32m      7\u001b[0m     \u001b[0mprint\u001b[0m\u001b[0;34m(\u001b[0m\u001b[0;34m\"Result is\"\u001b[0m\u001b[0;34m,\u001b[0m \u001b[0mresult\u001b[0m\u001b[0;34m)\u001b[0m\u001b[0;34m\u001b[0m\u001b[0;34m\u001b[0m\u001b[0m\n\u001b[1;32m      8\u001b[0m \u001b[0;34m\u001b[0m\u001b[0m\n\u001b[0;32m----> 9\u001b[0;31m \u001b[0mmain\u001b[0m\u001b[0;34m(\u001b[0m\u001b[0;34m)\u001b[0m\u001b[0;34m\u001b[0m\u001b[0;34m\u001b[0m\u001b[0m\n\u001b[0m",
      "\u001b[0;32m<ipython-input-30-7e1690f0898b>\u001b[0m in \u001b[0;36mmain\u001b[0;34m()\u001b[0m\n\u001b[1;32m      4\u001b[0m     \u001b[0;31m# Try inputting 0 here\u001b[0m\u001b[0;34m\u001b[0m\u001b[0;34m\u001b[0m\u001b[0;34m\u001b[0m\u001b[0m\n\u001b[1;32m      5\u001b[0m     \u001b[0mnum2\u001b[0m \u001b[0;34m=\u001b[0m \u001b[0mint\u001b[0m\u001b[0;34m(\u001b[0m\u001b[0minput\u001b[0m\u001b[0;34m(\u001b[0m\u001b[0;34m'Enter another number:'\u001b[0m\u001b[0;34m)\u001b[0m\u001b[0;34m)\u001b[0m\u001b[0;34m\u001b[0m\u001b[0;34m\u001b[0m\u001b[0m\n\u001b[0;32m----> 6\u001b[0;31m     \u001b[0mresult\u001b[0m \u001b[0;34m=\u001b[0m \u001b[0mnum1\u001b[0m \u001b[0;34m/\u001b[0m \u001b[0mnum2\u001b[0m\u001b[0;34m\u001b[0m\u001b[0;34m\u001b[0m\u001b[0m\n\u001b[0m\u001b[1;32m      7\u001b[0m     \u001b[0mprint\u001b[0m\u001b[0;34m(\u001b[0m\u001b[0;34m\"Result is\"\u001b[0m\u001b[0;34m,\u001b[0m \u001b[0mresult\u001b[0m\u001b[0;34m)\u001b[0m\u001b[0;34m\u001b[0m\u001b[0;34m\u001b[0m\u001b[0m\n\u001b[1;32m      8\u001b[0m \u001b[0;34m\u001b[0m\u001b[0m\n",
      "\u001b[0;31mZeroDivisionError\u001b[0m: division by zero"
     ]
    }
   ],
   "source": [
    "# Division program\n",
    "def main():\n",
    "    num1 = int(input('Enter a number:'))\n",
    "    # Try inputting 0 here\n",
    "    num2 = int(input('Enter another number:'))\n",
    "    result = num1 / num2\n",
    "    print(\"Result is\", result)\n",
    "    \n",
    "main()"
   ]
  },
  {
   "cell_type": "code",
   "execution_count": 31,
   "metadata": {
    "slideshow": {
     "slide_type": "slide"
    }
   },
   "outputs": [
    {
     "name": "stdin",
     "output_type": "stream",
     "text": [
      "Enter a number: 10\n",
      "Enter another number: 0\n"
     ]
    },
    {
     "name": "stdout",
     "output_type": "stream",
     "text": [
      "Cannot divide by 0\n"
     ]
    }
   ],
   "source": [
    "# Gracefully avoiding the error\n",
    "def main():\n",
    "    num1 = int(input('Enter a number:'))\n",
    "    # Try inputting 0 here\n",
    "    num2 = int(input('Enter another number:'))\n",
    "    if num2 != 0:\n",
    "        result = num1 / num2\n",
    "        print(\"Result is\", result)\n",
    "    else:\n",
    "        print(\"Cannot divide by 0\")\n",
    "    \n",
    "main()"
   ]
  },
  {
   "cell_type": "code",
   "execution_count": 32,
   "metadata": {
    "slideshow": {
     "slide_type": "slide"
    }
   },
   "outputs": [
    {
     "name": "stdin",
     "output_type": "stream",
     "text": [
      "Enter a number four\n"
     ]
    },
    {
     "ename": "ValueError",
     "evalue": "invalid literal for int() with base 10: 'four'",
     "output_type": "error",
     "traceback": [
      "\u001b[0;31m---------------------------------------------------------------------------\u001b[0m",
      "\u001b[0;31mValueError\u001b[0m                                Traceback (most recent call last)",
      "\u001b[0;32m<ipython-input-32-0107b8ad11dc>\u001b[0m in \u001b[0;36m<module>\u001b[0;34m\u001b[0m\n\u001b[1;32m      4\u001b[0m     \u001b[0mprint\u001b[0m\u001b[0;34m(\u001b[0m\u001b[0mnumber\u001b[0m \u001b[0;34m+\u001b[0m \u001b[0;36m1\u001b[0m\u001b[0;34m)\u001b[0m\u001b[0;34m\u001b[0m\u001b[0;34m\u001b[0m\u001b[0m\n\u001b[1;32m      5\u001b[0m \u001b[0;34m\u001b[0m\u001b[0m\n\u001b[0;32m----> 6\u001b[0;31m \u001b[0mmain\u001b[0m\u001b[0;34m(\u001b[0m\u001b[0;34m)\u001b[0m\u001b[0;34m\u001b[0m\u001b[0;34m\u001b[0m\u001b[0m\n\u001b[0m",
      "\u001b[0;32m<ipython-input-32-0107b8ad11dc>\u001b[0m in \u001b[0;36mmain\u001b[0;34m()\u001b[0m\n\u001b[1;32m      1\u001b[0m \u001b[0;31m# Bad input error\u001b[0m\u001b[0;34m\u001b[0m\u001b[0;34m\u001b[0m\u001b[0;34m\u001b[0m\u001b[0m\n\u001b[1;32m      2\u001b[0m \u001b[0;32mdef\u001b[0m \u001b[0mmain\u001b[0m\u001b[0;34m(\u001b[0m\u001b[0;34m)\u001b[0m\u001b[0;34m:\u001b[0m\u001b[0;34m\u001b[0m\u001b[0;34m\u001b[0m\u001b[0m\n\u001b[0;32m----> 3\u001b[0;31m     \u001b[0mnumber\u001b[0m \u001b[0;34m=\u001b[0m \u001b[0mint\u001b[0m\u001b[0;34m(\u001b[0m\u001b[0minput\u001b[0m\u001b[0;34m(\u001b[0m\u001b[0;34m\"Enter a number\"\u001b[0m\u001b[0;34m)\u001b[0m\u001b[0;34m)\u001b[0m\u001b[0;34m\u001b[0m\u001b[0;34m\u001b[0m\u001b[0m\n\u001b[0m\u001b[1;32m      4\u001b[0m     \u001b[0mprint\u001b[0m\u001b[0;34m(\u001b[0m\u001b[0mnumber\u001b[0m \u001b[0;34m+\u001b[0m \u001b[0;36m1\u001b[0m\u001b[0;34m)\u001b[0m\u001b[0;34m\u001b[0m\u001b[0;34m\u001b[0m\u001b[0m\n\u001b[1;32m      5\u001b[0m \u001b[0;34m\u001b[0m\u001b[0m\n",
      "\u001b[0;31mValueError\u001b[0m: invalid literal for int() with base 10: 'four'"
     ]
    }
   ],
   "source": [
    "# Bad input error raises a ValueError exception\n",
    "def main():\n",
    "    number = int(input(\"Enter a number\"))\n",
    "    print(number + 1)\n",
    "    \n",
    "main()"
   ]
  },
  {
   "cell_type": "markdown",
   "metadata": {
    "slideshow": {
     "slide_type": "slide"
    }
   },
   "source": [
    "## Try/Except\n",
    "\n",
    "* We can handle this error so our program doesn't crash\n",
    "* We use try/except\n",
    "* The try block is the statements where an exception may be raised\n",
    "* The except block is where we handle the exception\n",
    "    * If we expect a certain type of exception, we can specify it here"
   ]
  },
  {
   "cell_type": "markdown",
   "metadata": {
    "slideshow": {
     "slide_type": "slide"
    }
   },
   "source": [
    "## Try/Except Execution\n",
    "\n",
    "* If a statement in the try raises an exception specified in an except clause, we jump to statements that handle the exception\n",
    "* If the exception is not specified, the program halts and a traceback is printed out\n",
    "* If there is no exception, the try clause finishes and except clauses are skipped"
   ]
  },
  {
   "cell_type": "code",
   "execution_count": 34,
   "metadata": {
    "slideshow": {
     "slide_type": "slide"
    }
   },
   "outputs": [
    {
     "name": "stdin",
     "output_type": "stream",
     "text": [
      "Enter a number four\n"
     ]
    },
    {
     "name": "stdout",
     "output_type": "stream",
     "text": [
      "ERROR: value must be a number\n"
     ]
    }
   ],
   "source": [
    "def main():\n",
    "    try:\n",
    "        number = int(input(\"Enter a number\"))\n",
    "        print(number + 1)\n",
    "    except ValueError:\n",
    "        print(\"ERROR: value must be a number\")\n",
    "    \n",
    "main()"
   ]
  },
  {
   "cell_type": "code",
   "execution_count": 35,
   "metadata": {
    "slideshow": {
     "slide_type": "slide"
    }
   },
   "outputs": [
    {
     "name": "stdin",
     "output_type": "stream",
     "text": [
      "Enter a number four\n"
     ]
    },
    {
     "name": "stdout",
     "output_type": "stream",
     "text": [
      "ERROR: Invalid number. Try again\n"
     ]
    },
    {
     "name": "stdin",
     "output_type": "stream",
     "text": [
      "Enter a number three\n"
     ]
    },
    {
     "name": "stdout",
     "output_type": "stream",
     "text": [
      "ERROR: Invalid number. Try again\n"
     ]
    },
    {
     "name": "stdin",
     "output_type": "stream",
     "text": [
      "Enter a number 2\n"
     ]
    },
    {
     "name": "stdout",
     "output_type": "stream",
     "text": [
      "3\n"
     ]
    }
   ],
   "source": [
    "# Input validation\n",
    "def main():\n",
    "    valid_number = False\n",
    "    while not valid_number:\n",
    "        try:\n",
    "            number = int(input(\"Enter a number\"))\n",
    "            valid_number = True\n",
    "        except ValueError:\n",
    "            print(\"ERROR: Invalid number. Try again\")\n",
    "            \n",
    "    print(number + 1)\n",
    "    \n",
    "main()"
   ]
  },
  {
   "cell_type": "code",
   "execution_count": null,
   "metadata": {},
   "outputs": [],
   "source": []
  }
 ],
 "metadata": {
  "kernelspec": {
   "display_name": "Python 3",
   "language": "python",
   "name": "python3"
  },
  "language_info": {
   "codemirror_mode": {
    "name": "ipython",
    "version": 3
   },
   "file_extension": ".py",
   "mimetype": "text/x-python",
   "name": "python",
   "nbconvert_exporter": "python",
   "pygments_lexer": "ipython3",
   "version": "3.7.4"
  }
 },
 "nbformat": 4,
 "nbformat_minor": 4
}
