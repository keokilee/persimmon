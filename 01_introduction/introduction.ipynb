{
 "cells": [
  {
   "cell_type": "markdown",
   "metadata": {
    "slideshow": {
     "slide_type": "slide"
    }
   },
   "source": [
    "# Intro to programming and Why Python?"
   ]
  },
  {
   "cell_type": "markdown",
   "metadata": {
    "slideshow": {
     "slide_type": "slide"
    }
   },
   "source": [
    "## Code and computers\n",
    "\n",
    "* Computers understand 1s and 0s (binary), but humans don't\n",
    "* Translate strings and numbers to binary\n",
    "* Code is more human readable\n",
    "* Many different programming languages"
   ]
  },
  {
   "cell_type": "markdown",
   "metadata": {
    "slideshow": {
     "slide_type": "slide"
    }
   },
   "source": [
    "## Code to Machine Code\n",
    "\n",
    "* Two ways: Compiler and Interpreter\n",
    "* Java is compiled\n",
    "* Python is interpreted\n",
    "* Both translate code to assembler"
   ]
  },
  {
   "cell_type": "markdown",
   "metadata": {
    "slideshow": {
     "slide_type": "slide"
    }
   },
   "source": [
    "## Yay Python\n",
    "\n",
    "* Python is used by many large companies\n",
    "* Python can be used for many different problems (Machine learning, web services, and IT)"
   ]
  },
  {
   "cell_type": "markdown",
   "metadata": {
    "slideshow": {
     "slide_type": "slide"
    }
   },
   "source": [
    "## Blah, Python\n",
    "\n",
    "* Mobile apps (iOS/Android)\n",
    "* Need raw speed"
   ]
  },
  {
   "cell_type": "markdown",
   "metadata": {
    "slideshow": {
     "slide_type": "slide"
    }
   },
   "source": [
    "## Installing Python\n",
    "\n",
    "* Follow the instructions at https://realpython.com/installing-python/"
   ]
  },
  {
   "cell_type": "markdown",
   "metadata": {
    "slideshow": {
     "slide_type": "slide"
    }
   },
   "source": [
    "## Using Python from the command line\n",
    "\n",
    "* Open the command prompt (cmd on Windows, Terminal app on OS X)\n",
    "* Type `python` to start the interpreter"
   ]
  },
  {
   "cell_type": "markdown",
   "metadata": {
    "slideshow": {
     "slide_type": "slide"
    }
   },
   "source": [
    "## Play around!\n",
    "\n",
    "* Easter eggs: `import __hello__`, `import this`, `import antigravity`"
   ]
  },
  {
   "cell_type": "code",
   "execution_count": null,
   "metadata": {},
   "outputs": [],
   "source": []
  },
  {
   "cell_type": "markdown",
   "metadata": {
    "slideshow": {
     "slide_type": "slide"
    }
   },
   "source": [
    "## The print function\n",
    "\n",
    "* `print('string')` prints out the string to the screen.\n",
    "* The quotes are important. You may either use single or double quotes."
   ]
  },
  {
   "cell_type": "markdown",
   "metadata": {
    "slideshow": {
     "slide_type": "slide"
    }
   },
   "source": [
    "## IDLE\n",
    "\n",
    "* The Python installer may have added an application called IDLE\n",
    "* You may also use this to start an interpreter"
   ]
  },
  {
   "cell_type": "markdown",
   "metadata": {
    "slideshow": {
     "slide_type": "slide"
    }
   },
   "source": [
    "## Writing code in a file\n",
    "\n",
    "* Download Visual Studio Code https://code.visualstudio.com\n",
    "* Do not use a word processor like Microsoft Word!"
   ]
  },
  {
   "cell_type": "code",
   "execution_count": null,
   "metadata": {},
   "outputs": [],
   "source": []
  }
 ],
 "metadata": {
  "kernelspec": {
   "display_name": "Python 3",
   "language": "python",
   "name": "python3"
  },
  "language_info": {
   "codemirror_mode": {
    "name": "ipython",
    "version": 3
   },
   "file_extension": ".py",
   "mimetype": "text/x-python",
   "name": "python",
   "nbconvert_exporter": "python",
   "pygments_lexer": "ipython3",
   "version": "3.7.4"
  }
 },
 "nbformat": 4,
 "nbformat_minor": 4
}
