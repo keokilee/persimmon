{
 "cells": [
  {
   "cell_type": "markdown",
   "metadata": {},
   "source": [
    "# Introduction\n",
    "\n",
    "## ICS 110P\n",
    "\n",
    "George Lee\n",
    "\n",
    "## Teaching assistant\n",
    "\n",
    "Moseli Motsoehli\n",
    "\n",
    "POST 314-1\n",
    "Tuesday 2-4\n",
    "\n",
    "## Class structure\n",
    "\n",
    "* Mondays - Lecture, walkthrough of some code\n",
    "* Wednesdays - Work on a lab assignment (preferably in pairs)\n",
    "\n",
    "We will try and stick to the schedule, but there may be some changes due to holidays (for example, no lab assignment this week).\n",
    "\n",
    "## Grading criteria\n",
    "\n",
    "Still working it out, but for now your grade is based on homework assignments and your attendance in labs. Homework will be assigned Monday and due the following Monday.\n",
    "\n",
    "## Textbook\n",
    "\n",
    "We will be mostly following Starting Out With Python Fourth Edition by Tony Gaddis.\n",
    "\n",
    "## Schedule\n",
    "\n",
    "* Week 1: Introduction\n",
    "* Week 2, 3: Input, Processing, and Output\n",
    "* Week 4: Decision Structures and Boolean Logic\n",
    "* Week 5: Repetition Structures\n",
    "* Week 6, 7: Functions\n",
    "* Week 8: Files and Exceptions\n",
    "* Week 9, 10: Lists and Tuples\n",
    "* Week 11: More about Strings\n",
    "* Week 12: Dictionaries an dSets\n",
    "* Week 13: Intro to Object Oriented Programming\n",
    "* Week 14, 15, 16: Web services (or other topics based on interest)\n",
    "\n"
   ]
  }
 ],
 "metadata": {
  "kernelspec": {
   "display_name": "Python 3",
   "language": "python",
   "name": "python3"
  },
  "language_info": {
   "codemirror_mode": {
    "name": "ipython",
    "version": 3
   },
   "file_extension": ".py",
   "mimetype": "text/x-python",
   "name": "python",
   "nbconvert_exporter": "python",
   "pygments_lexer": "ipython3",
   "version": "3.7.4"
  }
 },
 "nbformat": 4,
 "nbformat_minor": 4
}
