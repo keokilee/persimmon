{
 "cells": [
  {
   "cell_type": "markdown",
   "metadata": {},
   "source": [
    "# Input, Processing, and Output Part 2"
   ]
  },
  {
   "cell_type": "markdown",
   "metadata": {
    "slideshow": {
     "slide_type": "slide"
    }
   },
   "source": [
    "## More about Data Output\n",
    "\n",
    "* Suppressing the `print` function's ending new line\n",
    "* Specify the `sep` when using `print` with multiple arguments"
   ]
  },
  {
   "cell_type": "code",
   "execution_count": 3,
   "metadata": {
    "slideshow": {
     "slide_type": "slide"
    }
   },
   "outputs": [
    {
     "name": "stdout",
     "output_type": "stream",
     "text": [
      "Hello World\n",
      "Hello World!hi\n"
     ]
    }
   ],
   "source": [
    "# Suppressing the new line\n",
    "print(\"Hello\", end='')\n",
    "print(\" World\")\n",
    "\n",
    "# Or specify a different ender\n",
    "print(\"Hello World\", end='!')\n",
    "print(\"hi\")"
   ]
  },
  {
   "cell_type": "code",
   "execution_count": 6,
   "metadata": {
    "slideshow": {
     "slide_type": "slide"
    }
   },
   "outputs": [
    {
     "name": "stdout",
     "output_type": "stream",
     "text": [
      "Hello World\n",
      "Hello, World\n",
      "Hello, World!\n",
      "Hi\n"
     ]
    }
   ],
   "source": [
    "# Specifying the separator\n",
    "print(\"Hello\", \"World\")\n",
    "print(\"Hello\", \"World\", sep=', ')\n",
    "\n",
    "# Combine the two!\n",
    "print(\"Hello\", \"World\", sep=\", \", end=\"!\\n\")\n",
    "print(\"Hi\")"
   ]
  },
  {
   "cell_type": "markdown",
   "metadata": {
    "slideshow": {
     "slide_type": "slide"
    }
   },
   "source": [
    "## Escape Characters\n",
    "\n",
    "* `\\n` is a character that represents a new line\n",
    "* There are a few other special characters\n",
    "* `\\'`, `\\\"`, `\\\\` among others"
   ]
  },
  {
   "cell_type": "code",
   "execution_count": 9,
   "metadata": {
    "slideshow": {
     "slide_type": "slide"
    }
   },
   "outputs": [
    {
     "name": "stdout",
     "output_type": "stream",
     "text": [
      "Hello\n",
      "World\n",
      "\n",
      "It's time to party\n",
      "Your first program said \"Hello World\"\n",
      "The newline character is \\n\n"
     ]
    }
   ],
   "source": [
    "print(\"Hello\\nWorld\\n\")\n",
    "print('It\\'s time to party')\n",
    "print(\"Your first program said \\\"Hello World\\\"\")\n",
    "print(\"The newline character is \\\\n\")"
   ]
  },
  {
   "cell_type": "markdown",
   "metadata": {
    "slideshow": {
     "slide_type": "slide"
    }
   },
   "source": [
    "## Named Constants\n",
    "\n",
    "* `total = subtotal * 1.102`\n",
    "* What is `1.102`?\n",
    "* Magic numbers"
   ]
  },
  {
   "cell_type": "markdown",
   "metadata": {
    "slideshow": {
     "slide_type": "slide"
    }
   },
   "source": [
    "## CONSTANT VALUES\n",
    "\n",
    "* All caps in Python (and most other programming languages)\n",
    "* Unlike other languages, can be reassigned (but don't do this!)"
   ]
  },
  {
   "cell_type": "code",
   "execution_count": 11,
   "metadata": {
    "slideshow": {
     "slide_type": "slide"
    }
   },
   "outputs": [
    {
     "name": "stdin",
     "output_type": "stream",
     "text": [
      "Enter your subtotal:  100\n"
     ]
    },
    {
     "name": "stdout",
     "output_type": "stream",
     "text": [
      "Your total is 110.2\n"
     ]
    }
   ],
   "source": [
    "# Example of using a constant\n",
    "SALES_TAX_PERCENTAGE = 10.2\n",
    "\n",
    "subtotal = float(input(\"Enter your subtotal: \"))\n",
    "total = subtotal * (1 + (SALES_TAX_PERCENTAGE / 100))\n",
    "print(\"Your total is\", total)"
   ]
  },
  {
   "cell_type": "markdown",
   "metadata": {
    "slideshow": {
     "slide_type": "slide"
    }
   },
   "source": [
    "## Introduction to Turtle graphics\n",
    "\n",
    "* A simulated turtle that can be controlled via simple commands\n",
    "* Turtle is part of the Python standard library \"`import turtle`\""
   ]
  },
  {
   "cell_type": "markdown",
   "metadata": {
    "slideshow": {
     "slide_type": "slide"
    }
   },
   "source": [
    "## WARNING FOR MAC OS X Users\n",
    "\n",
    "* There is a bug in 10.14.6 and Python 3.7.4. Running turtle graphics will crash your Finder\n",
    "* To fix: Create a virtual environment with 3.7.0 `conda create -n <name of virtual env> python=3.7.0`\n",
    "* Bug report: https://github.com/ContinuumIO/anaconda-issues/issues/11165\n"
   ]
  },
  {
   "cell_type": "code",
   "execution_count": 52,
   "metadata": {
    "slideshow": {
     "slide_type": "slide"
    }
   },
   "outputs": [],
   "source": [
    "# Simple turtle program\n",
    "import turtle\n",
    "\n",
    "# Move the turtle forward 200 pixels\n",
    "turtle.forward(200)"
   ]
  },
  {
   "cell_type": "markdown",
   "metadata": {
    "slideshow": {
     "slide_type": "slide"
    }
   },
   "source": [
    "## Turning the turtle\n",
    "\n",
    "* By default, the turtle is moving right.\n",
    "* Turn the turtle a number of degrees using `turtle.left()` and `turtle.right()`"
   ]
  },
  {
   "cell_type": "code",
   "execution_count": 7,
   "metadata": {
    "slideshow": {
     "slide_type": "slide"
    }
   },
   "outputs": [],
   "source": [
    "# Turtle turning test\n",
    "# Note that in the notebook, you only have to `import turtle` once.\n",
    "turtle.right(90)\n",
    "turtle.forward(100)\n",
    "turtle.left(90)\n",
    "turtle.forward(100)"
   ]
  },
  {
   "cell_type": "code",
   "execution_count": 22,
   "metadata": {
    "slideshow": {
     "slide_type": "slide"
    }
   },
   "outputs": [],
   "source": [
    "# More complex example\n",
    "turtle.forward(50)\n",
    "turtle.left(45)\n",
    "turtle.forward(50)\n",
    "turtle.left(45)\n",
    "turtle.forward(50)"
   ]
  },
  {
   "cell_type": "code",
   "execution_count": 17,
   "metadata": {
    "slideshow": {
     "slide_type": "slide"
    }
   },
   "outputs": [
    {
     "name": "stdout",
     "output_type": "stream",
     "text": [
      "0.0\n",
      "270.0\n",
      "180.0\n",
      "90.0\n"
     ]
    }
   ],
   "source": [
    "## Use `setheading` to set the turtle's heading to a specific angle\n",
    "## Use `heading()` to see the turtle's current heading\n",
    "print(turtle.heading())\n",
    "turtle.forward(50)\n",
    "turtle.setheading(270)\n",
    "print(turtle.heading())\n",
    "turtle.forward(50)\n",
    "turtle.setheading(180)\n",
    "print(turtle.heading())\n",
    "turtle.forward(50)\n",
    "turtle.setheading(90)\n",
    "print(turtle.heading())\n",
    "turtle.forward(50)"
   ]
  },
  {
   "cell_type": "code",
   "execution_count": 21,
   "metadata": {
    "slideshow": {
     "slide_type": "slide"
    }
   },
   "outputs": [],
   "source": [
    "# Picking up the pen stops it from drawing\n",
    "turtle.forward(50)\n",
    "turtle.penup()\n",
    "turtle.setheading(90)\n",
    "turtle.forward(50)\n",
    "turtle.right(90)\n",
    "turtle.pendown()\n",
    "turtle.forward(50)"
   ]
  },
  {
   "cell_type": "code",
   "execution_count": 25,
   "metadata": {
    "slideshow": {
     "slide_type": "slide"
    }
   },
   "outputs": [],
   "source": [
    "# Drawing circles and dots\n",
    "turtle.circle(100)\n",
    "turtle.forward(50)\n",
    "turtle.dot()\n",
    "turtle.penup()\n",
    "turtle.forward(50)\n",
    "turtle.pendown()\n",
    "turtle.dot()"
   ]
  },
  {
   "cell_type": "code",
   "execution_count": 27,
   "metadata": {
    "slideshow": {
     "slide_type": "slide"
    }
   },
   "outputs": [],
   "source": [
    "# Changing the pen size\n",
    "turtle.pensize(5)\n",
    "turtle.left(90)\n",
    "turtle.forward(100)"
   ]
  },
  {
   "cell_type": "code",
   "execution_count": 28,
   "metadata": {
    "slideshow": {
     "slide_type": "slide"
    }
   },
   "outputs": [],
   "source": [
    "# Changing the color\n",
    "turtle.pencolor('red')\n",
    "turtle.left(90)\n",
    "turtle.forward(100)"
   ]
  },
  {
   "cell_type": "code",
   "execution_count": 29,
   "metadata": {
    "slideshow": {
     "slide_type": "slide"
    }
   },
   "outputs": [],
   "source": [
    "# Changing the background color\n",
    "turtle.bgcolor('#2cd4ae')"
   ]
  },
  {
   "cell_type": "code",
   "execution_count": 31,
   "metadata": {
    "slideshow": {
     "slide_type": "slide"
    }
   },
   "outputs": [],
   "source": [
    "# Reset everything!\n",
    "turtle.clear() # Clears drawings, but keeps the turtle in the same position\n",
    "turtle.reset() # Clears and resets turtle, but does not reset the background color\n",
    "turtle.clearscreen() # Clear drawing, reset turtle, and reset background color"
   ]
  },
  {
   "cell_type": "code",
   "execution_count": 32,
   "metadata": {
    "slideshow": {
     "slide_type": "slide"
    }
   },
   "outputs": [],
   "source": [
    "# Resizing the window\n",
    "turtle.setup(640, 480)"
   ]
  },
  {
   "cell_type": "code",
   "execution_count": 36,
   "metadata": {
    "slideshow": {
     "slide_type": "slide"
    }
   },
   "outputs": [
    {
     "name": "stdout",
     "output_type": "stream",
     "text": [
      "(10.00,20.00)\n"
     ]
    }
   ],
   "source": [
    "# Move the turtle to a specific x, y location\n",
    "turtle.dot()\n",
    "turtle.goto(10, 20) # Draws line as the turtle moves\n",
    "turtle.dot()"
   ]
  },
  {
   "cell_type": "code",
   "execution_count": 38,
   "metadata": {
    "slideshow": {
     "slide_type": "slide"
    }
   },
   "outputs": [
    {
     "name": "stdout",
     "output_type": "stream",
     "text": [
      "(10.00,20.00)\n",
      "10.0\n",
      "20.0\n"
     ]
    }
   ],
   "source": [
    "# Print the turtle's position\n",
    "print(turtle.pos())\n",
    "print(turtle.xcor())\n",
    "print(turtle.ycor())"
   ]
  },
  {
   "cell_type": "code",
   "execution_count": 41,
   "metadata": {
    "slideshow": {
     "slide_type": "slide"
    }
   },
   "outputs": [],
   "source": [
    "# Adjust animation speed\n",
    "turtle.speed(0) # Instant\n",
    "turtle.speed(1) # Slowest speed\n",
    "turtle.circle(50)\n",
    "turtle.speed(10) # Fastest speed\n",
    "turtle.circle(100)"
   ]
  },
  {
   "cell_type": "code",
   "execution_count": 43,
   "metadata": {
    "slideshow": {
     "slide_type": "slide"
    }
   },
   "outputs": [],
   "source": [
    "# Hide the turtle\n",
    "turtle.hideturtle()\n",
    "turtle.circle(20)\n",
    "turtle.showturtle()"
   ]
  },
  {
   "cell_type": "code",
   "execution_count": 45,
   "metadata": {
    "slideshow": {
     "slide_type": "slide"
    }
   },
   "outputs": [],
   "source": [
    "# Display text\n",
    "turtle.penup()\n",
    "turtle.goto(260, 200)\n",
    "turtle.pendown()\n",
    "turtle.write('Hello World')"
   ]
  },
  {
   "cell_type": "code",
   "execution_count": 46,
   "metadata": {
    "slideshow": {
     "slide_type": "slide"
    }
   },
   "outputs": [],
   "source": [
    "# Filling a circle\n",
    "turtle.clearscreen()\n",
    "turtle.fillcolor('red')\n",
    "turtle.begin_fill()\n",
    "turtle.circle(100)\n",
    "turtle.end_fill()"
   ]
  },
  {
   "cell_type": "code",
   "execution_count": 47,
   "metadata": {
    "slideshow": {
     "slide_type": "slide"
    }
   },
   "outputs": [],
   "source": [
    "# Filling a rectangle/square\n",
    "turtle.clearscreen()\n",
    "turtle.fillcolor('green')\n",
    "turtle.begin_fill()\n",
    "turtle.forward(100)\n",
    "turtle.right(90)\n",
    "turtle.forward(150)\n",
    "turtle.right(90)\n",
    "turtle.forward(100)\n",
    "turtle.right(90)\n",
    "turtle.forward(150)\n",
    "turtle.end_fill()"
   ]
  },
  {
   "cell_type": "code",
   "execution_count": 49,
   "metadata": {
    "slideshow": {
     "slide_type": "slide"
    }
   },
   "outputs": [],
   "source": [
    "# Fill an incomplete shape\n",
    "# Assumes a line that goes from last position to the beginning\n",
    "turtle.clearscreen()\n",
    "turtle.penup()\n",
    "turtle.goto(100, 100)\n",
    "turtle.pendown()\n",
    "turtle.fillcolor('blue')\n",
    "turtle.begin_fill()\n",
    "turtle.right(45)\n",
    "turtle.forward(100)\n",
    "turtle.right(90)\n",
    "turtle.forward(100)\n",
    "turtle.end_fill()\n"
   ]
  },
  {
   "cell_type": "code",
   "execution_count": null,
   "metadata": {},
   "outputs": [],
   "source": []
  }
 ],
 "metadata": {
  "kernelspec": {
   "display_name": "Python 3",
   "language": "python",
   "name": "python3"
  },
  "language_info": {
   "codemirror_mode": {
    "name": "ipython",
    "version": 3
   },
   "file_extension": ".py",
   "mimetype": "text/x-python",
   "name": "python",
   "nbconvert_exporter": "python",
   "pygments_lexer": "ipython3",
   "version": "3.7.0"
  }
 },
 "nbformat": 4,
 "nbformat_minor": 4
}
