{
 "cells": [
  {
   "cell_type": "markdown",
   "metadata": {},
   "source": [
    "# Input, Processing, and Output"
   ]
  },
  {
   "cell_type": "markdown",
   "metadata": {
    "slideshow": {
     "slide_type": "slide"
    }
   },
   "source": [
    "## Program development cycle\n",
    "\n",
    "1. Design the program\n",
    "2. Write code\n",
    "3. Fix errors that prevent program from being run\n",
    "4. Test the program to see if it satisfies requirements\n",
    "5. Fix logic errors\n",
    "6. Repeat"
   ]
  },
  {
   "cell_type": "markdown",
   "metadata": {
    "slideshow": {
     "slide_type": "slide"
    }
   },
   "source": [
    "## How to design a program\n",
    "\n",
    "* Understand what the problem is that we are trying to solve (Gathering requirements)\n",
    "* Figure out what steps must be taken to complete the task (algorithm)\n",
    "* In larger projects, this may be further broken down into smaller tasks"
   ]
  },
  {
   "cell_type": "markdown",
   "metadata": {
    "slideshow": {
     "slide_type": "slide"
    }
   },
   "source": [
    "## Example: Creating a calculator\n",
    "\n",
    "* What do we need to implement?\n",
    "* What do we need to do to implement a function?"
   ]
  },
  {
   "cell_type": "markdown",
   "metadata": {
    "slideshow": {
     "slide_type": "slide"
    }
   },
   "source": [
    "## Displaying output with the print function\n",
    "\n",
    "* `print('hello world')` _calls_ the print _function_ with an _argument_\n",
    "* The _argument_ `'hello world'` is a string\n",
    "* Note that strings can be single or double quoted\n",
    "* There's also triple quotes for multiline strings"
   ]
  },
  {
   "cell_type": "code",
   "execution_count": 3,
   "metadata": {
    "slideshow": {
     "slide_type": "slide"
    }
   },
   "outputs": [
    {
     "name": "stdout",
     "output_type": "stream",
     "text": [
      "The time is:\n",
      "2019-08-27 08:51:06.131789\n",
      "\n",
      "The time is:\n",
      "2019-08-27 08:51:06.132162\n",
      "\n"
     ]
    }
   ],
   "source": [
    "# Example program: Displaying the current time\n",
    "\n",
    "import datetime\n",
    "\n",
    "print(\"The time is:\")\n",
    "print(datetime.datetime.now())\n",
    "\n",
    "print(f\"\"\"\n",
    "The time is:\n",
    "{datetime.datetime.now()}\n",
    "\"\"\")"
   ]
  },
  {
   "cell_type": "markdown",
   "metadata": {
    "slideshow": {
     "slide_type": "slide"
    }
   },
   "source": [
    "## Exercise\n",
    "\n",
    "Write a program that displays your name and (bogus) address and phone number.\n",
    "\n",
    "For example:\n",
    "\n",
    "```\n",
    "George Lee\n",
    "1680 East-West Drive\n",
    "Honolulu, HI 96822\n",
    "808-555-1234\n",
    "```"
   ]
  },
  {
   "cell_type": "markdown",
   "metadata": {
    "slideshow": {
     "slide_type": "slide"
    }
   },
   "source": [
    "## Variables\n",
    "\n",
    "* We _assign_ values to a name using an _assignment statement_\n",
    "* This makes the value reusable\n",
    "* We can assign almost any piece of data to a variable\n",
    "* General format is `variable_name = expression`"
   ]
  },
  {
   "cell_type": "code",
   "execution_count": 7,
   "metadata": {
    "slideshow": {
     "slide_type": "slide"
    }
   },
   "outputs": [
    {
     "name": "stdout",
     "output_type": "stream",
     "text": [
      "incorrect\n",
      "age\n",
      "correct\n",
      "25\n"
     ]
    }
   ],
   "source": [
    "# Basic assignment\n",
    "\n",
    "age = 25\n",
    "print('incorrect')\n",
    "print('age')\n",
    "\n",
    "print('correct')\n",
    "print(age)"
   ]
  },
  {
   "cell_type": "markdown",
   "metadata": {
    "slideshow": {
     "slide_type": "slide"
    }
   },
   "source": [
    "## Variable assignment rules\n",
    "\n",
    "* The variable is on the left (try doing `25 = age`)\n",
    "* Variable name must be a letter\n",
    "* Variable name cannot contain spaces (we typically use underscores instead)\n",
    "* Uppercase characters and lowercase are distinct (loWer is different from lower)\n",
    "* Variable must exist before usage (try doing `foo + 1`)"
   ]
  },
  {
   "cell_type": "markdown",
   "metadata": {
    "slideshow": {
     "slide_type": "slide"
    }
   },
   "source": [
    "## Primitive data types\n",
    "\n",
    "* We already know strings\n",
    "* There are also integers and floats (among other things)\n",
    "* The `type()` function"
   ]
  },
  {
   "cell_type": "code",
   "execution_count": 5,
   "metadata": {
    "slideshow": {
     "slide_type": "slide"
    }
   },
   "outputs": [
    {
     "name": "stdout",
     "output_type": "stream",
     "text": [
      "Strings are of type <class 'str'>\n",
      "Integers are of type <class 'int'>\n",
      "Decimals are of type <class 'float'>\n"
     ]
    }
   ],
   "source": [
    "string = 'test'\n",
    "print(f\"Strings are of type {type(string)}\")\n",
    "\n",
    "num = 25\n",
    "print(f\"Integers are of type {type(num)}\")\n",
    "\n",
    "decimal = 2.5\n",
    "print(\"Decimals are of type\", type(decimal))"
   ]
  },
  {
   "cell_type": "code",
   "execution_count": 1,
   "metadata": {
    "slideshow": {
     "slide_type": "slide"
    }
   },
   "outputs": [
    {
     "name": "stdout",
     "output_type": "stream",
     "text": [
      "25\n",
      "26\n",
      "27\n"
     ]
    }
   ],
   "source": [
    "# Variables can also be reassigned\n",
    "\n",
    "age = 25\n",
    "print(age)\n",
    "\n",
    "age = 26\n",
    "print(age)\n",
    "\n",
    "older_age = 27\n",
    "age = older_age\n",
    "print(age)"
   ]
  },
  {
   "cell_type": "markdown",
   "metadata": {
    "slideshow": {
     "slide_type": "slide"
    }
   },
   "source": [
    "## The input() function\n",
    "\n",
    "* input() lets you get input from the user\n",
    "* Assign this input to a variable so you can use it\n",
    "* The function takes one _argument_ which is the prompt to the user."
   ]
  },
  {
   "cell_type": "code",
   "execution_count": 2,
   "metadata": {
    "slideshow": {
     "slide_type": "slide"
    }
   },
   "outputs": [
    {
     "name": "stdin",
     "output_type": "stream",
     "text": [
      "Enter your name:  George\n"
     ]
    },
    {
     "name": "stdout",
     "output_type": "stream",
     "text": [
      "Hello George\n"
     ]
    }
   ],
   "source": [
    "# Input example\n",
    "\n",
    "name = input('Enter your name: ')\n",
    "print(\"Hello\", name)"
   ]
  },
  {
   "cell_type": "markdown",
   "metadata": {
    "slideshow": {
     "slide_type": "slide"
    }
   },
   "source": [
    "## More about the input() function\n",
    "\n",
    "* The input from the user is a `string`\n",
    "* You may need to convert it to a number\n",
    "* Use `int(item)` to convert a string to an integer\n",
    "* use `float(item)` to convert a string to a floating point number (decimal)"
   ]
  },
  {
   "cell_type": "code",
   "execution_count": 6,
   "metadata": {
    "slideshow": {
     "slide_type": "slide"
    }
   },
   "outputs": [
    {
     "name": "stdin",
     "output_type": "stream",
     "text": [
      "Enter a number:  4\n"
     ]
    },
    {
     "name": "stdout",
     "output_type": "stream",
     "text": [
      "The type of number_string is <class 'str'>\n",
      "The type of int(number_string) is <class 'int'>\n",
      "Adding 1 to the number = 5\n"
     ]
    },
    {
     "name": "stdin",
     "output_type": "stream",
     "text": [
      "Enter another number:  2.3\n"
     ]
    },
    {
     "name": "stdout",
     "output_type": "stream",
     "text": [
      "The type is <class 'float'>\n",
      "Adding 1 to this number = 3.3\n"
     ]
    }
   ],
   "source": [
    "# Inputting numbers\n",
    "\n",
    "number_string = input('Enter a number: ')\n",
    "print('The type of number_string is', type(number_string))\n",
    "print('The type of int(number_string) is', type(int(number_string)))\n",
    "print('Adding 1 to the number =', int(number_string) + 1)\n",
    "\n",
    "another_number = float(input('Enter another number: '))\n",
    "print('The type is', type(another_number))\n",
    "print('Adding 1 to this number =', another_number + 1)"
   ]
  },
  {
   "cell_type": "markdown",
   "metadata": {
    "slideshow": {
     "slide_type": "slide"
    }
   },
   "source": [
    "## Performing calculations on numbers\n",
    "\n",
    "* `+`, `-`, `*`, `/` are the basic operands\n",
    "* `%` is known as the modulo operator (or division remainder)\n",
    "* `//` is integer division\n",
    "* `**` is for exponentiation"
   ]
  },
  {
   "cell_type": "code",
   "execution_count": 2,
   "metadata": {
    "slideshow": {
     "slide_type": "slide"
    }
   },
   "outputs": [
    {
     "name": "stdout",
     "output_type": "stream",
     "text": [
      "a + b = 7\n",
      "a - b = 1\n",
      "a * b = 12\n",
      "a / b = 1.3333333333333333\n",
      "a // b = 1\n",
      "a % b = 1\n",
      "a ** b = 64\n"
     ]
    }
   ],
   "source": [
    "# Examples\n",
    "a = 4\n",
    "b = 3\n",
    "print('a + b =', a + b)\n",
    "print('a - b =', a - b)\n",
    "print('a * b =', a * b)\n",
    "print('a / b =', a / b)\n",
    "print('a // b =', a // b)\n",
    "print('a % b =', a % b)\n",
    "print('a ** b =', a ** b)"
   ]
  },
  {
   "cell_type": "code",
   "execution_count": null,
   "metadata": {},
   "outputs": [],
   "source": []
  }
 ],
 "metadata": {
  "kernelspec": {
   "display_name": "Python 3",
   "language": "python",
   "name": "python3"
  },
  "language_info": {
   "codemirror_mode": {
    "name": "ipython",
    "version": 3
   },
   "file_extension": ".py",
   "mimetype": "text/x-python",
   "name": "python",
   "nbconvert_exporter": "python",
   "pygments_lexer": "ipython3",
   "version": "3.7.3"
  }
 },
 "nbformat": 4,
 "nbformat_minor": 4
}
