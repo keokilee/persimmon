{
 "cells": [
  {
   "cell_type": "markdown",
   "metadata": {},
   "source": [
    "# Homework 01\n",
    "\n",
    "## Instructions\n",
    "\n",
    "Open the file in Jupyter Lab. Fill out the problems and submit the completed notebook on Laulima."
   ]
  },
  {
   "cell_type": "markdown",
   "metadata": {},
   "source": [
    "## Problem 1: Distance Traveled\n",
    "\n",
    "Assuming there are no accidents or delays, the distance that a car travels down the interstate can be calculated with the following formula:\n",
    "\n",
    "`Distance = Speed * Time`\n",
    "\n",
    "A car is traveling at 70 miles per hour. Write a program that calculates and displays the following:\n",
    "\n",
    "* The distance the car will travel in 6 hours\n",
    "* The distance the car will travel in 10 hours\n",
    "* The distance the car will travel in 15 hours"
   ]
  },
  {
   "cell_type": "code",
   "execution_count": 1,
   "metadata": {},
   "outputs": [],
   "source": [
    "# Input solution here\n"
   ]
  },
  {
   "cell_type": "markdown",
   "metadata": {},
   "source": [
    "## Problem 2: Sales Tax\n",
    "\n",
    "Write a program that will ask the user to enter the amount of a purchase. The program should then display:\n",
    "\n",
    "* The subtotal\n",
    "* The tax amount\n",
    "* The final total (tax included)\n",
    "\n",
    "Assume that the tax amount is 4.667 percent (`0.04667`)."
   ]
  },
  {
   "cell_type": "code",
   "execution_count": 2,
   "metadata": {},
   "outputs": [],
   "source": [
    "# Input solution here\n"
   ]
  },
  {
   "cell_type": "markdown",
   "metadata": {},
   "source": [
    "## Problem 3: Tip calculator\n",
    "\n",
    "As an extension of problem 2, now create a program that allows the user to input a tip percentage (i.e. `20`) and convert it to decimal (`0.2`) as well as the amount of the purchase. The program should then display:\n",
    "\n",
    "* The subtotal\n",
    "* The tax amount\n",
    "* The tip amount (note that the tip percentage is applied to the subtotal)\n",
    "* The final total (tax and tip included)\n",
    "\n",
    "Assume the tax amount is the same as above"
   ]
  },
  {
   "cell_type": "code",
   "execution_count": 5,
   "metadata": {},
   "outputs": [],
   "source": [
    "# Input solution here\n"
   ]
  },
  {
   "cell_type": "markdown",
   "metadata": {},
   "source": [
    "## Problem 4: Celsius to Fahrenheit Converter\n",
    "\n",
    "Write a program that converts Celsius temperatures to Fahrenheit temperatures. The formula is as follows:\n",
    "\n",
    "`F = ((9/5) * C) + 32`\n",
    "\n",
    "The program should ask the user to enter a temperature in Celsius, then display the temperature converted to Fahrenheit."
   ]
  },
  {
   "cell_type": "code",
   "execution_count": 4,
   "metadata": {},
   "outputs": [],
   "source": [
    "# Input solution here\n"
   ]
  },
  {
   "cell_type": "markdown",
   "metadata": {},
   "source": [
    "## Problem 5: Travel costs\n",
    "\n",
    "Write a program that asks for the following information:\n",
    "\n",
    "* Roundtrip airline ticket price\n",
    "* Daily hotel cost\n",
    "* Daily food cost\n",
    "* Number of nights away\n",
    "\n",
    "The program should then compute how much one can expect to spend on their trip. The calculation is:\n",
    "\n",
    "`Roundtrip airline ticket price + number of nights away * (daily hotel cost + daily food cost)`"
   ]
  },
  {
   "cell_type": "code",
   "execution_count": 7,
   "metadata": {},
   "outputs": [],
   "source": [
    "# Input solution here\n"
   ]
  },
  {
   "cell_type": "code",
   "execution_count": null,
   "metadata": {},
   "outputs": [],
   "source": []
  }
 ],
 "metadata": {
  "kernelspec": {
   "display_name": "Python 3",
   "language": "python",
   "name": "python3"
  },
  "language_info": {
   "codemirror_mode": {
    "name": "ipython",
    "version": 3
   },
   "file_extension": ".py",
   "mimetype": "text/x-python",
   "name": "python",
   "nbconvert_exporter": "python",
   "pygments_lexer": "ipython3",
   "version": "3.7.3"
  }
 },
 "nbformat": 4,
 "nbformat_minor": 4
}
