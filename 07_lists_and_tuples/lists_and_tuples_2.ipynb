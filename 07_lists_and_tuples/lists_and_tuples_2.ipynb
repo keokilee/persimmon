{
 "cells": [
  {
   "cell_type": "markdown",
   "metadata": {},
   "source": [
    "# More Lists and Tuples"
   ]
  },
  {
   "cell_type": "markdown",
   "metadata": {
    "slideshow": {
     "slide_type": "slide"
    }
   },
   "source": [
    "## Example: Using List Elements in a Math Expression\n",
    "\n",
    "Megan owns a small neighborhood coffee shop, and she has six employees that work as baristas. All of the employees have the same hourly rate. Megan has asked you to design a program that will allow her to design a progam that will allow her to enter the number of hours worked by each employee and display the amounts of all of the employee's gross pay."
   ]
  },
  {
   "cell_type": "code",
   "execution_count": 1,
   "metadata": {
    "slideshow": {
     "slide_type": "slide"
    }
   },
   "outputs": [
    {
     "name": "stdin",
     "output_type": "stream",
     "text": [
      "Enter the number of hours for barista 1 10\n",
      "Enter the number of hours for barista 2 10\n",
      "Enter the number of hours for barista 3 10\n",
      "Enter the number of hours for barista 4 10\n",
      "Enter the number of hours for barista 5 10\n",
      "Enter the number of hours for barista 6 10\n"
     ]
    },
    {
     "name": "stdout",
     "output_type": "stream",
     "text": [
      "Barista 1 was paid $100\n",
      "Barista 2 was paid $100\n",
      "Barista 3 was paid $100\n",
      "Barista 4 was paid $100\n",
      "Barista 5 was paid $100\n",
      "Barista 6 was paid $100\n",
      "Total paid is $600\n"
     ]
    }
   ],
   "source": [
    "# Calculate the gross pay for baristas\n",
    "def main():\n",
    "    num_baristas = 6 # Could also ask the user for the number of employees\n",
    "    barista_hours = [0] * num_baristas\n",
    "    hourly_pay = 10\n",
    "    \n",
    "    for i in range(num_baristas):\n",
    "        hours = int(input(f\"Enter the number of hours for barista {i + 1}\"))\n",
    "        barista_hours[i] = hours\n",
    "        \n",
    "    total = 0\n",
    "    for i in range(num_baristas):\n",
    "        pay = barista_hours[i] * hourly_pay\n",
    "        print(f\"Barista {i + 1} was paid ${pay}\")\n",
    "        total += pay\n",
    "        \n",
    "    print(f\"Total paid is ${total}\")\n",
    "    \n",
    "main()"
   ]
  },
  {
   "cell_type": "code",
   "execution_count": 4,
   "metadata": {
    "slideshow": {
     "slide_type": "slide"
    }
   },
   "outputs": [
    {
     "name": "stdout",
     "output_type": "stream",
     "text": [
      "The total is 30\n"
     ]
    }
   ],
   "source": [
    "# Totaling the values in a list\n",
    "\n",
    "def main():\n",
    "    numbers = [2, 4, 6, 8, 10]\n",
    "    total = 0\n",
    "    for num in numbers:\n",
    "        total += num\n",
    "        \n",
    "    print(\"The total is\", total)\n",
    "\n",
    "main()"
   ]
  },
  {
   "cell_type": "code",
   "execution_count": 5,
   "metadata": {
    "slideshow": {
     "slide_type": "slide"
    }
   },
   "outputs": [
    {
     "name": "stdout",
     "output_type": "stream",
     "text": [
      "The average is 6.0\n"
     ]
    }
   ],
   "source": [
    "# Averaging the values in a list\n",
    "def main():\n",
    "    numbers = [2, 4, 6, 8, 10]\n",
    "    total = 0\n",
    "    for num in numbers:\n",
    "        total += num\n",
    "        \n",
    "    print(\"The average is\", total / len(numbers))\n",
    "    \n",
    "main()"
   ]
  },
  {
   "cell_type": "code",
   "execution_count": 7,
   "metadata": {
    "slideshow": {
     "slide_type": "slide"
    }
   },
   "outputs": [
    {
     "name": "stdout",
     "output_type": "stream",
     "text": [
      "The average is 6.0\n"
     ]
    }
   ],
   "source": [
    "# Passing a list to a function\n",
    "\n",
    "def total(numbers):\n",
    "    total = 0\n",
    "    for num in numbers:\n",
    "        total += num\n",
    "        \n",
    "    return total\n",
    "\n",
    "def main():\n",
    "    numbers = [2, 4, 6, 8, 10]\n",
    "    sum_total = total(numbers)\n",
    "    print(\"The average is\", sum_total / len(numbers))\n",
    "    \n",
    "main()"
   ]
  },
  {
   "cell_type": "code",
   "execution_count": 10,
   "metadata": {
    "slideshow": {
     "slide_type": "slide"
    }
   },
   "outputs": [
    {
     "name": "stdin",
     "output_type": "stream",
     "text": [
      "Enter number 1 10\n",
      "Enter number 2 20\n"
     ]
    },
    {
     "name": "stdout",
     "output_type": "stream",
     "text": [
      "the total is 30.0\n"
     ]
    }
   ],
   "source": [
    "# Returning a list from a function\n",
    "\n",
    "def get_numbers(num_values):\n",
    "    numbers = []\n",
    "    for i in range(num_values):\n",
    "        number = float(input(f\"Enter number {i + 1}\"))\n",
    "        numbers.append(number)\n",
    "        \n",
    "    return numbers\n",
    "\n",
    "def main():\n",
    "    numbers = get_numbers(2)\n",
    "    print(\"the total is\", total(numbers))\n",
    "    \n",
    "main()"
   ]
  },
  {
   "cell_type": "markdown",
   "metadata": {
    "slideshow": {
     "slide_type": "slide"
    }
   },
   "source": [
    "## Example: Dropping the lowest score\n",
    "\n",
    "A professor gives a series of exams during the semester. At the end of the semester, the professor drops each students lowest test score before averaging the scores. Design a program that reads a student's test scores as input and calculates this final average."
   ]
  },
  {
   "cell_type": "code",
   "execution_count": 4,
   "metadata": {
    "slideshow": {
     "slide_type": "slide"
    }
   },
   "outputs": [
    {
     "name": "stdin",
     "output_type": "stream",
     "text": [
      "How many scores do you have to enter? 2\n",
      "Enter score 1 0\n",
      "Enter score 2 1\n"
     ]
    },
    {
     "name": "stdout",
     "output_type": "stream",
     "text": [
      "The final average is 1.0\n"
     ]
    }
   ],
   "source": [
    "# Drop lowest score\n",
    "def main():\n",
    "    num_scores = int(input(\"How many scores do you have to enter?\"))\n",
    "    scores = []\n",
    "    for i in range(num_scores):\n",
    "        score = int(input(f\"Enter score {i + 1}\"))\n",
    "        scores.append(score)\n",
    "        \n",
    "    # Drop lowest score\n",
    "    lowest_score = min(scores)\n",
    "    scores.remove(lowest_score)\n",
    "    \n",
    "    total = 0\n",
    "    for score in scores:\n",
    "        total += score\n",
    "        \n",
    "    print(\"The final average is\", total / len(scores))\n",
    "    \n",
    "main()"
   ]
  },
  {
   "cell_type": "markdown",
   "metadata": {
    "slideshow": {
     "slide_type": "slide"
    }
   },
   "source": [
    "## Two dimensional lists\n",
    "\n",
    "A two-dimensional list is a list that has other lists as its elements."
   ]
  },
  {
   "cell_type": "code",
   "execution_count": 15,
   "metadata": {
    "slideshow": {
     "slide_type": "slide"
    }
   },
   "outputs": [
    {
     "name": "stdout",
     "output_type": "stream",
     "text": [
      "2\n",
      "['Rhaegar', 'Dany', 'Aegon', 'Viserys']\n",
      "['Sansa', 'Arya', 'Robb', 'Brandon']\n"
     ]
    }
   ],
   "source": [
    "families = [\n",
    "    ['Rhaegar', 'Dany', 'Aegon', 'Viserys'],\n",
    "    ['Sansa', 'Arya', 'Robb', 'Brandon']\n",
    "]\n",
    "print(len(families))\n",
    "print(families[0])\n",
    "print(families[1])"
   ]
  },
  {
   "cell_type": "code",
   "execution_count": 28,
   "metadata": {
    "slideshow": {
     "slide_type": "slide"
    }
   },
   "outputs": [
    {
     "name": "stdout",
     "output_type": "stream",
     "text": [
      "0\t1\t2\t3\t\n",
      "\n",
      "Rhaegar\tDany\tAegon\tViserys\t\n",
      "\n",
      "Sansa\tArya\tRobb\tBrandon\t\n",
      "\n"
     ]
    }
   ],
   "source": [
    "# Print in tabular form\n",
    "families = [\n",
    "    ['Rhaegar', 'Dany', 'Aegon', 'Viserys'],\n",
    "    ['Sansa', 'Arya', 'Robb', 'Brandon']\n",
    "]\n",
    "\n",
    "for i in range(4):\n",
    "    print(str(i) + '\\t', end='')\n",
    "    \n",
    "print(\"\\n\")\n",
    "\n",
    "for members in families:\n",
    "    for member in members:\n",
    "        print(member + '\\t', end='')\n",
    "        \n",
    "    print(\"\\n\")\n",
    "    "
   ]
  },
  {
   "cell_type": "code",
   "execution_count": 24,
   "metadata": {
    "slideshow": {
     "slide_type": "slide"
    }
   },
   "outputs": [
    {
     "name": "stdout",
     "output_type": "stream",
     "text": [
      "Dany\n",
      "Brandon\n"
     ]
    }
   ],
   "source": [
    "families = [\n",
    "    ['Rhaegar', 'Dany', 'Aegon', 'Viserys'],\n",
    "    ['Sansa', 'Arya', 'Robb', 'Brandon']\n",
    "]\n",
    "print(families[0][1])\n",
    "print(families[1][3])"
   ]
  },
  {
   "cell_type": "markdown",
   "metadata": {
    "slideshow": {
     "slide_type": "slide"
    }
   },
   "source": [
    "## Installing MatplotLib to Plot Data\n",
    "\n",
    "* Need a new library called `matplotlib`\n",
    "* Will install alongside Jupyter\n",
    "* `conda install matplotlib`\n",
    "* Verify by using `import matplotlib`"
   ]
  },
  {
   "cell_type": "markdown",
   "metadata": {
    "slideshow": {
     "slide_type": "slide"
    }
   },
   "source": [
    "## Using `pyplot`\n",
    "\n",
    "* `pyplot` is a submodule of `matplotlib`\n",
    "* Can import directly with `import matplotlib.pyplot`\n",
    "* We can _alias_ imports `import matplotlib.pyplot as plt`\n",
    "* Has various functions for plotting data"
   ]
  },
  {
   "cell_type": "code",
   "execution_count": 30,
   "metadata": {
    "slideshow": {
     "slide_type": "slide"
    }
   },
   "outputs": [
    {
     "data": {
      "image/png": "[encoded data removed]",
      "text/plain": [
       "<Figure size 432x288 with 1 Axes>"
      ]
     },
     "metadata": {
      "needs_background": "light"
     },
     "output_type": "display_data"
    }
   ],
   "source": [
    "# Using pyplot's plot function\n",
    "# NOTE: Initial run may take some time\n",
    "import matplotlib.pyplot as plt\n",
    "\n",
    "x_coords = [0, 1, 2, 3, 4]\n",
    "y_coords = [0, 3, 1, 5, 2]\n",
    "\n",
    "plt.plot(x_coords, y_coords)\n",
    "plt.show()"
   ]
  },
  {
   "cell_type": "code",
   "execution_count": 31,
   "metadata": {
    "slideshow": {
     "slide_type": "slide"
    }
   },
   "outputs": [
    {
     "data": {
      "image/png": "[encoded data removed]",
      "text/plain": [
       "<Figure size 432x288 with 1 Axes>"
      ]
     },
     "metadata": {
      "needs_background": "light"
     },
     "output_type": "display_data"
    }
   ],
   "source": [
    "## Adding a title and axis labels\n",
    "import matplotlib.pyplot as plt\n",
    "\n",
    "x_coords = [0, 1, 2, 3, 4]\n",
    "y_coords = [0, 3, 1, 5, 2]\n",
    "\n",
    "plt.plot(x_coords, y_coords)\n",
    "\n",
    "# Add a title\n",
    "plt.title('Sample Data')\n",
    "\n",
    "# Add labels\n",
    "plt.xlabel('This is the X axis')\n",
    "plt.ylabel('This is the Y axis')\n",
    "\n",
    "# Add a grid\n",
    "plt.grid(True)\n",
    "\n",
    "plt.show()"
   ]
  },
  {
   "cell_type": "markdown",
   "metadata": {
    "slideshow": {
     "slide_type": "slide"
    }
   },
   "source": [
    "## Setting the range of values in the graph\n",
    "\n",
    "* x and y axes range is based on the set of values provided\n",
    "* Can provide a range explicitly\n",
    "* `plt.xlim` and `plt.ylim`"
   ]
  },
  {
   "cell_type": "code",
   "execution_count": 32,
   "metadata": {
    "slideshow": {
     "slide_type": "slide"
    }
   },
   "outputs": [
    {
     "data": {
      "image/png": "[encoded data removed]",
      "text/plain": [
       "<Figure size 432x288 with 1 Axes>"
      ]
     },
     "metadata": {
      "needs_background": "light"
     },
     "output_type": "display_data"
    }
   ],
   "source": [
    "## Setting the limits of the plot\n",
    "import matplotlib.pyplot as plt\n",
    "\n",
    "x_coords = [0, 1, 2, 3, 4]\n",
    "y_coords = [0, 3, 1, 5, 2]\n",
    "\n",
    "plt.plot(x_coords, y_coords)\n",
    "\n",
    "# Add a title\n",
    "plt.title('Sample Data')\n",
    "\n",
    "# Add labels\n",
    "plt.xlabel('This is the X axis')\n",
    "plt.ylabel('This is the Y axis')\n",
    "\n",
    "# Add limits\n",
    "plt.xlim(xmin=-5, xmax=5)\n",
    "plt.ylim(ymin=-5, ymax=5)\n",
    "\n",
    "# Add a grid\n",
    "plt.grid(True)\n",
    "\n",
    "plt.show()"
   ]
  },
  {
   "cell_type": "markdown",
   "metadata": {
    "slideshow": {
     "slide_type": "slide"
    }
   },
   "source": [
    "## Adding labels at ticks\n",
    "\n",
    "* `plt.xticks` and `plt.yticks`\n",
    "* Update what is displayed at each tick mark's label\n",
    "* Two arguments, list of tick mark locations and list of labels"
   ]
  },
  {
   "cell_type": "code",
   "execution_count": 33,
   "metadata": {
    "slideshow": {
     "slide_type": "slide"
    }
   },
   "outputs": [
    {
     "data": {
      "text/plain": [
       "([<matplotlib.axis.YTick at 0x10ebaf510>,\n",
       "  <matplotlib.axis.YTick at 0x11dfab490>,\n",
       "  <matplotlib.axis.YTick at 0x11dfc3e90>,\n",
       "  <matplotlib.axis.YTick at 0x11dff0b90>],\n",
       " <a list of 4 Text yticklabel objects>)"
      ]
     },
     "execution_count": 33,
     "metadata": {},
     "output_type": "execute_result"
    },
    {
     "data": {
      "image/png": "[encoded data removed]",
      "text/plain": [
       "<Figure size 432x288 with 1 Axes>"
      ]
     },
     "metadata": {
      "needs_background": "light"
     },
     "output_type": "display_data"
    }
   ],
   "source": [
    "plt.xticks([0, 1, 2], ['Baseball', 'Basketball', 'Football'])\n",
    "plt.yticks([0, 1, 2, 3], ['Zero', 'Quarter', 'Half', 'Three Quarters'])"
   ]
  },
  {
   "cell_type": "markdown",
   "metadata": {
    "slideshow": {
     "slide_type": "slide"
    }
   },
   "source": [
    "## Displaying markers at the data points\n",
    "\n",
    "* Can customize the marker at each data point\n",
    "* Use the keyword argument `marker='o'` within the plot function"
   ]
  },
  {
   "cell_type": "markdown",
   "metadata": {
    "slideshow": {
     "slide_type": "slide"
    }
   },
   "source": [
    "## Marker symbols\n",
    "\n",
    "`marker` argument | Result|\n",
    "------------------|-------|\n",
    "`'o'`| Round dots\n",
    "`'s'`| Squares\n",
    "`'*'`| Stars\n",
    "`'D'`| Diamonds\n",
    "`'^'`| Upward Triangles\n",
    "`'v'`| Downward Triangles\n",
    "`'>'`| Right pointing triangles\n",
    "`'<'`| Left pointing triangles"
   ]
  },
  {
   "cell_type": "code",
   "execution_count": 34,
   "metadata": {
    "slideshow": {
     "slide_type": "slide"
    }
   },
   "outputs": [
    {
     "data": {
      "image/png": "[encoded data removed]",
      "text/plain": [
       "<Figure size 432x288 with 1 Axes>"
      ]
     },
     "metadata": {
      "needs_background": "light"
     },
     "output_type": "display_data"
    }
   ],
   "source": [
    "## Setting the limits of the plot\n",
    "import matplotlib.pyplot as plt\n",
    "\n",
    "x_coords = [0, 1, 2, 3, 4]\n",
    "y_coords = [0, 3, 1, 5, 2]\n",
    "\n",
    "plt.plot(x_coords, y_coords, marker='*')\n",
    "\n",
    "# Add a title\n",
    "plt.title('Sales Chart')\n",
    "\n",
    "# Add labels\n",
    "plt.xlabel('Year')\n",
    "plt.ylabel('Gross sales in millions')\n",
    "\n",
    "# Add limits\n",
    "plt.xlim(xmin=0, xmax=5)\n",
    "plt.ylim(ymin=0, ymax=5)\n",
    "\n",
    "# Add a grid\n",
    "plt.grid(True)\n",
    "\n",
    "# Add ticks\n",
    "\n",
    "plt.xticks([0, 1, 2, 3, 4, 5], ['2015', '2016', '2017', '2018', '2019', '2020'])\n",
    "plt.yticks([1, 2, 3, 4, 5], ['1m', '2m', '3m', '4m', '5m'])\n",
    "\n",
    "plt.show()"
   ]
  },
  {
   "cell_type": "markdown",
   "metadata": {
    "slideshow": {
     "slide_type": "slide"
    }
   },
   "source": [
    "## Plotting a bar chart\n",
    "\n",
    "* We use the `bar` function in `matplotlib.pyplot`\n",
    "* Need two lists\n",
    "    * x coordinates of each bar's left edge\n",
    "    * heights of each bar"
   ]
  },
  {
   "cell_type": "code",
   "execution_count": 35,
   "metadata": {
    "slideshow": {
     "slide_type": "slide"
    }
   },
   "outputs": [
    {
     "data": {
      "image/png": "[encoded data removed]",
      "text/plain": [
       "<Figure size 432x288 with 1 Axes>"
      ]
     },
     "metadata": {
      "needs_background": "light"
     },
     "output_type": "display_data"
    }
   ],
   "source": [
    "# Displaying a simple bar chart\n",
    "import matplotlib.pyplot as plt\n",
    "\n",
    "left_edges = [0, 10, 20, 30, 40]\n",
    "heights = [100, 200, 300, 400, 500]\n",
    "\n",
    "plt.bar(left_edges, heights)\n",
    "plt.show()"
   ]
  },
  {
   "cell_type": "markdown",
   "metadata": {
    "slideshow": {
     "slide_type": "slide"
    }
   },
   "source": [
    "## Changing the width\n",
    "\n",
    "* Default width is 0.8 along the X axis\n",
    "* Change the width by passing a third argument to the `bar` function"
   ]
  },
  {
   "cell_type": "code",
   "execution_count": 36,
   "metadata": {
    "slideshow": {
     "slide_type": "slide"
    }
   },
   "outputs": [
    {
     "data": {
      "image/png": "[encoded data removed]",
      "text/plain": [
       "<Figure size 432x288 with 1 Axes>"
      ]
     },
     "metadata": {
      "needs_background": "light"
     },
     "output_type": "display_data"
    }
   ],
   "source": [
    "import matplotlib.pyplot as plt\n",
    "\n",
    "left_edges = [0, 10, 20, 30, 40]\n",
    "heights = [100, 200, 300, 400, 500]\n",
    "\n",
    "plt.bar(left_edges, heights, 5)\n",
    "plt.show()"
   ]
  },
  {
   "cell_type": "markdown",
   "metadata": {
    "slideshow": {
     "slide_type": "slide"
    }
   },
   "source": [
    "## Changing the colors of the bars\n",
    "\n",
    "We use the `color` parameter to set the color. Below is the set of valid colors. We use a `tuple` to set the color of each bar\n",
    "\n",
    "Color Code | Color\n",
    "-----------|------\n",
    "`'b'`| Blue\n",
    "`'g'`| Green\n",
    "`'r'`| Red\n",
    "`'c'`| Cyan\n",
    "`'m'`| Magenta\n",
    "`'y'`| Yellow\n",
    "`'k'`| Black\n",
    "`'w'`| White"
   ]
  },
  {
   "cell_type": "code",
   "execution_count": 37,
   "metadata": {
    "slideshow": {
     "slide_type": "slide"
    }
   },
   "outputs": [
    {
     "data": {
      "image/png": "[encoded data removed]",
      "text/plain": [
       "<Figure size 432x288 with 1 Axes>"
      ]
     },
     "metadata": {
      "needs_background": "light"
     },
     "output_type": "display_data"
    }
   ],
   "source": [
    "import matplotlib.pyplot as plt\n",
    "\n",
    "left_edges = [0, 10, 20, 30, 40]\n",
    "heights = [100, 200, 300, 400, 500]\n",
    "\n",
    "plt.bar(left_edges, heights, 5, color=('b', 'g', 'r', 'c', 'k'))\n",
    "plt.show()"
   ]
  },
  {
   "cell_type": "markdown",
   "metadata": {
    "slideshow": {
     "slide_type": "slide"
    }
   },
   "source": [
    "## Other customizations on bar charts\n",
    "\n",
    "`title`, `xlabel`, `ylabel`, `xticks`, and `yticks` behave the same as they do in line charts"
   ]
  },
  {
   "cell_type": "code",
   "execution_count": 40,
   "metadata": {
    "slideshow": {
     "slide_type": "slide"
    }
   },
   "outputs": [
    {
     "data": {
      "image/png": "[encoded data removed]",
      "text/plain": [
       "<Figure size 432x288 with 1 Axes>"
      ]
     },
     "metadata": {
      "needs_background": "light"
     },
     "output_type": "display_data"
    }
   ],
   "source": [
    "import matplotlib.pyplot as plt\n",
    "\n",
    "left_edges = [0, 10, 20, 30, 40]\n",
    "heights = [100, 200, 300, 400, 500]\n",
    "bar_width = 10\n",
    "\n",
    "plt.bar(left_edges, heights, bar_width, color=('b', 'g', 'r', 'c', 'k'))\n",
    "\n",
    "plt.title('Sales by Year')\n",
    "plt.xlabel('Year')\n",
    "plt.ylabel('Sales')\n",
    "plt.xticks([5, 15, 25, 35, 45], ['2016', '2017', '2018', '2019', '2020'])\n",
    "plt.yticks([100, 200, 300, 400, 500], ['1m', '2m', '3m', '4m', '5m'])\n",
    "plt.show()"
   ]
  },
  {
   "cell_type": "markdown",
   "metadata": {
    "slideshow": {
     "slide_type": "slide"
    }
   },
   "source": [
    "## Creating pie charts\n",
    "\n",
    "* Use the `pie` function\n",
    "* Pass a list of values as the argument\n",
    "* Calculates sum of values, then each element is a slice in the pie chart"
   ]
  },
  {
   "cell_type": "code",
   "execution_count": 41,
   "metadata": {
    "slideshow": {
     "slide_type": "slide"
    }
   },
   "outputs": [
    {
     "data": {
      "image/png": "[encoded data removed]",
      "text/plain": [
       "<Figure size 432x288 with 1 Axes>"
      ]
     },
     "metadata": {},
     "output_type": "display_data"
    }
   ],
   "source": [
    "# Simple pie chart\n",
    "import matplotlib.pyplot as plt\n",
    "\n",
    "def main():\n",
    "    # Create a list of values\n",
    "    values = [20, 60, 80, 40]\n",
    "    plt.pie(values)\n",
    "    plt.show()\n",
    "    \n",
    "main()"
   ]
  },
  {
   "cell_type": "markdown",
   "metadata": {
    "slideshow": {
     "slide_type": "slide"
    }
   },
   "source": [
    "## Customizing a pie chart\n",
    "\n",
    "* `title` uses the same title function in `matplotlib.pyplot`\n",
    "* Colors for each slice are specified using the `colors` parameter to `pie`\n",
    "* Labels for the pie chart can be set using the `labels` keyword argument\n",
    "* `labels` is a list of labels for the items in the pie"
   ]
  },
  {
   "cell_type": "code",
   "execution_count": 44,
   "metadata": {
    "slideshow": {
     "slide_type": "slide"
    }
   },
   "outputs": [
    {
     "data": {
      "image/png": "[encoded data removed]",
      "text/plain": [
       "<Figure size 432x288 with 1 Axes>"
      ]
     },
     "metadata": {},
     "output_type": "display_data"
    }
   ],
   "source": [
    "# Pie chart with labels\n",
    "import matplotlib.pyplot as plt\n",
    "\n",
    "def main():\n",
    "    # Create a list of values\n",
    "    values = [20, 60, 80, 40]\n",
    "    plt.title('Sales by Quarter')\n",
    "    plt.pie(values,\n",
    "            colors=('r', 'g', 'b', 'k'),\n",
    "            labels=['1st quarter', '2nd quarter', '3rd quarter', '4th quarter'])\n",
    "    plt.show()\n",
    "    \n",
    "main()"
   ]
  },
  {
   "cell_type": "code",
   "execution_count": null,
   "metadata": {},
   "outputs": [],
   "source": []
  }
 ],
 "metadata": {
  "kernelspec": {
   "display_name": "Python 3",
   "language": "python",
   "name": "python3"
  },
  "language_info": {
   "codemirror_mode": {
    "name": "ipython",
    "version": 3
   },
   "file_extension": ".py",
   "mimetype": "text/x-python",
   "name": "python",
   "nbconvert_exporter": "python",
   "pygments_lexer": "ipython3",
   "version": "3.7.4"
  }
 },
 "nbformat": 4,
 "nbformat_minor": 4
}
