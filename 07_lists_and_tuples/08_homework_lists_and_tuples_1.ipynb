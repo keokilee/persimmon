{
 "cells": [
  {
   "cell_type": "markdown",
   "metadata": {},
   "source": [
    "# Homework 08\n",
    "\n",
    "## Instructions\n",
    "\n",
    "Open the file in Jupyter Lab. Fill out the problems and submit the completed notebook on Laulima.\n",
    "\n",
    "## Problem 1: Sum items in a list\n",
    "\n",
    "Write a function that acceps a list as an argument (assume the list contains integers) and returns the total (sum) of the values in the list."
   ]
  },
  {
   "cell_type": "code",
   "execution_count": 1,
   "metadata": {},
   "outputs": [],
   "source": [
    "# Input solution here"
   ]
  },
  {
   "cell_type": "markdown",
   "metadata": {},
   "source": [
    "## Problem 2: Total Sales\n",
    "\n",
    "Design a program that asks the user to enter a store's sales for each day of the week. The amounts should be stored in a list. Use a loop to calculate the total sales for the week and display the result."
   ]
  },
  {
   "cell_type": "code",
   "execution_count": 2,
   "metadata": {},
   "outputs": [],
   "source": [
    "# Input solution here"
   ]
  },
  {
   "cell_type": "markdown",
   "metadata": {},
   "source": [
    "## Problem 3: Charge Account Validation\n",
    "\n",
    "See the attached `account_numbers.txt` file. In it are a list of valid six digit account numbers. Write a program to read the contents of the file. The program should then ask the user for an account number. The program should then check the file for that account number and display whether or not the number could be found."
   ]
  },
  {
   "cell_type": "code",
   "execution_count": 3,
   "metadata": {},
   "outputs": [],
   "source": [
    "# Input solution"
   ]
  },
  {
   "cell_type": "markdown",
   "metadata": {},
   "source": [
    "## Problem 4: Magic 8 Ball\n",
    "\n",
    "Write a program that simulates a Magic 8 Ball, which is a fortune-telling toy that displays a random response to a yes or no question. Your program should have 12 possible responses, varying from yes, no, to maybe. Sample responses are below, but you are encouraged to write your own.\n",
    "\n",
    "Your program should ask the user to input a question. The program should then respond with one of the responses randomly."
   ]
  },
  {
   "cell_type": "code",
   "execution_count": 4,
   "metadata": {},
   "outputs": [],
   "source": [
    "# Input solution here"
   ]
  },
  {
   "cell_type": "markdown",
   "metadata": {},
   "source": [
    "## 8 Ball Responses\n",
    "\n",
    "```\n",
    "Yes, of course!\n",
    "Without a doubt, yes.\n",
    "You can count on it.\n",
    "For sure!\n",
    "Ask me later.\n",
    "I'm not sure.\n",
    "I can't tell you right now.\n",
    "I'll tell you after my nap.\n",
    "No way!\n",
    "I don't think so.\n",
    "Without a doubt, no.\n",
    "The answer is clearly NO.\n",
    "```"
   ]
  }
 ],
 "metadata": {
  "kernelspec": {
   "display_name": "Python 3",
   "language": "python",
   "name": "python3"
  },
  "language_info": {
   "codemirror_mode": {
    "name": "ipython",
    "version": 3
   },
   "file_extension": ".py",
   "mimetype": "text/x-python",
   "name": "python",
   "nbconvert_exporter": "python",
   "pygments_lexer": "ipython3",
   "version": "3.7.4"
  }
 },
 "nbformat": 4,
 "nbformat_minor": 4
}
