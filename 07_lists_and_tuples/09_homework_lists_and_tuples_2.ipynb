{
 "cells": [
  {
   "cell_type": "markdown",
   "metadata": {},
   "source": [
    "# Homework 09\n",
    "\n",
    "## Instructions\n",
    "\n",
    "Open the file in Jupyter Lab. Fill out the problems and submit the completed notebook on Laulima.\n",
    "\n",
    "## Problem 1: Create a line chart from a file\n",
    "\n",
    "The `sample_data.txt` file contains a series of datapoints. Load this into a file and create a graph using these data points. Use the index of the item in the list as the `x` coordinate and the value as the `y` coordinate."
   ]
  },
  {
   "cell_type": "code",
   "execution_count": 1,
   "metadata": {},
   "outputs": [],
   "source": [
    "# Input solution here"
   ]
  },
  {
   "cell_type": "markdown",
   "metadata": {},
   "source": [
    "## Problem 2: Graphing math equations\n",
    "\n",
    "Create a line graph of the values of the square root of `x`. Use `math.sqrt` to calculate the square root of a number. `x` should start at 1 and go to 100 in steps of `0.5` (use the third parameter of the `range` function). This value should be a constant so that we can change the `step` to be as large or as small as we want."
   ]
  },
  {
   "cell_type": "code",
   "execution_count": null,
   "metadata": {},
   "outputs": [],
   "source": [
    "# Input solution here"
   ]
  },
  {
   "cell_type": "markdown",
   "metadata": {},
   "source": [
    "## Problem 3: Pie chart\n",
    "\n",
    "Create a pie chart of the classes you are taking this semester in terms of credits. Each slice should represent how many credits the class takes out of your week. If this is the only class you are taking, use your work time or any other things you do weekly. Consider this class to be 6 hours out of your week."
   ]
  },
  {
   "cell_type": "code",
   "execution_count": 2,
   "metadata": {},
   "outputs": [],
   "source": [
    "# Input solution here"
   ]
  },
  {
   "cell_type": "markdown",
   "metadata": {},
   "source": [
    "## Problem 4: Bar chart\n",
    "\n",
    "The TIOBE index estimates the popularity of programming languages. It can be found at https://www.tiobe.com/tiobe-index/. Create a bar chart with the top 5 programming languages on the list. The x-axis should represent the programming language, and the y-axis should represent the \"ratings\". Use different colors for each programming language.\n",
    "\n",
    "NOTE: The data changes monthly, so you may see different values if you do this question in different months."
   ]
  },
  {
   "cell_type": "code",
   "execution_count": null,
   "metadata": {},
   "outputs": [],
   "source": [
    "# Input solution here"
   ]
  }
 ],
 "metadata": {
  "kernelspec": {
   "display_name": "Python 3",
   "language": "python",
   "name": "python3"
  },
  "language_info": {
   "codemirror_mode": {
    "name": "ipython",
    "version": 3
   },
   "file_extension": ".py",
   "mimetype": "text/x-python",
   "name": "python",
   "nbconvert_exporter": "python",
   "pygments_lexer": "ipython3",
   "version": "3.7.4"
  }
 },
 "nbformat": 4,
 "nbformat_minor": 4
}
