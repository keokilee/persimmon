{
 "cells": [
  {
   "cell_type": "markdown",
   "metadata": {
    "slideshow": {
     "slide_type": "slide"
    }
   },
   "source": [
    "# Lists and Tuples"
   ]
  },
  {
   "cell_type": "markdown",
   "metadata": {},
   "source": [
    "## Sequences\n",
    "\n",
    "A sequence is an object that holds multiple items of data, stored one after the other."
   ]
  },
  {
   "cell_type": "markdown",
   "metadata": {
    "slideshow": {
     "slide_type": "slide"
    }
   },
   "source": [
    "## Lists\n",
    "\n",
    "* A _list_ is an object that can contain multiple data items\n",
    "* These items include strings, numbers, booleans, even other lists!\n",
    "* Lists are _mutable_, meaning their contents can be changed\n",
    "* Similar to arrays"
   ]
  },
  {
   "cell_type": "code",
   "execution_count": 1,
   "metadata": {
    "slideshow": {
     "slide_type": "slide"
    }
   },
   "outputs": [
    {
     "name": "stdout",
     "output_type": "stream",
     "text": [
      "[2, 4, 6, 8, 10]\n"
     ]
    }
   ],
   "source": [
    "# Some examples of lists\n",
    "\n",
    "even_numbers = [2, 4, 6, 8, 10]\n",
    "names = ['Will', 'Lucas', 'Dustin', 'Mike', 'Eleven']\n",
    "print(even_numbers)"
   ]
  },
  {
   "cell_type": "markdown",
   "metadata": {
    "slideshow": {
     "slide_type": "slide"
    }
   },
   "source": [
    "## The `list()` function\n",
    "\n",
    "* Recall that `range` is an iterable\n",
    "* Iterable objects hold a series of values that can be iterated over (like, in a `for` loop)\n",
    "* `list()` can convert an iterable to a list"
   ]
  },
  {
   "cell_type": "code",
   "execution_count": 2,
   "metadata": {
    "slideshow": {
     "slide_type": "slide"
    }
   },
   "outputs": [
    {
     "name": "stdout",
     "output_type": "stream",
     "text": [
      "range(2, 11, 2)\n",
      "[2, 4, 6, 8, 10]\n"
     ]
    }
   ],
   "source": [
    "even_number_range = range(2, 11, 2)\n",
    "print(even_number_range)\n",
    "print(list(even_number_range))"
   ]
  },
  {
   "cell_type": "markdown",
   "metadata": {
    "slideshow": {
     "slide_type": "slide"
    }
   },
   "source": [
    "## Repeating a list\n",
    "\n",
    "* We've seen `+` be different for numbers and strings\n",
    "* The `*` operator can be used on lists to repeat the list\n",
    "* May be useful if you want a list of a certain size"
   ]
  },
  {
   "cell_type": "code",
   "execution_count": 3,
   "metadata": {
    "slideshow": {
     "slide_type": "slide"
    }
   },
   "outputs": [
    {
     "name": "stdout",
     "output_type": "stream",
     "text": [
      "[0, 0, 0, 0, 0]\n",
      "[1, 2, 3, 1, 2, 3, 1, 2, 3, 1, 2, 3, 1, 2, 3, 1, 2, 3]\n"
     ]
    }
   ],
   "source": [
    "# Creating a list of zeroes\n",
    "\n",
    "numbers = [0] * 5\n",
    "print(numbers)\n",
    "\n",
    "numbers = [1, 2, 3] * 6\n",
    "print(numbers)"
   ]
  },
  {
   "cell_type": "code",
   "execution_count": 4,
   "metadata": {
    "slideshow": {
     "slide_type": "slide"
    }
   },
   "outputs": [
    {
     "name": "stdout",
     "output_type": "stream",
     "text": [
      "2\n",
      "4\n",
      "6\n",
      "8\n",
      "10\n"
     ]
    }
   ],
   "source": [
    "# Iterating over a list with a loop\n",
    "\n",
    "numbers = [1, 2, 3, 4, 5]\n",
    "for n in numbers:\n",
    "    print(n * 2)"
   ]
  },
  {
   "cell_type": "markdown",
   "metadata": {
    "slideshow": {
     "slide_type": "slide"
    }
   },
   "source": [
    "## Indexing\n",
    "\n",
    "* Since a list is an ordered sequence of values, we can get the value at any location in the list\n",
    "* We use an _index_ to access the individual elements of the list\n",
    "* Elements are _zero indexed_, meaning the first item can be found at index 0.\n",
    "* The index of the last item is the length of the list minus 1"
   ]
  },
  {
   "cell_type": "code",
   "execution_count": 10,
   "metadata": {
    "slideshow": {
     "slide_type": "slide"
    }
   },
   "outputs": [
    {
     "name": "stdout",
     "output_type": "stream",
     "text": [
      "10\n",
      "40\n",
      "40\n",
      "10\n"
     ]
    },
    {
     "ename": "IndexError",
     "evalue": "list index out of range",
     "output_type": "error",
     "traceback": [
      "\u001b[0;31m---------------------------------------------------------------------------\u001b[0m",
      "\u001b[0;31mIndexError\u001b[0m                                Traceback (most recent call last)",
      "\u001b[0;32m<ipython-input-10-2b27327b9646>\u001b[0m in \u001b[0;36m<module>\u001b[0;34m\u001b[0m\n\u001b[1;32m      9\u001b[0m \u001b[0;34m\u001b[0m\u001b[0m\n\u001b[1;32m     10\u001b[0m \u001b[0;31m# IndexError is raised if we try to use an invalid index\u001b[0m\u001b[0;34m\u001b[0m\u001b[0;34m\u001b[0m\u001b[0;34m\u001b[0m\u001b[0m\n\u001b[0;32m---> 11\u001b[0;31m \u001b[0mnumbers\u001b[0m\u001b[0;34m[\u001b[0m\u001b[0;36m4\u001b[0m\u001b[0;34m]\u001b[0m\u001b[0;34m\u001b[0m\u001b[0;34m\u001b[0m\u001b[0m\n\u001b[0m",
      "\u001b[0;31mIndexError\u001b[0m: list index out of range"
     ]
    }
   ],
   "source": [
    "# Indexing examples\n",
    "numbers = [10, 20, 30, 40]\n",
    "print(numbers[0])\n",
    "print(numbers[4 - 1])\n",
    "\n",
    "# Negative indexes loop backwards through the list\n",
    "print(numbers[-1])\n",
    "print(numbers[-4])\n",
    "\n",
    "# IndexError is raised if we try to use an invalid index\n",
    "numbers[4]"
   ]
  },
  {
   "cell_type": "markdown",
   "metadata": {
    "slideshow": {
     "slide_type": "slide"
    }
   },
   "source": [
    "## The `len()` function\n",
    "\n",
    "* Built-in function that returns the length of a sequence (list or tuple)\n",
    "* Use to prevent an index error exception"
   ]
  },
  {
   "cell_type": "code",
   "execution_count": 11,
   "metadata": {
    "slideshow": {
     "slide_type": "slide"
    }
   },
   "outputs": [
    {
     "name": "stdout",
     "output_type": "stream",
     "text": [
      "4\n"
     ]
    }
   ],
   "source": [
    "# Example using len()\n",
    "\n",
    "my_list = [10, 20, 30, 40]\n",
    "print(len(my_list))"
   ]
  },
  {
   "cell_type": "markdown",
   "metadata": {
    "slideshow": {
     "slide_type": "slide"
    }
   },
   "source": [
    "## Changing values in a list\n",
    "\n",
    "* Recall that lists are _mutable_\n",
    "* An index expression can appear on the left side of an assignment operator\n",
    "* Cannot be used to add items to a list"
   ]
  },
  {
   "cell_type": "code",
   "execution_count": 12,
   "metadata": {
    "slideshow": {
     "slide_type": "slide"
    }
   },
   "outputs": [
    {
     "name": "stdout",
     "output_type": "stream",
     "text": [
      "[1, -1, 3, 4]\n"
     ]
    },
    {
     "ename": "IndexError",
     "evalue": "list assignment index out of range",
     "output_type": "error",
     "traceback": [
      "\u001b[0;31m---------------------------------------------------------------------------\u001b[0m",
      "\u001b[0;31mIndexError\u001b[0m                                Traceback (most recent call last)",
      "\u001b[0;32m<ipython-input-12-c919d95bc147>\u001b[0m in \u001b[0;36m<module>\u001b[0;34m\u001b[0m\n\u001b[1;32m      5\u001b[0m \u001b[0;34m\u001b[0m\u001b[0m\n\u001b[1;32m      6\u001b[0m \u001b[0;31m# Still an index error\u001b[0m\u001b[0;34m\u001b[0m\u001b[0;34m\u001b[0m\u001b[0;34m\u001b[0m\u001b[0m\n\u001b[0;32m----> 7\u001b[0;31m \u001b[0mmy_list\u001b[0m\u001b[0;34m[\u001b[0m\u001b[0;36m4\u001b[0m\u001b[0;34m]\u001b[0m \u001b[0;34m=\u001b[0m \u001b[0;36m5\u001b[0m\u001b[0;34m\u001b[0m\u001b[0;34m\u001b[0m\u001b[0m\n\u001b[0m",
      "\u001b[0;31mIndexError\u001b[0m: list assignment index out of range"
     ]
    }
   ],
   "source": [
    "# Example updating the second item in a list\n",
    "my_list = [1, 2, 3, 4]\n",
    "my_list[1] = -1\n",
    "print(my_list)\n",
    "\n",
    "# Still an index error\n",
    "my_list[4] = 5"
   ]
  },
  {
   "cell_type": "code",
   "execution_count": 15,
   "metadata": {
    "slideshow": {
     "slide_type": "slide"
    }
   },
   "outputs": [
    {
     "name": "stdin",
     "output_type": "stream",
     "text": [
      "How many scores do you have to enter? 2\n",
      "Enter score 1 1\n",
      "Enter score 2 2\n"
     ]
    },
    {
     "name": "stdout",
     "output_type": "stream",
     "text": [
      "The scores you entered are [1, 2]\n"
     ]
    }
   ],
   "source": [
    "# Example program, inserting user input into a list\n",
    "\n",
    "def main():\n",
    "    score_count = int(input(\"How many scores do you have to enter?\"))\n",
    "    scores = [0] * score_count\n",
    "    for i in range(score_count):\n",
    "        scores[i] = int(input(f\"Enter score {i + 1}\"))\n",
    "        \n",
    "    print(\"The scores you entered are\", scores)\n",
    "\n",
    "main()"
   ]
  },
  {
   "cell_type": "markdown",
   "metadata": {
    "slideshow": {
     "slide_type": "slide"
    }
   },
   "source": [
    "## List concatenation\n",
    "\n",
    "* Recall the `+` operator and strings\n",
    "* What does `print(\"Jon \" + \"Snow\")` do?\n",
    "* We can use the same operator for lists to join them together\n",
    "* Note that both operands must be a list."
   ]
  },
  {
   "cell_type": "code",
   "execution_count": 17,
   "metadata": {
    "slideshow": {
     "slide_type": "slide"
    }
   },
   "outputs": [
    {
     "name": "stdout",
     "output_type": "stream",
     "text": [
      "[1, 2, 3, 4, 5, 6, 7, 8]\n"
     ]
    }
   ],
   "source": [
    "# Concatenation example\n",
    "\n",
    "list1 = [1, 2, 3, 4]\n",
    "list1 += [5, 6, 7, 8]\n",
    "print(list1)"
   ]
  },
  {
   "cell_type": "markdown",
   "metadata": {
    "slideshow": {
     "slide_type": "slide"
    }
   },
   "source": [
    "## List slicing\n",
    "\n",
    "* Select a range of elements from a list\n",
    "* Useful when you only care about a certain range (like, top 3)\n",
    "* Syntax is `list_name[start : end]`\n",
    "* Similar to range. Goes from start to end non-inclusive\n",
    "* Start is optional (defaults to 0)\n",
    "* End is optional (defaults to the length of the list)"
   ]
  },
  {
   "cell_type": "code",
   "execution_count": 26,
   "metadata": {
    "slideshow": {
     "slide_type": "slide"
    }
   },
   "outputs": [
    {
     "name": "stdout",
     "output_type": "stream",
     "text": [
      "['Monday', 'Tuesday', 'Wednesday', 'Thursday', 'Friday']\n",
      "['Sunday', 'Monday', 'Tuesday']\n",
      "['Thursday', 'Friday', 'Saturday']\n",
      "['Thursday', 'Friday', 'Saturday']\n",
      "['Sunday', 'Monday', 'Tuesday', 'Wednesday', 'Thursday', 'Friday', 'Saturday']\n"
     ]
    }
   ],
   "source": [
    "## Example slices\n",
    "days = ['Sunday', 'Monday', 'Tuesday', \n",
    "        'Wednesday', 'Thursday', 'Friday', 'Saturday']\n",
    "\n",
    "weekdays = days[1:6]\n",
    "print(weekdays)\n",
    "print(days[:3])\n",
    "print(days[4:])\n",
    "\n",
    "# Negative indexes also work (same rules apply)\n",
    "print(days[-3:])\n",
    "\n",
    "# Leaving out both start and end creates a copy of the list\n",
    "print(days[:])"
   ]
  },
  {
   "cell_type": "markdown",
   "metadata": {
    "slideshow": {
     "slide_type": "slide"
    }
   },
   "source": [
    "## Determining if an item is in the list\n",
    "\n",
    "* Use the `in` operator to determine whether an item is in a list\n",
    "* `item in list` means we are searching for `item` in `list`\n",
    "* `item` is some value, but `list` must be a list"
   ]
  },
  {
   "cell_type": "code",
   "execution_count": 28,
   "metadata": {
    "slideshow": {
     "slide_type": "slide"
    }
   },
   "outputs": [
    {
     "name": "stdout",
     "output_type": "stream",
     "text": [
      "False\n",
      "True\n",
      "False\n"
     ]
    }
   ],
   "source": [
    "# Example using the in operator\n",
    "\n",
    "even_numbers = [2, 4, 6, 8, 10]\n",
    "print(1 in even_numbers)\n",
    "print(2 in even_numbers)\n",
    "print(0 in even_numbers)"
   ]
  },
  {
   "cell_type": "markdown",
   "metadata": {
    "slideshow": {
     "slide_type": "slide"
    }
   },
   "source": [
    "## Useful list methods\n",
    "\n",
    "* Lists are objects, and as such have methods associated with it\n",
    "* `append`\n",
    "* `index`\n",
    "* `insert`\n",
    "* `sort`\n",
    "* `remove`\n",
    "* `reverse`\n",
    "* and others"
   ]
  },
  {
   "cell_type": "markdown",
   "metadata": {
    "slideshow": {
     "slide_type": "slide"
    }
   },
   "source": [
    "## The `append` method\n",
    "\n",
    "* Adds an item to the end of a list\n",
    "* `list.append(item)` adds `item` to the end of `list`"
   ]
  },
  {
   "cell_type": "code",
   "execution_count": 30,
   "metadata": {
    "slideshow": {
     "slide_type": "slide"
    }
   },
   "outputs": [
    {
     "name": "stdout",
     "output_type": "stream",
     "text": [
      "[2, 4, 6, 8, 10, 12]\n"
     ]
    }
   ],
   "source": [
    "# Example using append\n",
    "even_numbers = [2, 4, 6, 8, 10]\n",
    "even_numbers.append(12)\n",
    "print(even_numbers)"
   ]
  },
  {
   "cell_type": "code",
   "execution_count": 33,
   "metadata": {
    "slideshow": {
     "slide_type": "slide"
    }
   },
   "outputs": [
    {
     "name": "stdin",
     "output_type": "stream",
     "text": [
      "Enter a score 10\n",
      "Do you have another score to enter (y/n)? n\n"
     ]
    },
    {
     "name": "stdout",
     "output_type": "stream",
     "text": [
      "[10]\n"
     ]
    }
   ],
   "source": [
    "## Example adding scores\n",
    "def main():\n",
    "    scores = []\n",
    "    has_more_scores = True\n",
    "    while has_more_scores:\n",
    "        score = int(input(\"Enter a score\"))\n",
    "        scores.append(score)\n",
    "        response = input(\"Do you have another score to enter (y/n)?\")\n",
    "        if response != 'y':\n",
    "            has_more_scores = False\n",
    "            \n",
    "    print(scores)\n",
    "            \n",
    "main()"
   ]
  },
  {
   "cell_type": "markdown",
   "metadata": {
    "slideshow": {
     "slide_type": "slide"
    }
   },
   "source": [
    "## The `index` method\n",
    "\n",
    "* We use the `in` operator to determine _if_ an item is in the list\n",
    "* We can use the `index` method to determine _where_ an item is in the list\n",
    "* `list.index(item)` returns the _index_ of the item in the list and raises the `ValueError` exception if the item is not in the list"
   ]
  },
  {
   "cell_type": "code",
   "execution_count": 35,
   "metadata": {
    "slideshow": {
     "slide_type": "slide"
    }
   },
   "outputs": [
    {
     "name": "stdout",
     "output_type": "stream",
     "text": [
      "Here are the most important foods ['Pizza', 'Burger', 'Chips']\n"
     ]
    },
    {
     "name": "stdin",
     "output_type": "stream",
     "text": [
      "Which item should I change? Burger\n",
      "Enter the new value:  Salad\n"
     ]
    },
    {
     "name": "stdout",
     "output_type": "stream",
     "text": [
      "Here is the revised list: ['Pizza', 'Salad', 'Chips']\n"
     ]
    }
   ],
   "source": [
    "## Example using the index method\n",
    "\n",
    "def main():\n",
    "    food = ['Pizza', 'Burger', 'Chips']\n",
    "    print(\"Here are the most important foods\", food)\n",
    "    \n",
    "    item = input(\"Which item should I change?\")\n",
    "    try:\n",
    "        # Get the index of the item\n",
    "        item_index = food.index(item)\n",
    "        \n",
    "        # Get the new value\n",
    "        new_item = input('Enter the new value: ')\n",
    "        \n",
    "        # Replace the item\n",
    "        food[item_index] = new_item\n",
    "        \n",
    "        print(\"Here is the revised list:\", food)\n",
    "    except ValueError:\n",
    "        print(\"Could not find that item in the list\")\n",
    "        \n",
    "main()"
   ]
  },
  {
   "cell_type": "markdown",
   "metadata": {
    "slideshow": {
     "slide_type": "slide"
    }
   },
   "source": [
    "## The `insert` method\n",
    "\n",
    "* The `insert` method allows you to insert an item into a list at a specific position\n",
    "* `list.insert(0, item)` inserts item into list at position 0.\n",
    "* All items at that index or greater are shifted to the right"
   ]
  },
  {
   "cell_type": "code",
   "execution_count": 36,
   "metadata": {
    "slideshow": {
     "slide_type": "slide"
    }
   },
   "outputs": [
    {
     "name": "stdout",
     "output_type": "stream",
     "text": [
      "['Hopper', 'Will', 'Mike', 'Eleven', 'Lucas', 'Dustin']\n"
     ]
    }
   ],
   "source": [
    "## Example using the insert method\n",
    "\n",
    "names = [\"Will\", \"Mike\", \"Eleven\", \"Lucas\", \"Dustin\"]\n",
    "names.insert(0, \"Hopper\")\n",
    "print(names)"
   ]
  },
  {
   "cell_type": "markdown",
   "metadata": {
    "slideshow": {
     "slide_type": "slide"
    }
   },
   "source": [
    "## The `sort` method\n",
    "\n",
    "* `sort` rearranges the elements of a list so they appear in ascending order (lowest to highest)\n",
    "* Works best with homogenous arrays (ones with all the same type of values like all numbers or all strings)"
   ]
  },
  {
   "cell_type": "code",
   "execution_count": 39,
   "metadata": {
    "slideshow": {
     "slide_type": "slide"
    }
   },
   "outputs": [
    {
     "name": "stdout",
     "output_type": "stream",
     "text": [
      "[1, 2, 3, 4]\n",
      "['Dustin', 'Eleven', 'Lucas', 'Mike', 'Will']\n"
     ]
    }
   ],
   "source": [
    "numbers = [4, 3, 2, 1]\n",
    "numbers.sort()\n",
    "print(numbers)\n",
    "\n",
    "names = [\"Will\", \"Mike\", \"Eleven\", \"Lucas\", \"Dustin\"]\n",
    "names.sort()\n",
    "print(names)"
   ]
  },
  {
   "cell_type": "markdown",
   "metadata": {
    "slideshow": {
     "slide_type": "slide"
    }
   },
   "source": [
    "## The `remove` method\n",
    "\n",
    "* The `remove` method removes an item from the list\n",
    "* The item to be removed is passed as an argument, and the first value in the list matching that item is removed (note that the list may contain duplicates)\n",
    "* Raises a `ValueError` if the item could not be found in the list"
   ]
  },
  {
   "cell_type": "code",
   "execution_count": 41,
   "metadata": {
    "slideshow": {
     "slide_type": "slide"
    }
   },
   "outputs": [
    {
     "name": "stdout",
     "output_type": "stream",
     "text": [
      "[1, 1, 1]\n"
     ]
    },
    {
     "ename": "ValueError",
     "evalue": "list.remove(x): x not in list",
     "output_type": "error",
     "traceback": [
      "\u001b[0;31m---------------------------------------------------------------------------\u001b[0m",
      "\u001b[0;31mValueError\u001b[0m                                Traceback (most recent call last)",
      "\u001b[0;32m<ipython-input-41-0914735b07be>\u001b[0m in \u001b[0;36m<module>\u001b[0;34m\u001b[0m\n\u001b[1;32m      2\u001b[0m \u001b[0mones\u001b[0m\u001b[0;34m.\u001b[0m\u001b[0mremove\u001b[0m\u001b[0;34m(\u001b[0m\u001b[0;36m1\u001b[0m\u001b[0;34m)\u001b[0m\u001b[0;34m\u001b[0m\u001b[0;34m\u001b[0m\u001b[0m\n\u001b[1;32m      3\u001b[0m \u001b[0mprint\u001b[0m\u001b[0;34m(\u001b[0m\u001b[0mones\u001b[0m\u001b[0;34m)\u001b[0m\u001b[0;34m\u001b[0m\u001b[0;34m\u001b[0m\u001b[0m\n\u001b[0;32m----> 4\u001b[0;31m \u001b[0mones\u001b[0m\u001b[0;34m.\u001b[0m\u001b[0mremove\u001b[0m\u001b[0;34m(\u001b[0m\u001b[0;36m2\u001b[0m\u001b[0;34m)\u001b[0m\u001b[0;34m\u001b[0m\u001b[0;34m\u001b[0m\u001b[0m\n\u001b[0m",
      "\u001b[0;31mValueError\u001b[0m: list.remove(x): x not in list"
     ]
    }
   ],
   "source": [
    "ones = [1, 1, 1, 1]\n",
    "ones.remove(1)\n",
    "print(ones)\n",
    "ones.remove(2)"
   ]
  },
  {
   "cell_type": "markdown",
   "metadata": {
    "slideshow": {
     "slide_type": "slide"
    }
   },
   "source": [
    "## The `reverse` method\n",
    "\n",
    "* Reverses the items in the list\n",
    "* `list.reverse()`"
   ]
  },
  {
   "cell_type": "code",
   "execution_count": 42,
   "metadata": {
    "slideshow": {
     "slide_type": "slide"
    }
   },
   "outputs": [
    {
     "name": "stdout",
     "output_type": "stream",
     "text": [
      "[4, 3, 2, 1]\n"
     ]
    }
   ],
   "source": [
    "numbers = [1, 2, 3, 4]\n",
    "numbers.reverse()\n",
    "print(numbers)"
   ]
  },
  {
   "cell_type": "markdown",
   "metadata": {
    "slideshow": {
     "slide_type": "slide"
    }
   },
   "source": [
    "## The `del` Statement\n",
    "\n",
    "* `remove` removes a specific `item` from the list\n",
    "* May need to remove an item at a specific _index_\n",
    "* `del` is not a method, but part of a statement\n",
    "* `del list[index]` updates `list` and removes the item at the specified `index`\n",
    "* Remaining items are shifted left"
   ]
  },
  {
   "cell_type": "code",
   "execution_count": 44,
   "metadata": {
    "slideshow": {
     "slide_type": "slide"
    }
   },
   "outputs": [
    {
     "name": "stdout",
     "output_type": "stream",
     "text": [
      "[1, 2, 3, 4]\n"
     ]
    },
    {
     "ename": "IndexError",
     "evalue": "list assignment index out of range",
     "output_type": "error",
     "traceback": [
      "\u001b[0;31m---------------------------------------------------------------------------\u001b[0m",
      "\u001b[0;31mIndexError\u001b[0m                                Traceback (most recent call last)",
      "\u001b[0;32m<ipython-input-44-78c4289db170>\u001b[0m in \u001b[0;36m<module>\u001b[0;34m\u001b[0m\n\u001b[1;32m      3\u001b[0m \u001b[0;32mdel\u001b[0m \u001b[0mmy_list\u001b[0m\u001b[0;34m[\u001b[0m\u001b[0;36m4\u001b[0m\u001b[0;34m]\u001b[0m\u001b[0;34m\u001b[0m\u001b[0;34m\u001b[0m\u001b[0m\n\u001b[1;32m      4\u001b[0m \u001b[0mprint\u001b[0m\u001b[0;34m(\u001b[0m\u001b[0mmy_list\u001b[0m\u001b[0;34m)\u001b[0m\u001b[0;34m\u001b[0m\u001b[0;34m\u001b[0m\u001b[0m\n\u001b[0;32m----> 5\u001b[0;31m \u001b[0;32mdel\u001b[0m \u001b[0mmy_list\u001b[0m\u001b[0;34m[\u001b[0m\u001b[0;36m4\u001b[0m\u001b[0;34m]\u001b[0m\u001b[0;34m\u001b[0m\u001b[0;34m\u001b[0m\u001b[0m\n\u001b[0m",
      "\u001b[0;31mIndexError\u001b[0m: list assignment index out of range"
     ]
    }
   ],
   "source": [
    "# Example of the del statement\n",
    "my_list = [1, 2, 3, 4, 5]\n",
    "del my_list[4]\n",
    "print(my_list)\n",
    "del my_list[4]"
   ]
  },
  {
   "cell_type": "markdown",
   "metadata": {
    "slideshow": {
     "slide_type": "slide"
    }
   },
   "source": [
    "## `min` and `max`\n",
    "\n",
    "* `min` and `max` are built in functions that work with sequences\n",
    "* `min` accepts a sequence and returns the item with the lowest value\n",
    "* `max` accepts a sequence and returns the item with the highest value\n",
    "* Works best when the list consists of numbers"
   ]
  },
  {
   "cell_type": "code",
   "execution_count": 45,
   "metadata": {
    "slideshow": {
     "slide_type": "slide"
    }
   },
   "outputs": [
    {
     "name": "stdout",
     "output_type": "stream",
     "text": [
      "-2\n",
      "2\n"
     ]
    }
   ],
   "source": [
    "# Example min/max\n",
    "numbers = [-2, 0, 2]\n",
    "print(min(numbers))\n",
    "print(max(numbers))"
   ]
  },
  {
   "cell_type": "code",
   "execution_count": null,
   "metadata": {},
   "outputs": [],
   "source": []
  }
 ],
 "metadata": {
  "kernelspec": {
   "display_name": "Python 3",
   "language": "python",
   "name": "python3"
  },
  "language_info": {
   "codemirror_mode": {
    "name": "ipython",
    "version": 3
   },
   "file_extension": ".py",
   "mimetype": "text/x-python",
   "name": "python",
   "nbconvert_exporter": "python",
   "pygments_lexer": "ipython3",
   "version": "3.7.3"
  }
 },
 "nbformat": 4,
 "nbformat_minor": 4
}
