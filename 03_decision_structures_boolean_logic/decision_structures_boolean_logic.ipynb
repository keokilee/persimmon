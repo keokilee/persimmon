{
 "cells": [
  {
   "cell_type": "markdown",
   "metadata": {
    "slideshow": {
     "slide_type": "slide"
    }
   },
   "source": [
    "# Decision Structures and Boolean Logic"
   ]
  },
  {
   "cell_type": "markdown",
   "metadata": {
    "slideshow": {
     "slide_type": "slide"
    }
   },
   "source": [
    "## The `if` statement\n",
    "\n",
    "The `if` statement is used to create a decision structure, which allows a program to have more than one path of execution. The `if` statement causes one or more statements to execute only when a Boolean expression is `True`."
   ]
  },
  {
   "cell_type": "markdown",
   "metadata": {
    "slideshow": {
     "slide_type": "slide"
    }
   },
   "source": [
    "## Control structures\n",
    "\n",
    "* Controls which sets of statements are executed in a program\n",
    "* Sequential code (like using `turtle` to draw) are _sequential structures_\n",
    "* _Control strucutres_ allow your programs to make decisions\n",
    "* For example: calculating overtime"
   ]
  },
  {
   "cell_type": "markdown",
   "metadata": {
    "slideshow": {
     "slide_type": "slide"
    }
   },
   "source": [
    "## Decision structure flowchart\n",
    "\n",
    "See https://en.wikipedia.org/wiki/Flowchart"
   ]
  },
  {
   "cell_type": "markdown",
   "metadata": {
    "slideshow": {
     "slide_type": "slide"
    }
   },
   "source": [
    "## Simple decision structure\n",
    "\n",
    "* https://www.bouraspage.com/repository/algorithmic-thinking/the-single-alternative-decision-structure\n",
    "* If true, then execute a block of statements\n",
    "* Else, nothing"
   ]
  },
  {
   "cell_type": "code",
   "execution_count": 1,
   "metadata": {
    "slideshow": {
     "slide_type": "slide"
    }
   },
   "outputs": [
    {
     "name": "stdin",
     "output_type": "stream",
     "text": [
      "What is the temperature?  50\n"
     ]
    },
    {
     "name": "stdout",
     "output_type": "stream",
     "text": [
      "wear a coat\n",
      "maybe some extra layers, too\n",
      "The temperature is 50\n"
     ]
    }
   ],
   "source": [
    "## If statement example\n",
    "temperature = int(input(\"What is the temperature? \"))\n",
    "\n",
    "if temperature < 60:\n",
    "    print(\"wear a coat\")\n",
    "    print(\"maybe some extra layers, too\")\n",
    "    \n",
    "print(\"The temperature is\", temperature)"
   ]
  },
  {
   "cell_type": "markdown",
   "metadata": {
    "slideshow": {
     "slide_type": "slide"
    }
   },
   "source": [
    "## The Python `if` statement\n",
    "\n",
    "* The format is `if <expression>:` followed by indented statements\n",
    "* By default, your indent is 4 spaces [pep8](https://www.python.org/dev/peps/pep-0008/)\n",
    "* Indented statements are executed if the expression is \"truthy\""
   ]
  },
  {
   "cell_type": "markdown",
   "metadata": {
    "slideshow": {
     "slide_type": "slide"
    }
   },
   "source": [
    "## Boolean expressions\n",
    "\n",
    "* Typically, the expression in a control statement must return `True` or `False`\n",
    "* These special words represent the `boolean` type in Python\n",
    "* We typically use _relational operators_ to determine the relationship between two variables"
   ]
  },
  {
   "cell_type": "markdown",
   "metadata": {
    "slideshow": {
     "slide_type": "slide"
    }
   },
   "source": [
    "## Relational Operators\n",
    "\n",
    "* Typical math operators (`>`, `<`)\n",
    "* We also have `>=` and `<=` for greater/less than or equal to.\n",
    "* We use `==` to determine if two values are equal (not to be confused with assignment)\n",
    "* `!=` to determine if two values are not equal"
   ]
  },
  {
   "cell_type": "code",
   "execution_count": 7,
   "metadata": {
    "slideshow": {
     "slide_type": "slide"
    }
   },
   "outputs": [
    {
     "name": "stdout",
     "output_type": "stream",
     "text": [
      "<class 'bool'>\n",
      "<class 'bool'>\n",
      "a > b = False and a < b = True\n",
      "b >= c = True and b <= c = True\n",
      "b == c = True\n",
      "b != c = False\n"
     ]
    }
   ],
   "source": [
    "## Boolean types\n",
    "print(type(True))\n",
    "print(type(False))\n",
    "\n",
    "a = 1\n",
    "b = 2\n",
    "c = 2\n",
    "\n",
    "print(\"a > b =\", a > b, \"and a < b =\", a < b)\n",
    "print(\"b >= c =\", b >= c, \"and b <= c =\", b <= c)\n",
    "print(\"b == c =\", b == c)\n",
    "print(\"b != c =\", b != c)"
   ]
  },
  {
   "cell_type": "markdown",
   "metadata": {
    "slideshow": {
     "slide_type": "slide"
    }
   },
   "source": [
    "## The `if-else` statement\n",
    "\n",
    "* Dual alternative decision structure https://www.bouraspage.com/repository/algorithmic-thinking/the-dual-alternative-decision-structure\n",
    "* If the expression is `True`, then execute the statements in the `if` block. Otherwise, execute the statements in the `else` block."
   ]
  },
  {
   "cell_type": "code",
   "execution_count": 8,
   "metadata": {
    "slideshow": {
     "slide_type": "slide"
    }
   },
   "outputs": [
    {
     "name": "stdin",
     "output_type": "stream",
     "text": [
      "What is the temperature?  70\n"
     ]
    },
    {
     "name": "stdout",
     "output_type": "stream",
     "text": [
      "you don't need a coat\n",
      "The temperature is 70\n"
     ]
    }
   ],
   "source": [
    "## Example program\n",
    "## If-else statement example\n",
    "temperature = int(input(\"What is the temperature? \"))\n",
    "\n",
    "if temperature < 60:\n",
    "    print(\"wear a coat\")\n",
    "    print(\"maybe some extra layers, too\")\n",
    "else:\n",
    "    print(\"you don't need a coat\")\n",
    "    \n",
    "print(\"The temperature is\", temperature)"
   ]
  },
  {
   "cell_type": "markdown",
   "metadata": {
    "slideshow": {
     "slide_type": "slide"
    }
   },
   "source": [
    "## The Python `if-else` statement\n",
    "\n",
    "* Note that indentation must be consistent\n",
    "* Don't forget the colons!"
   ]
  },
  {
   "cell_type": "markdown",
   "metadata": {
    "slideshow": {
     "slide_type": "slide"
    }
   },
   "source": [
    "## String comparisons\n",
    "\n",
    "* Can check if two strings are equal\n",
    "* Check ordering based on ASCII codes"
   ]
  },
  {
   "cell_type": "code",
   "execution_count": 11,
   "metadata": {
    "slideshow": {
     "slide_type": "slide"
    }
   },
   "outputs": [
    {
     "name": "stdout",
     "output_type": "stream",
     "text": [
      "True\n",
      "False\n",
      "False\n",
      "True\n",
      "False\n",
      "False\n"
     ]
    }
   ],
   "source": [
    "## Example string comparisons\n",
    "female_name = \"Mary\"\n",
    "male_name = \"Mark\"\n",
    "\n",
    "print(male_name == \"Mark\")\n",
    "print(male_name == female_name)\n",
    "print(male_name > \"Mark\")\n",
    "print(male_name >= \"Mark\")\n",
    "print(male_name > female_name)\n",
    "print(male_name > \"mark\")"
   ]
  },
  {
   "cell_type": "markdown",
   "metadata": {
    "slideshow": {
     "slide_type": "slide"
    }
   },
   "source": [
    "## Nested decision structures and the if-elif-else statement\n",
    "\n",
    "* We've been nesting _sequential structures_ in our _control structures_\n",
    "* You may want to embed _control structures_ in other _control_structures_"
   ]
  },
  {
   "cell_type": "code",
   "execution_count": 13,
   "metadata": {
    "slideshow": {
     "slide_type": "slide"
    }
   },
   "outputs": [
    {
     "name": "stdin",
     "output_type": "stream",
     "text": [
      "What is the temperature?  91\n"
     ]
    },
    {
     "name": "stdout",
     "output_type": "stream",
     "text": [
      "Put on some sunscreen!\n",
      "and a hat!\n",
      "The temperature is 91\n"
     ]
    }
   ],
   "source": [
    "## Example program\n",
    "## Nested if statement example\n",
    "temperature = int(input(\"What is the temperature? \"))\n",
    "\n",
    "if temperature < 60:\n",
    "    print(\"wear a coat\")\n",
    "    print(\"maybe some extra layers, too\")\n",
    "else:\n",
    "    if temperature > 90:\n",
    "        print(\"Put on some sunscreen!\")\n",
    "        print(\"and a hat!\")\n",
    "    else:\n",
    "        print(\"you don't need a coat\")\n",
    "    \n",
    "print(\"The temperature is\", temperature)"
   ]
  },
  {
   "cell_type": "markdown",
   "metadata": {
    "slideshow": {
     "slide_type": "slide"
    }
   },
   "source": [
    "## `if-elif-else` statement\n",
    "\n",
    "* What if I want to check if the temperature is less than 70?\n",
    "* Nested if statements can work, but get real messy\n",
    "* `if-elif-else` is equivalent to _if-else if-else_"
   ]
  },
  {
   "cell_type": "code",
   "execution_count": 27,
   "metadata": {
    "slideshow": {
     "slide_type": "slide"
    }
   },
   "outputs": [
    {
     "name": "stdin",
     "output_type": "stream",
     "text": [
      "What is the temperature?  101\n"
     ]
    },
    {
     "name": "stdout",
     "output_type": "stream",
     "text": [
      "Stay inside please\n",
      "The temperature is 101\n"
     ]
    }
   ],
   "source": [
    "## Example program\n",
    "## if-elif-else statement example\n",
    "temperature = int(input(\"What is the temperature? \"))\n",
    "\n",
    "if temperature < 60:\n",
    "    print(\"wear a coat\")\n",
    "    print(\"maybe some extra layers, too\")\n",
    "elif temperature > 90 and temperature < 100:\n",
    "    print(\"Put on some sunscreen!\")\n",
    "    print(\"and a hat!\")\n",
    "elif temperature < 70:\n",
    "    print(\"Kind of cold for Hawaii\")\n",
    "    print(\"maybe you need a jacket\")\n",
    "else:\n",
    "    print(\"you don't need a coat\")\n",
    "    \n",
    "print(\"The temperature is\", temperature)"
   ]
  },
  {
   "cell_type": "markdown",
   "metadata": {
    "slideshow": {
     "slide_type": "slide"
    }
   },
   "source": [
    "## Logical operators\n",
    "\n",
    "* We can combine boolean expressions with `and` or `or`\n",
    "* `not` is the negation operator\n",
    "* We can use `and` and `or` to check numerical ranges"
   ]
  },
  {
   "cell_type": "code",
   "execution_count": 17,
   "metadata": {
    "slideshow": {
     "slide_type": "slide"
    }
   },
   "outputs": [
    {
     "name": "stdout",
     "output_type": "stream",
     "text": [
      "True\n",
      "True\n",
      "True\n",
      "False\n"
     ]
    }
   ],
   "source": [
    "## Logical operators\n",
    "\n",
    "a = 5\n",
    "b = 6\n",
    "c = 7\n",
    "\n",
    "print(a < b and b < c) # a < b < c\n",
    "print(a < b or a > c)\n",
    "print(not a < b)"
   ]
  },
  {
   "cell_type": "markdown",
   "metadata": {
    "slideshow": {
     "slide_type": "slide"
    }
   },
   "source": [
    "## Truth tables\n",
    "\n",
    "|`and`       |True|False|\n",
    "|------------|----|-----|\n",
    "|True|True|False|\n",
    "|False|False|False|\n",
    "\n",
    "|`or`|True|False|\n",
    "|----|----|-----|\n",
    "|True|True|True|\n",
    "|False|True|False|"
   ]
  },
  {
   "cell_type": "markdown",
   "metadata": {
    "slideshow": {
     "slide_type": "slide"
    }
   },
   "source": [
    "## Other notes\n",
    "\n",
    "* Short circuit evaluation\n",
    "* Boolean values can be assigned to a variable"
   ]
  },
  {
   "cell_type": "markdown",
   "metadata": {
    "slideshow": {
     "slide_type": "slide"
    }
   },
   "source": [
    "## Additional turtle operations"
   ]
  },
  {
   "cell_type": "code",
   "execution_count": 26,
   "metadata": {
    "slideshow": {
     "slide_type": "slide"
    }
   },
   "outputs": [
    {
     "name": "stdout",
     "output_type": "stream",
     "text": [
      "0.0\n",
      "True\n",
      "True\n",
      "3\n"
     ]
    }
   ],
   "source": [
    "import turtle\n",
    "\n",
    "# Determine the turtle's heading\n",
    "print(turtle.heading())\n",
    "\n",
    "# Check if the pen is down\n",
    "print(turtle.isdown())\n",
    "\n",
    "# Check if the turtle is visible\n",
    "print(turtle.isvisible())\n",
    "\n",
    "# Check the animation speed of the turtle\n",
    "print(turtle.speed())\n",
    "\n",
    "turtle.done()"
   ]
  }
 ],
 "metadata": {
  "kernelspec": {
   "display_name": "Python 3",
   "language": "python",
   "name": "python3"
  },
  "language_info": {
   "codemirror_mode": {
    "name": "ipython",
    "version": 3
   },
   "file_extension": ".py",
   "mimetype": "text/x-python",
   "name": "python",
   "nbconvert_exporter": "python",
   "pygments_lexer": "ipython3",
   "version": "3.7.0"
  }
 },
 "nbformat": 4,
 "nbformat_minor": 4
}
