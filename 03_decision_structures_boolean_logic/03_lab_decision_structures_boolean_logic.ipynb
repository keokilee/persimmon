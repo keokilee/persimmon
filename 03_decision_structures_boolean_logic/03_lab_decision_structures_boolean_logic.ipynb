{
 "cells": [
  {
   "cell_type": "markdown",
   "metadata": {},
   "source": [
    "# Lab 03\n",
    "\n",
    "## Instructions\n",
    "\n",
    "Open the file in Jupyter Lab. Fill out the problems and submit the completed notebook on Laulima.\n",
    "\n",
    "## Problem 1: Day of the week\n",
    "\n",
    "Write a program that asks a user for a number in the range of 1 through 7. The program should display the corresponding day of the week, where 1 = Monday, 2 = Tuesday, 3 = Wednesday, 4 = Thursday, 5 = Friday, 6 = Saturday, and 7 = Sunday. The program should display an error message if the user enters a number that is outside the range of 1 through 7"
   ]
  },
  {
   "cell_type": "code",
   "execution_count": 1,
   "metadata": {},
   "outputs": [],
   "source": [
    "# Input solution here"
   ]
  },
  {
   "cell_type": "markdown",
   "metadata": {},
   "source": [
    "## Problem 2: Roman Numerals\n",
    "\n",
    "Write a program that prompts the user to enter a number within the range of 1 through 10 (inclusive). The program should display the Roman numeral version of that number. If the number is outside the range of 1 through 10, the program should display an error message. The following table shows the Roman numerals for the numbers 1 through 10.\n",
    "\n",
    "Number | Roman Numeral\n",
    "-------|--------------\n",
    "1|I\n",
    "2|II\n",
    "3|III\n",
    "4|IV\n",
    "5|V\n",
    "6|VI\n",
    "7|VII\n",
    "8|VIII\n",
    "9|IX\n",
    "10|X"
   ]
  },
  {
   "cell_type": "code",
   "execution_count": 2,
   "metadata": {},
   "outputs": [],
   "source": [
    "# Input solution here"
   ]
  },
  {
   "cell_type": "markdown",
   "metadata": {},
   "source": [
    "## Problem 3: Color Mixer\n",
    "\n",
    "The colors red, blue, and yellow are primary colors because they cannot be made by mixing other colors. When you mix two primary colors, you get a secondary color, as shown here:\n",
    "\n",
    "* When you mix red and blue, you get purple\n",
    "* When you mix red and yellow, you get orange\n",
    "* When you mix blue and yellow, you get green\n",
    "\n",
    "Write a program that prompts the user to enter the names of two primary colors to mix. If the user enters anything other than \"red\", \"blue\", or \"yellow\", the program should display an error message. Otherwise, the program should display the name of the secondary color that results."
   ]
  },
  {
   "cell_type": "code",
   "execution_count": 3,
   "metadata": {},
   "outputs": [],
   "source": [
    "# Input solution here"
   ]
  },
  {
   "cell_type": "markdown",
   "metadata": {},
   "source": [
    "## Problem 4 Network troubleshooting\n",
    "\n",
    "The following image shows a simplified flowchart for troubleshooting a bad Wi-Fi connection.\n",
    "\n",
    "![homework image](https://github.com/keokilee/persimmon/blob/master/03_decision_structures_boolean_logic/images/03_homework_image.jpg?raw=true)\n",
    "\n",
    "Use the flowchart to create a program that leads a person through the steps of fixing a bad Wi-Fi connection. Here's an example of the program's output:\n",
    "\n",
    "```\n",
    "Reboot the computer and try to connect.\n",
    "Did that fix the problem? no\n",
    "Reboot the router and try to connect.\n",
    "Did that fix the problem? yes\n",
    "```\n",
    "\n",
    "The program should end if their problem is fixed or they reach the end of the flowchart. Here is another example of the program's output:\n",
    "\n",
    "```\n",
    "Reboot the computer and try to connect.\n",
    "Did that fix the problem? no\n",
    "Reboot the router and try to connect.\n",
    "Did that fix the problem? no\n",
    "Make sure the cables between the router and modem are plugged in firmly.\n",
    "Did that fix the problem? no\n",
    "Move the router to a new location.\n",
    "Did that fix the problem? no\n",
    "Get a new router\n",
    "```"
   ]
  },
  {
   "cell_type": "code",
   "execution_count": null,
   "metadata": {},
   "outputs": [],
   "source": []
  }
 ],
 "metadata": {
  "kernelspec": {
   "display_name": "Python 3",
   "language": "python",
   "name": "python3"
  },
  "language_info": {
   "codemirror_mode": {
    "name": "ipython",
    "version": 3
   },
   "file_extension": ".py",
   "mimetype": "text/x-python",
   "name": "python",
   "nbconvert_exporter": "python",
   "pygments_lexer": "ipython3",
   "version": "3.7.0"
  }
 },
 "nbformat": 4,
 "nbformat_minor": 4
}
