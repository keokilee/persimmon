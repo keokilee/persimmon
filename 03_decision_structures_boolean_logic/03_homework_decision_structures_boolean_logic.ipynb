{
 "cells": [
  {
   "cell_type": "markdown",
   "metadata": {},
   "source": [
    "# Homework 03\n",
    "\n",
    "## Instructions\n",
    "\n",
    "Open the file in Jupyter Lab. Fill out the problems and submit the completed notebook on Laulima.\n",
    "\n",
    "## Problem 1: Areas of rectangles\n",
    "\n",
    "The area of a rectangle is the rectangle's width times its height. Write a program that asks for the length and width of two rectangels. The program should tell the user which rectangle has the greater area, or if the areas are the same."
   ]
  },
  {
   "cell_type": "code",
   "execution_count": 1,
   "metadata": {},
   "outputs": [],
   "source": [
    "# Input solution here"
   ]
  },
  {
   "cell_type": "markdown",
   "metadata": {},
   "source": [
    "## Problem 2: Magic dates\n",
    "\n",
    "The date June 10, 1960, is special because when it is written in the format `6/10/60`, the month times the day equals the year.\n",
    "\n",
    "Write a program tha tasks the user to enter a month (in numeric form), a day, and a two-digit year. The program should then determine whether the month times the day equals the year. If so, it should say the date is magic. Otherwise, the program should display a message saying it is not magic."
   ]
  },
  {
   "cell_type": "code",
   "execution_count": 2,
   "metadata": {},
   "outputs": [],
   "source": [
    "# Input solution here"
   ]
  },
  {
   "cell_type": "markdown",
   "metadata": {},
   "source": [
    "## Problem 3: Roulette Wheel Colors\n",
    "\n",
    "On a roulette wheel, the pockets are numbered from 0 to 36. The colors of the pockets are as follows:\n",
    "\n",
    "* Pocket 0 is green\n",
    "* For pockets 1 through 10, the odd-numbered pockets are red and the even-numbered pockets are black\n",
    "* For pockets 11 through 18, the odd-numbered pockets are black and the even-numbered pockets are red\n",
    "* For pockets 19 through 28, the odd-numbered pockets are red and the even-numbered pockets are black\n",
    "* For pockets 29 through 36, the odd-numbered pockets are black and the even-numbered pockets are red\n",
    "\n",
    "Write a program that asks the user to enter a pocket number and displays whether the pocket is green, red, or black. The program should return an error message if the user enters a number that is outside the range of 0 through 36.\n",
    "\n",
    "(Hint: You can determine if a number is even or odd by using the `%` operator from the previous section. `number % 2` is 0 if the number is even and 1 if the number is odd)"
   ]
  },
  {
   "cell_type": "code",
   "execution_count": 3,
   "metadata": {},
   "outputs": [],
   "source": [
    "# Input solution here"
   ]
  },
  {
   "cell_type": "markdown",
   "metadata": {},
   "source": [
    "## Problem 4: Turtle Graphics: Hit the Target Modification\n",
    "\n",
    "Modify the `hit_the_target` code so that, when the projectile misses the target, it displays hints to the user indicating whether the angle and/or the force value should be increased or decreased. For example, the program should display messages such as `Try a greater angle` and `Use less force`. Make sure to test your changes!"
   ]
  },
  {
   "cell_type": "code",
   "execution_count": 4,
   "metadata": {},
   "outputs": [],
   "source": [
    "# Input solution here. You may choose to copy and paste the hit the target code."
   ]
  }
 ],
 "metadata": {
  "kernelspec": {
   "display_name": "Python 3",
   "language": "python",
   "name": "python3"
  },
  "language_info": {
   "codemirror_mode": {
    "name": "ipython",
    "version": 3
   },
   "file_extension": ".py",
   "mimetype": "text/x-python",
   "name": "python",
   "nbconvert_exporter": "python",
   "pygments_lexer": "ipython3",
   "version": "3.7.0"
  }
 },
 "nbformat": 4,
 "nbformat_minor": 4
}
