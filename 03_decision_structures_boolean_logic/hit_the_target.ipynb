{
 "cells": [
  {
   "cell_type": "code",
   "execution_count": 9,
   "metadata": {},
   "outputs": [
    {
     "name": "stdin",
     "output_type": "stream",
     "text": [
      "Enter the projectile's angle 70\n",
      "Enter the launch force (1-10) 9\n"
     ]
    },
    {
     "name": "stdout",
     "output_type": "stream",
     "text": [
      "You missed the target\n"
     ]
    }
   ],
   "source": [
    "import turtle\n",
    "\n",
    "# Define constants\n",
    "SCREEN_WIDTH = 600\n",
    "SCREEN_HEIGHT = 600\n",
    "TARGET_LLEFT_X = 100\n",
    "TARGET_LLEFT_Y = 250\n",
    "TARGET_WIDTH = 25\n",
    "TARGET_HEIGHT = 25\n",
    "FORCE_FACTOR = 30\n",
    "PROJECTILE_SPEED = 1\n",
    "NORTH = 90\n",
    "SOUTH = 270\n",
    "EAST = 0\n",
    "WEST = 180\n",
    "\n",
    "turtle.setup(SCREEN_WIDTH, SCREEN_HEIGHT)\n",
    "\n",
    "# Draw the target\n",
    "turtle.hideturtle()\n",
    "turtle.speed(0)\n",
    "turtle.penup()\n",
    "turtle.goto(TARGET_LLEFT_X, TARGET_LLEFT_Y)\n",
    "turtle.pendown()\n",
    "turtle.setheading(EAST)\n",
    "turtle.forward(TARGET_WIDTH)\n",
    "turtle.setheading(NORTH)\n",
    "turtle.forward(TARGET_HEIGHT)\n",
    "turtle.setheading(WEST)\n",
    "turtle.forward(TARGET_WIDTH)\n",
    "turtle.setheading(SOUTH)\n",
    "turtle.forward(TARGET_HEIGHT)\n",
    "turtle.penup()\n",
    "\n",
    "turtle.goto(0, 0)\n",
    "turtle.setheading(EAST)\n",
    "turtle.showturtle()\n",
    "turtle.speed(PROJECTILE_SPEED)\n",
    "\n",
    "# Get the angle and force from the user\n",
    "angle = float(input(\"Enter the projectile's angle\"))\n",
    "force = float(input(\"Enter the launch force (1-10)\"))\n",
    "\n",
    "# Calculate distance\n",
    "distance = force * FORCE_FACTOR\n",
    "\n",
    "# Set the heading\n",
    "turtle.setheading(angle)\n",
    "\n",
    "# Launch the projectile\n",
    "turtle.pendown()\n",
    "turtle.forward(distance)\n",
    "\n",
    "# Did it hit the target?\n",
    "xcor = turtle.xcor()\n",
    "ycor = turtle.ycor()\n",
    "\n",
    "inside_width = xcor >= TARGET_LLEFT_X and xcor <= TARGET_LLEFT_X + TARGET_WIDTH\n",
    "inside_height = ycor >= TARGET_LLEFT_Y and ycor <= TARGET_LLEFT_Y + TARGET_HEIGHT\n",
    "\n",
    "if inside_width and inside_height:\n",
    "    print(\"Target hit!\")\n",
    "else:\n",
    "    print(\"You missed the target\")\n",
    "\n",
    "turtle.done()"
   ]
  }
 ],
 "metadata": {
  "kernelspec": {
   "display_name": "Python 3",
   "language": "python",
   "name": "python3"
  },
  "language_info": {
   "codemirror_mode": {
    "name": "ipython",
    "version": 3
   },
   "file_extension": ".py",
   "mimetype": "text/x-python",
   "name": "python",
   "nbconvert_exporter": "python",
   "pygments_lexer": "ipython3",
   "version": "3.7.0"
  }
 },
 "nbformat": 4,
 "nbformat_minor": 4
}
