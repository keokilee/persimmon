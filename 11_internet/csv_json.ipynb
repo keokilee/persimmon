{
 "cells": [
  {
   "cell_type": "markdown",
   "metadata": {},
   "source": [
    "# CSV and JSON data"
   ]
  },
  {
   "cell_type": "markdown",
   "metadata": {},
   "source": [
    "## CSV data\n",
    "\n",
    "* \"Comma Separated Values\"\n",
    "* Simple format for dumping data\n",
    "* Spreadsheet apps handle this format\n",
    "* Separator does not need to be commas!"
   ]
  },
  {
   "cell_type": "markdown",
   "metadata": {},
   "source": [
    "## Using the `csv` Module\n",
    "\n",
    "* Using the module over `split`\n",
    "* Handles some cases better than your code\n",
    "* `import csv`\n",
    "* Use the module to create a \"reader\" or a \"writer\""
   ]
  },
  {
   "cell_type": "code",
   "execution_count": 2,
   "metadata": {},
   "outputs": [
    {
     "name": "stdout",
     "output_type": "stream",
     "text": [
      "Row #1 ['4/5/2015 13:34', 'Apples', '73']\n",
      "Row #2 ['4/5/2015 3:41', 'Cherries', '85']\n",
      "Row #3 ['4/6/2015 12:46', 'Pears', '14']\n",
      "Row #4 ['4/8/2015 8:59', 'Oranges', '52']\n",
      "Row #5 ['4/10/2015 2:07', 'Apples', '152']\n",
      "Row #6 ['4/10/2015 18:10', 'Bananas', '23']\n",
      "Row #7 ['4/10/2015 2:40', 'Strawberries', '98']\n"
     ]
    }
   ],
   "source": [
    "# Reading CSV files\n",
    "import csv\n",
    "\n",
    "exampleFile = open('sample.csv', 'r')\n",
    "exampleReader = csv.reader(exampleFile)\n",
    "for row in exampleReader:\n",
    "    print(f\"Row #{exampleReader.line_num} {row}\")\n",
    "    \n",
    "exampleFile.close()"
   ]
  },
  {
   "cell_type": "code",
   "execution_count": 4,
   "metadata": {},
   "outputs": [],
   "source": [
    "# Writing CSV files\n",
    "import csv\n",
    "\n",
    "outputFile = open('output.csv', 'w')\n",
    "outputWriter = csv.writer(outputFile)\n",
    "\n",
    "outputWriter.writerow(['spam', 'bacon', 'eggs', 'ham'])\n",
    "outputWriter.writerow(['', 'sam', 'I', 'am'])\n",
    "outputFile.close()"
   ]
  },
  {
   "cell_type": "markdown",
   "metadata": {},
   "source": [
    "## JSON\n",
    "\n",
    "* _JavaScript Object Notation_\n",
    "* More complex than CSV\n",
    "* Pretty much dictionaries and lists"
   ]
  },
  {
   "cell_type": "markdown",
   "metadata": {},
   "source": [
    "## APIs\n",
    "\n",
    "* Web applications sometimes expose an _API_\n",
    "* _Application Programming Interface_\n",
    "* Allows programs to access their data via URLs\n",
    "* Nowadays, typically return _JSON_\n",
    "* Data is more structured than scraping a web page"
   ]
  },
  {
   "cell_type": "markdown",
   "metadata": {},
   "source": [
    "## Using Python To Read JSON\n",
    "\n",
    "* `import json`\n",
    "* Use `json.loads` and `json.dumps`\n",
    "* Not all data can be dumped to JSON (like files)"
   ]
  },
  {
   "cell_type": "code",
   "execution_count": 6,
   "metadata": {},
   "outputs": [
    {
     "name": "stdout",
     "output_type": "stream",
     "text": [
      "<class 'str'>\n",
      "<class 'dict'>\n"
     ]
    }
   ],
   "source": [
    "# Example loading and dumping JSON data\n",
    "import json\n",
    "\n",
    "\n",
    "data = {\"name\": \"George\", \"classes\": [{\"name\": \"ics110p\", \"student_count\": 20}]}\n",
    "jsonData = json.dumps(data)\n",
    "print(type(jsonData))\n",
    "loadedData = json.loads(jsonData)\n",
    "print(type(loadedData))"
   ]
  },
  {
   "cell_type": "code",
   "execution_count": null,
   "metadata": {},
   "outputs": [],
   "source": [
    "# Loading data using an API\n",
    "import requests, json\n",
    "\n",
    "\n",
    "def fetch_weather_data(location):\n",
    "    url = f\"http://api.openweathermap.org/data/2.5/weather?q={location}&appid=<INSERT YOUR API KEY HERE>\"\n",
    "    res = requests.get(url)\n",
    "    res.raise_for_status()\n",
    "    data = json.loads(res.text)\n",
    "    return data\n",
    "\n",
    "def kelvin_to_fahrenheit(temperature):\n",
    "    celsius = temperature - 273\n",
    "    fahrenheit = ((9 / 5) * celsius) + 32\n",
    "    return fahrenheit\n",
    "\n",
    "def main():\n",
    "    location = input(\"Enter a location\")\n",
    "    data = fetch_weather_data(location)\n",
    "    kelvin = data['main']['temp']\n",
    "    temperature = kelvin_to_fahrenheit(kelvin)\n",
    "    weather = data['weather'][0]\n",
    "    print(f\"Weather in {location} is {weather['description']} and the temperature is {temperature}\")\n",
    "    \n",
    "main()"
   ]
  }
 ],
 "metadata": {
  "kernelspec": {
   "display_name": "Python 3",
   "language": "python",
   "name": "python3"
  },
  "language_info": {
   "codemirror_mode": {
    "name": "ipython",
    "version": 3
   },
   "file_extension": ".py",
   "mimetype": "text/x-python",
   "name": "python",
   "nbconvert_exporter": "python",
   "pygments_lexer": "ipython3",
   "version": "3.7.5"
  }
 },
 "nbformat": 4,
 "nbformat_minor": 4
}
