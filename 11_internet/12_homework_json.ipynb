{
 "cells": [
  {
   "cell_type": "markdown",
   "metadata": {},
   "source": [
    "# Homework 12\n",
    "\n",
    "## Instructions\n",
    "\n",
    "Open the file in Jupyter Lab. Fill out the problems and submit the completed notebook on Laulima.\n",
    "\n",
    "## Use the DarkSky API to fetch weather data\n",
    "\n",
    "The Dark Sky API allows you to make up to 1,000 API calls per day for free. You will need to sign up for a key at:\n",
    "\n",
    "https://darksky.net/dev\n",
    "\n",
    "Once you do that, you will get an API key. API providers use this as a way to track who's using their API. The API key must be passed in to your API calls:\n",
    "\n",
    "`https://api.darksky.net/forecast/<api key>/<lat>,<long>`\n",
    "\n",
    "For this task, ask the user to input a latitude and a longitude. Use this data to ask Dark Sky for the current weather conditions. Display the current conditions as well as the daily forecast. See the following link for documentation:\n",
    "\n",
    "https://darksky.net/dev/docs#forecast-request\n",
    "\n",
    "Typically, you do _NOT_ want to send anyone your API key, but we'll be nice if you do so accidentally."
   ]
  },
  {
   "cell_type": "code",
   "execution_count": 1,
   "metadata": {},
   "outputs": [],
   "source": [
    "# Input solution here"
   ]
  }
 ],
 "metadata": {
  "kernelspec": {
   "display_name": "Python 3",
   "language": "python",
   "name": "python3"
  },
  "language_info": {
   "codemirror_mode": {
    "name": "ipython",
    "version": 3
   },
   "file_extension": ".py",
   "mimetype": "text/x-python",
   "name": "python",
   "nbconvert_exporter": "python",
   "pygments_lexer": "ipython3",
   "version": "3.7.5"
  }
 },
 "nbformat": 4,
 "nbformat_minor": 4
}
