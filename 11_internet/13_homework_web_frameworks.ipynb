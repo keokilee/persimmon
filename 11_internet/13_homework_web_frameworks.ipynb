{
 "cells": [
  {
   "cell_type": "markdown",
   "metadata": {},
   "source": [
    "# Homework 13\n",
    "\n",
    "Complete the [Flask tutorial](https://flask.palletsprojects.com/en/1.1.x/tutorial/) up to the [Blog Blueprint](https://flask.palletsprojects.com/en/1.1.x/tutorial/blog/) section. The other sections are optional, but feel free to do them if you're interested (The test coverage section would be highly useful if you're going to go into software engineering). Zip your completed folder and attach it to your Laulima submission."
   ]
  },
  {
   "cell_type": "code",
   "execution_count": null,
   "metadata": {},
   "outputs": [],
   "source": []
  }
 ],
 "metadata": {
  "kernelspec": {
   "display_name": "Python 3",
   "language": "python",
   "name": "python3"
  },
  "language_info": {
   "codemirror_mode": {
    "name": "ipython",
    "version": 3
   },
   "file_extension": ".py",
   "mimetype": "text/x-python",
   "name": "python",
   "nbconvert_exporter": "python",
   "pygments_lexer": "ipython3",
   "version": "3.7.5"
  }
 },
 "nbformat": 4,
 "nbformat_minor": 4
}
