{
 "cells": [
  {
   "cell_type": "markdown",
   "metadata": {},
   "source": [
    "# Lab 12\n",
    "\n",
    "## Instructions\n",
    "\n",
    "Open the file in Jupyter Lab. Fill out the problems and submit the completed notebook on Laulima.\n",
    "\n",
    "## Scraping the class availability site\n",
    "\n",
    "Create a program that lets you put in a UH Manoa department and fetches the classes for that department along with their enrollment. The class availability site for this semester is:\n",
    "\n",
    "https://www.sis.hawaii.edu/uhdad/avail.classes?i=MAN&t=202010\n",
    "\n",
    "This is a big task, so let's break it down into steps.\n",
    "\n",
    "1. Ask the user to input a department.\n",
    "2. Go to the class listing for that department (For example, ICS is https://www.sis.hawaii.edu/uhdad/avail.classes?i=MAN&t=202010&s=ICS). Note that the department (`ICS`) is at the end. Instead, you'll want to put in the user inputted department.\n",
    "3. Search the table of entries for classes.\n",
    "\n",
    "The last task is easier said than done. Let's break down the structure of the website. You will want to use Beautiful Soup's selector to select the rows of the table (`soup.select('.listOfClasses tr')`). In these rows are columns, or `td` tags. So for each row, you'll want to select the column tags (`tag.select('td')`). These column tags contain the information of the class. There are two things to watch out for:\n",
    "\n",
    "* The first row has the headers (which use `th` tags), so this appears empty.\n",
    "* Some classes take up multiple rows. You may see some garbage or just whitespace. Filter these rows out.\n",
    "\n",
    "Below is sample code for scraping the class names for ICS. You may use this sample code, but format it better. Pass the resposne text in to the function to have it scrape the listing."
   ]
  },
  {
   "cell_type": "code",
   "execution_count": 29,
   "metadata": {},
   "outputs": [],
   "source": [
    "# Input solution here\n",
    "\n",
    "import requests, bs4\n",
    "\n",
    "BASE_AVAILABILITY_URL = \"https://www.sis.hawaii.edu/uhdad/avail.classes?i=MAN&t=202010&s=\"\n",
    "\n",
    "def scrape_availability(text):\n",
    "    soup = bs4.BeautifulSoup(text)\n",
    "    rows = soup.select('.listOfClasses tr')\n",
    "\n",
    "    for row in rows[1:]:\n",
    "        columns = row.select('td')\n",
    "        class_name = columns[2].contents[0]\n",
    "        if len(class_name) > 1 and class_name != b'\\xa0':\n",
    "            print(class_name)\n",
    "            print(columns[4].contents[0])\n",
    "            print(columns[7].contents[0])\n",
    "            print(columns[8].contents[0])\n"
   ]
  },
  {
   "cell_type": "code",
   "execution_count": null,
   "metadata": {},
   "outputs": [],
   "source": []
  }
 ],
 "metadata": {
  "kernelspec": {
   "display_name": "Python 3",
   "language": "python",
   "name": "python3"
  },
  "language_info": {
   "codemirror_mode": {
    "name": "ipython",
    "version": 3
   },
   "file_extension": ".py",
   "mimetype": "text/x-python",
   "name": "python",
   "nbconvert_exporter": "python",
   "pygments_lexer": "ipython3",
   "version": "3.7.5"
  }
 },
 "nbformat": 4,
 "nbformat_minor": 4
}
