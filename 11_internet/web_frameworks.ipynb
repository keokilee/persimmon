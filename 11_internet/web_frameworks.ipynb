{
 "cells": [
  {
   "cell_type": "markdown",
   "metadata": {},
   "source": [
    "# Web application frameworks"
   ]
  },
  {
   "cell_type": "markdown",
   "metadata": {},
   "source": [
    "## Web Sites and Web Applications\n",
    "\n",
    "* Web sites are static (just HTML files)\n",
    "* These files may be generated using scripts (static site generators)\n",
    "* Web applications generate dynamic content\n",
    "* Line is blurry because of JavaScript"
   ]
  },
  {
   "cell_type": "markdown",
   "metadata": {},
   "source": [
    "## Web Servers\n",
    "\n",
    "* These handle opening network ports and passing on HTTP requests\n",
    "* Nginx/Apache\n",
    "* First line of defense between your computer and the outside world"
   ]
  },
  {
   "cell_type": "markdown",
   "metadata": {},
   "source": [
    "## Web Application Frameworks\n",
    "\n",
    "* Many things to consider when responding to a HTTP request\n",
    "* Frameworks provide an _abstraction_ that makes it easier to handle requests\n",
    "* Frameworks also provide a way to organize your code\n",
    "* Python web frameworks include [Django](https://www.djangoproject.com/) and [Flask](https://flask.palletsprojects.com/)"
   ]
  },
  {
   "cell_type": "markdown",
   "metadata": {},
   "source": [
    "## Flask\n",
    "\n",
    "* Small, simple web server\n",
    "* `conda install flask`\n",
    "* Note, you may want to run the server in an Anaconda prompt"
   ]
  },
  {
   "cell_type": "markdown",
   "metadata": {},
   "source": [
    "## Creating a Flask application\n",
    "\n",
    "* Create a separate folder for your web application\n",
    "* In Jupyter, create a new _text_ file and rename it to `server.py`\n",
    "* Edit the `server.py` file\n",
    "* Set the environment variable in your Anaconda prompt\n",
    "    * Mac/Linux: `export FLASK_APP=server.py`\n",
    "    * Windows Command Prompt: `set FLASK_APP=server.py`\n",
    "    * Windows Powershell: `$env.FLASK_APP = \"hello.py\"`\n",
    "* Run the server: `flask run`"
   ]
  },
  {
   "cell_type": "markdown",
   "metadata": {},
   "source": [
    "## Decorators\n",
    "\n",
    "* The `@` sign that you see above a function\n",
    "* Decorators wrap a function call in another function call.\n",
    "* This allows the framework author to augment your code"
   ]
  },
  {
   "cell_type": "code",
   "execution_count": 1,
   "metadata": {},
   "outputs": [
    {
     "name": "stdout",
     "output_type": "stream",
     "text": [
      "Before the function call\n",
      "Hello world\n",
      "After the function call\n"
     ]
    }
   ],
   "source": [
    "# Decorator implementation\n",
    "def demo_decorator(func):\n",
    "    def wrapper():\n",
    "        print(\"Before the function call\")\n",
    "        func()\n",
    "        print(\"After the function call\")\n",
    "        \n",
    "    return wrapper\n",
    "\n",
    "@demo_decorator\n",
    "def hello():\n",
    "    print(\"Hello world\")\n",
    "    \n",
    "hello()"
   ]
  },
  {
   "cell_type": "markdown",
   "metadata": {},
   "source": [
    "## Flask Tutorial\n",
    "\n",
    "* Quickstart https://flask.palletsprojects.com/en/1.1.x/quickstart/\n",
    "* Tutorial https://flask.palletsprojects.com/en/1.1.x/tutorial/"
   ]
  },
  {
   "cell_type": "code",
   "execution_count": null,
   "metadata": {},
   "outputs": [],
   "source": []
  }
 ],
 "metadata": {
  "kernelspec": {
   "display_name": "Python 3",
   "language": "python",
   "name": "python3"
  },
  "language_info": {
   "codemirror_mode": {
    "name": "ipython",
    "version": 3
   },
   "file_extension": ".py",
   "mimetype": "text/x-python",
   "name": "python",
   "nbconvert_exporter": "python",
   "pygments_lexer": "ipython3",
   "version": "3.7.5"
  }
 },
 "nbformat": 4,
 "nbformat_minor": 4
}
