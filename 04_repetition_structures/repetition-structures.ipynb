{
 "cells": [
  {
   "cell_type": "markdown",
   "metadata": {},
   "source": [
    "# Repetition Structures"
   ]
  },
  {
   "cell_type": "markdown",
   "metadata": {},
   "source": [
    "## Definition\n",
    "\n",
    "A _repetition structure_ causes a statement or set of statements to execute repeatedly"
   ]
  },
  {
   "cell_type": "markdown",
   "metadata": {},
   "source": [
    "## Problem (From Lab 1)\n",
    "\n",
    "A customer in a store is purchasing five items. Write a program that asks for the price of each item, then displays the subtotal of the sale, the amount of sales tax, and the total. Assume the sales tax is 7 percent."
   ]
  },
  {
   "cell_type": "code",
   "execution_count": 4,
   "metadata": {},
   "outputs": [
    {
     "name": "stdin",
     "output_type": "stream",
     "text": [
      "Enter the price of item 1:  1\n",
      "Enter the price of item 2:  2\n",
      "Enter the price of item 3:  3\n",
      "Enter the price of item 4:  4\n",
      "Enter the price of item 5:  5\n"
     ]
    },
    {
     "name": "stdout",
     "output_type": "stream",
     "text": [
      "subtotal = 15.0, sales_tax = 1.05, total = 16.05\n"
     ]
    }
   ],
   "source": [
    "subtotal = 0\n",
    "for i in range(5):\n",
    "    subtotal = subtotal + float(input(f\"Enter the price of item {i + 1}: \"))\n",
    "\n",
    "sales_tax = subtotal * 0.07\n",
    "total = subtotal + sales_tax\n",
    "print(f\"subtotal = {subtotal}, sales_tax = {sales_tax}, total = {total}\")"
   ]
  },
  {
   "cell_type": "markdown",
   "metadata": {},
   "source": [
    "## Types of loops\n",
    "\n",
    "* Condition-Controlled (`while`)\n",
    "* Count-Controlled (`for`)"
   ]
  },
  {
   "cell_type": "markdown",
   "metadata": {},
   "source": [
    "## The `while` Loop\n",
    "\n",
    "* While a condition is true, do a task\n",
    "* `condition` is a logical expression\n",
    "* Each time the loop runs is called an _iteration_"
   ]
  },
  {
   "cell_type": "markdown",
   "metadata": {},
   "source": [
    "![While loop logic](images/while_loop.png)"
   ]
  },
  {
   "cell_type": "markdown",
   "metadata": {},
   "source": [
    "```\n",
    "while condition:\n",
    "    statement\n",
    "    statement\n",
    "    ...\n",
    "    \n",
    "statements after while loop is done\n",
    "```"
   ]
  },
  {
   "cell_type": "code",
   "execution_count": null,
   "metadata": {},
   "outputs": [],
   "source": [
    "# Example: Are we there yet?\n",
    "\n",
    "there = False\n",
    "\n",
    "while not there:\n",
    "    response = input(\"Are we there yet? (y/n)\")\n",
    "    if response == \"y\":\n",
    "        there = True\n",
    "    \n",
    "print(\"Finally!\")"
   ]
  },
  {
   "cell_type": "code",
   "execution_count": null,
   "metadata": {},
   "outputs": [],
   "source": [
    "# Example: Calculating the average\n",
    "total = 0\n",
    "count = 0\n",
    "keep_going = 'y'\n",
    "\n",
    "while keep_going == 'y':\n",
    "    count += 1 # Same as count = count + 1\n",
    "    total += float(input(\"Enter a number: \"))\n",
    "    keep_going = input(\"Do you have another number? (y/n)\")\n",
    "    \n",
    "average = total / count\n",
    "print(\"The average is\", average)"
   ]
  },
  {
   "cell_type": "markdown",
   "metadata": {},
   "source": [
    "## Infinite loops\n",
    "\n",
    "* Usually, some condition will make the loop terminate\n",
    "* However, if the condition is always `True`, then it goes forever\n",
    "* Must use `CTRL-C` to terminate (or stop the kernel)\n",
    "* Used in games when waiting for user input"
   ]
  },
  {
   "cell_type": "markdown",
   "metadata": {},
   "source": [
    "## The `for` Loop\n",
    "\n",
    "* Iterates a specific number of times\n",
    "* Python `for` loops typically iterate over a list\n",
    "* Each item in the list is assigned to a _target variable_"
   ]
  },
  {
   "cell_type": "code",
   "execution_count": 2,
   "metadata": {},
   "outputs": [
    {
     "name": "stdout",
     "output_type": "stream",
     "text": [
      "1\n",
      "2\n",
      "3\n",
      "4\n",
      "5\n"
     ]
    }
   ],
   "source": [
    "# Simple loop\n",
    "\n",
    "for num in [1, 2, 3, 4, 5]:\n",
    "    print(num)"
   ]
  },
  {
   "cell_type": "code",
   "execution_count": 3,
   "metadata": {},
   "outputs": [
    {
     "name": "stdout",
     "output_type": "stream",
     "text": [
      "hello\n",
      "world\n",
      "1\n",
      "True\n"
     ]
    }
   ],
   "source": [
    "# List of items can be anything\n",
    "\n",
    "for text in [\"hello\", \"world\", 1, True]:\n",
    "    print(text)\n"
   ]
  },
  {
   "cell_type": "markdown",
   "metadata": {},
   "source": [
    "## Basic syntax\n",
    "\n",
    "```\n",
    "for variable in [value1, value2, value3, etc.]:\n",
    "    statement\n",
    "    statement\n",
    "    etc.\n",
    "```"
   ]
  },
  {
   "cell_type": "markdown",
   "metadata": {},
   "source": [
    "## The `range` function\n",
    "\n",
    "* Built in function that simplifies using a count-controlled loop\n",
    "* Creates an _iterable_ object that can be used by a `for` loop\n",
    "* Generates a sequence of numbers starting from 0 up to (but not including) a number\n",
    "* https://docs.python.org/3/library/stdtypes.html#range"
   ]
  },
  {
   "cell_type": "code",
   "execution_count": 5,
   "metadata": {},
   "outputs": [
    {
     "name": "stdout",
     "output_type": "stream",
     "text": [
      "Hello world 0\n",
      "Hello world 1\n",
      "Hello world 2\n",
      "Hello world 3\n",
      "Hello world 4\n"
     ]
    }
   ],
   "source": [
    "for i in range(5):\n",
    "    print(\"Hello world\", i)"
   ]
  },
  {
   "cell_type": "markdown",
   "metadata": {},
   "source": [
    "## More about the `range` function\n",
    "\n",
    "* `range(start, end)` generates sequence of numbers from `start` (inclusive) to `end` (not inclusive)\n",
    "* `range(start, end, step)` is the same as above, but it increases by `step` instead of 1 (the default)"
   ]
  },
  {
   "cell_type": "code",
   "execution_count": 7,
   "metadata": {},
   "outputs": [
    {
     "name": "stdout",
     "output_type": "stream",
     "text": [
      "1\n",
      "3\n",
      "5\n",
      "7\n",
      "9\n"
     ]
    }
   ],
   "source": [
    "# Printing every other number\n",
    "for num in range(1, 10, 2):\n",
    "    print(num)"
   ]
  },
  {
   "cell_type": "code",
   "execution_count": 9,
   "metadata": {},
   "outputs": [
    {
     "name": "stdout",
     "output_type": "stream",
     "text": [
      "Number\tSquare\n",
      "0 \t 0\n",
      "1 \t 1\n",
      "2 \t 4\n",
      "3 \t 9\n",
      "4 \t 16\n",
      "5 \t 25\n",
      "6 \t 36\n",
      "7 \t 49\n",
      "8 \t 64\n",
      "9 \t 81\n"
     ]
    }
   ],
   "source": [
    "# Printing the squares of numbers\n",
    "print(\"Number\\tSquare\")\n",
    "for num in range(10):\n",
    "    square = num ** 2\n",
    "    print(num, \"\\t\", square)"
   ]
  },
  {
   "cell_type": "code",
   "execution_count": 12,
   "metadata": {},
   "outputs": [
    {
     "name": "stdin",
     "output_type": "stream",
     "text": [
      "How many numbers should I display? 5\n"
     ]
    },
    {
     "name": "stdout",
     "output_type": "stream",
     "text": [
      "Number\tSquare\n",
      "1 \t 1\n",
      "2 \t 4\n",
      "3 \t 9\n",
      "4 \t 16\n",
      "5 \t 25\n"
     ]
    }
   ],
   "source": [
    "# Letting the user control the number of iterations\n",
    "end = int(input(\"How many numbers should I display?\"))\n",
    "\n",
    "print(\"Number\\tSquare\")\n",
    "for num in range(1, end + 1):\n",
    "    square = num ** 2\n",
    "    print(num, \"\\t\", square)"
   ]
  },
  {
   "cell_type": "code",
   "execution_count": 13,
   "metadata": {},
   "outputs": [
    {
     "name": "stdout",
     "output_type": "stream",
     "text": [
      "10 \t 100\n",
      "9 \t 81\n",
      "8 \t 64\n",
      "7 \t 49\n",
      "6 \t 36\n",
      "5 \t 25\n",
      "4 \t 16\n",
      "3 \t 9\n",
      "2 \t 4\n",
      "1 \t 1\n"
     ]
    }
   ],
   "source": [
    "# Going from highest to lowest\n",
    "for num in range(10, 0, -1):\n",
    "    square = num ** 2\n",
    "    print(num, \"\\t\", square)"
   ]
  },
  {
   "cell_type": "markdown",
   "metadata": {},
   "source": [
    "## Calculating a running total\n",
    "\n",
    "* Sometimes, you need to track a total or count while iterating\n",
    "* These numbers are called _accumulators_"
   ]
  },
  {
   "cell_type": "markdown",
   "metadata": {},
   "source": [
    "## Augmented assignment\n",
    "\n",
    "* Oftentimes, programs add/subtract from an existing variable\n",
    "* We can do `variable += number`, which is the same as `variable = variable + number`\n",
    "\n",
    "Operator|Example Usage|Equivalent To\n",
    "--------|-------------|-------------\n",
    "`+=`|`count += 1`|`count = count + 1`\n",
    "`-=`| `count -= 1` | `count = count - 1`\n",
    "`-=`| `total *= 1.04712` | `total = total * 1.04712`\n",
    "`/=`| `total /= 4` | `total = total / 4`\n",
    "`%=`| `total %= 4` | `total = total % 4`"
   ]
  },
  {
   "cell_type": "code",
   "execution_count": 16,
   "metadata": {},
   "outputs": [
    {
     "name": "stdin",
     "output_type": "stream",
     "text": [
      "How many numbers do you have to enter? 5\n",
      "Enter number 1 1\n",
      "Enter number 2 2\n",
      "Enter number 3 3\n",
      "Enter number 4 4\n",
      "Enter number 5 5\n"
     ]
    },
    {
     "name": "stdout",
     "output_type": "stream",
     "text": [
      "The average is 3.0\n"
     ]
    }
   ],
   "source": [
    "# Calculating the average of a set of numbers\n",
    "end = int(input(\"How many numbers do you have to enter?\"))\n",
    "total = 0\n",
    "count = 0\n",
    "for i in range(0, end):\n",
    "    total += int(input(f\"Enter number {i + 1}\"))\n",
    "    count += 1\n",
    "    \n",
    "average = total / count\n",
    "print(\"The average is\", average)"
   ]
  },
  {
   "cell_type": "markdown",
   "metadata": {},
   "source": [
    "## Input validation loops\n",
    "\n",
    "* Check for bad data and ask user to re-input the value\n",
    "* Useful when the number passed in is not an expected value"
   ]
  },
  {
   "cell_type": "code",
   "execution_count": 18,
   "metadata": {},
   "outputs": [
    {
     "name": "stdin",
     "output_type": "stream",
     "text": [
      "Enter the score -1\n"
     ]
    },
    {
     "name": "stdout",
     "output_type": "stream",
     "text": [
      "ERROR: Score must be in between 0 and 100\n"
     ]
    },
    {
     "name": "stdin",
     "output_type": "stream",
     "text": [
      "Enter the score 101\n"
     ]
    },
    {
     "name": "stdout",
     "output_type": "stream",
     "text": [
      "ERROR: Score must be in between 0 and 100\n"
     ]
    },
    {
     "name": "stdin",
     "output_type": "stream",
     "text": [
      "Enter the score 100\n"
     ]
    }
   ],
   "source": [
    "# Example: Assign a letter grade\n",
    "\n",
    "score = float(input('Enter the score'))\n",
    "while score < 0 or score > 100:\n",
    "    print(\"ERROR: Score must be in between 0 and 100\")\n",
    "    score = float(input('Enter the score'))\n",
    "    \n",
    "# Now we know score is in between 0 and 100"
   ]
  },
  {
   "cell_type": "markdown",
   "metadata": {},
   "source": [
    "## Nested loops\n",
    "\n",
    "* Repetition structures can be embedded in other repetition structures\n",
    "* A clock is an example of a nested loop\n",
    "* Validating input inside of a loop would also be a nested loop"
   ]
  },
  {
   "cell_type": "markdown",
   "metadata": {},
   "source": [
    "```\n",
    "for hour in range(1, 13):\n",
    "    for minute in range(0, 60):\n",
    "        print(hour, \":\", minute)\n",
    "```"
   ]
  },
  {
   "cell_type": "code",
   "execution_count": 21,
   "metadata": {},
   "outputs": [
    {
     "name": "stdout",
     "output_type": "stream",
     "text": [
      "#\n",
      " #\n",
      "  #\n",
      "   #\n",
      "    #\n",
      "     #\n"
     ]
    }
   ],
   "source": [
    "# Printing a stair step pattern\n",
    "NUM_STEPS = 6\n",
    "for step in range(NUM_STEPS):\n",
    "    for spaces in range(step):\n",
    "        print(' ', end='')\n",
    "        \n",
    "    print('#')"
   ]
  },
  {
   "cell_type": "markdown",
   "metadata": {},
   "source": [
    "## Turtle Graphics: Drawing complex structures\n",
    "\n",
    "* Loops can help us avoid having to write so many lines of drawing code\n",
    "* Can create elaborate designs"
   ]
  },
  {
   "cell_type": "code",
   "execution_count": 22,
   "metadata": {},
   "outputs": [],
   "source": [
    "# Octagon\n",
    "import turtle\n",
    "\n",
    "for x in range(8):\n",
    "    turtle.forward(100)\n",
    "    turtle.right(45)\n",
    "    \n",
    "turtle.done()"
   ]
  },
  {
   "cell_type": "code",
   "execution_count": 31,
   "metadata": {},
   "outputs": [],
   "source": [
    "# Concentric circles\n",
    "import turtle\n",
    "\n",
    "NUM_CIRCLES = 20\n",
    "STARTING_RADIUS = 20\n",
    "OFFSET = 10\n",
    "\n",
    "# Set up turtle\n",
    "turtle.speed(0)\n",
    "turtle.hideturtle()\n",
    "\n",
    "radius = STARTING_RADIUS\n",
    "\n",
    "# Draw circles\n",
    "for count in range(NUM_CIRCLES):\n",
    "    turtle.circle(radius)\n",
    "    \n",
    "    # Get coordinates of next circle\n",
    "    x = turtle.xcor()\n",
    "    y = turtle.ycor() - OFFSET\n",
    "    \n",
    "    # Calculate radius of next circle\n",
    "    radius = radius + OFFSET\n",
    "    \n",
    "    # Position the turtle for the next circle\n",
    "    turtle.penup()\n",
    "    turtle.goto(x, y)\n",
    "    turtle.pendown()\n",
    "    \n",
    "turtle.done()"
   ]
  },
  {
   "cell_type": "code",
   "execution_count": 35,
   "metadata": {},
   "outputs": [],
   "source": [
    "# Spiral circles\n",
    "import turtle\n",
    "\n",
    "NUM_CIRCLES = 36\n",
    "RADIUS = 100\n",
    "ANGLE = 10\n",
    "\n",
    "turtle.speed(0)\n",
    "\n",
    "# Draw circles with the turtle tilted by\n",
    "# ANGLE after each circle is drawn\n",
    "for x in range(NUM_CIRCLES):\n",
    "    turtle.circle(RADIUS)\n",
    "    turtle.left(ANGLE)\n",
    "    \n",
    "turtle.done()"
   ]
  },
  {
   "cell_type": "code",
   "execution_count": 33,
   "metadata": {},
   "outputs": [],
   "source": [
    "# Spiral lines\n",
    "import turtle\n",
    "\n",
    "START_X = -200\n",
    "START_Y = 0\n",
    "NUM_LINES = 36\n",
    "LINE_LENGTH = 400\n",
    "ANGLE = 170\n",
    "\n",
    "turtle.hideturtle()\n",
    "turtle.penup()\n",
    "turtle.goto(START_X, START_Y)\n",
    "turtle.pendown()\n",
    "\n",
    "turtle.speed(0)\n",
    "\n",
    "for x in range(NUM_LINES):\n",
    "    turtle.forward(LINE_LENGTH)\n",
    "    turtle.left(ANGLE)\n",
    "\n",
    "turtle.done()"
   ]
  },
  {
   "cell_type": "code",
   "execution_count": null,
   "metadata": {},
   "outputs": [],
   "source": []
  }
 ],
 "metadata": {
  "kernelspec": {
   "display_name": "Python 3",
   "language": "python",
   "name": "python3"
  },
  "language_info": {
   "codemirror_mode": {
    "name": "ipython",
    "version": 3
   },
   "file_extension": ".py",
   "mimetype": "text/x-python",
   "name": "python",
   "nbconvert_exporter": "python",
   "pygments_lexer": "ipython3",
   "version": "3.7.0"
  }
 },
 "nbformat": 4,
 "nbformat_minor": 4
}
