{
 "cells": [
  {
   "cell_type": "markdown",
   "metadata": {},
   "source": [
    "# Homework 04\n",
    "\n",
    "## Instructions\n",
    "\n",
    "Open the file in Jupyter Lab. Fill out the problems and submit the completed notebook on Laulima.\n",
    "\n",
    "## Problem 1: Distance Traveled\n",
    "\n",
    "The distance a vehicle travels can be calculated as follows:\n",
    "\n",
    "`distance = speed x time`\n",
    "\n",
    "For example, if a train travels 40 miles per hour for three hours, the distance traveled is 120 miles. Write a program that asks the user for the speed of the vehicle (in miles per hour) and the number of hours it has traveled. It should then use a loop to display the distance the vehicle has traveled for each hour of that time period. Here is an example of the desired output:\n",
    "\n",
    "```\n",
    "What is the speed of the vehicle in mph? 40\n",
    "How many hours has it traveled? 3\n",
    "\n",
    "Hour       Distance Traveled\n",
    "1          40\n",
    "2          80\n",
    "3          120\n",
    "```"
   ]
  },
  {
   "cell_type": "code",
   "execution_count": 1,
   "metadata": {},
   "outputs": [],
   "source": [
    "# Input solution here"
   ]
  },
  {
   "cell_type": "markdown",
   "metadata": {},
   "source": [
    "## Problem 2: Weight Loss\n",
    "\n",
    "If a moderately active person cuts their calorie intake by 500 calories a daya, they can typically lose about 4 pounds a month. Write a program that lets the user enter their starting weight, then creates and displays a table showing what their expected weight will be at the end of each month for the next 6 months if they stay on this diet."
   ]
  },
  {
   "cell_type": "code",
   "execution_count": 2,
   "metadata": {},
   "outputs": [],
   "source": [
    "# Input solution here"
   ]
  },
  {
   "cell_type": "markdown",
   "metadata": {},
   "source": [
    "## Problem 3: Calculating the Factorial of a Number\n",
    "\n",
    "In mathematics, the notation `n!` represents the _factorial_ of the nonnegative integer `n`. The factorial of `n` is the product of all the positive integers from 1 to `n`. For example,\n",
    "\n",
    "`7! = 1 x 2 x 3 x 4 x 5 x 6 x 7 = 5040`\n",
    "\n",
    "and\n",
    "\n",
    "`4! = 1 x 2 x 3 x 4 = 24`\n",
    "\n",
    "Write a program that lets the user enter a positive integer (validate that it is positive) and then uses a oop to calculate the factorial of that number. Display the factorial."
   ]
  },
  {
   "cell_type": "code",
   "execution_count": 3,
   "metadata": {},
   "outputs": [],
   "source": [
    "# Input solution here"
   ]
  },
  {
   "cell_type": "markdown",
   "metadata": {},
   "source": [
    "## Problem 4: ASCII art\n",
    "\n",
    "Write a program that uses nested loops to draw this pattern:\n",
    "\n",
    "```\n",
    "##\n",
    "# #\n",
    "#  #\n",
    "#   #\n",
    "#    #\n",
    "#     #\n",
    "```"
   ]
  },
  {
   "cell_type": "code",
   "execution_count": 4,
   "metadata": {},
   "outputs": [],
   "source": [
    "# Input solution here"
   ]
  },
  {
   "cell_type": "markdown",
   "metadata": {},
   "source": [
    "## Problem 5: Star pattern\n",
    "\n",
    "Use a loop with the turtle graphics library to draw the design below:\n",
    "\n",
    "![Star pattern](images/star_pattern.png)"
   ]
  },
  {
   "cell_type": "code",
   "execution_count": 5,
   "metadata": {},
   "outputs": [],
   "source": [
    "# Input solution here"
   ]
  }
 ],
 "metadata": {
  "kernelspec": {
   "display_name": "Python 3",
   "language": "python",
   "name": "python3"
  },
  "language_info": {
   "codemirror_mode": {
    "name": "ipython",
    "version": 3
   },
   "file_extension": ".py",
   "mimetype": "text/x-python",
   "name": "python",
   "nbconvert_exporter": "python",
   "pygments_lexer": "ipython3",
   "version": "3.7.4"
  }
 },
 "nbformat": 4,
 "nbformat_minor": 4
}
