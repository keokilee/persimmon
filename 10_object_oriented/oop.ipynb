{
 "cells": [
  {
   "cell_type": "markdown",
   "metadata": {},
   "source": [
    "# Object Oriented Programming"
   ]
  },
  {
   "cell_type": "markdown",
   "metadata": {},
   "source": [
    "## Programming Paradigms\n",
    "\n",
    "* Procedural (C, Rust)\n",
    "* Functional (Erlang, Common LISP, F#)\n",
    "* Object Oriented (Java, C#, Ruby)"
   ]
  },
  {
   "cell_type": "markdown",
   "metadata": {},
   "source": [
    "## Procedural Programming\n",
    "\n",
    "* Creating functions that perform tasks\n",
    "* Pass around simple data structures (lists, dictionaries, etc.)\n",
    "* Most of our code in thus far"
   ]
  },
  {
   "cell_type": "markdown",
   "metadata": {},
   "source": [
    "## Functional Programming\n",
    "\n",
    "* Similar to procedural\n",
    "* For a given input, a function should always return the same output\n",
    "* All data is \"immutable\" (functions never modify a data structure, always returns a new one)"
   ]
  },
  {
   "cell_type": "markdown",
   "metadata": {},
   "source": [
    "## Object Oriented Programming\n",
    "\n",
    "* Code is organized into a concept of \"objects\"\n",
    "* Objects can have \"methods\" that modify the object or perform tasks\n",
    "* Most things in Python are objects (strings, lists, dictionaries, etc.)"
   ]
  },
  {
   "cell_type": "markdown",
   "metadata": {},
   "source": [
    "## Python and Object Oriented Programming\n",
    "\n",
    "* We can define our own classes using the `class` keyword\n",
    "* Classes have a \"constructor\", \"instance variables\", and \"methods\"\n",
    "* Python methods are always \"public\" (all methods are accessible by other lines of code) \n"
   ]
  },
  {
   "cell_type": "code",
   "execution_count": 1,
   "metadata": {},
   "outputs": [
    {
     "name": "stdout",
     "output_type": "stream",
     "text": [
      "Heads\n"
     ]
    }
   ],
   "source": [
    "# Defining a class\n",
    "\n",
    "import random\n",
    "\n",
    "class Coin:\n",
    "    # The __init__ method is called when the object is created.\n",
    "    # We set \"instance variables\" here that are attached to the class\n",
    "    def __init__(self):\n",
    "        self.sideup = 'Heads'\n",
    "        \n",
    "    # Defining a method\n",
    "    # `toss` flips the coin\n",
    "    def toss(self):\n",
    "        if random.randint(0, 1) == 0:\n",
    "            self.sideup = 'Heads'\n",
    "        else:\n",
    "            self.sideup = 'Tails'\n",
    "            \n",
    "    def get_sideup(self):\n",
    "        return self.sideup\n",
    "    \n",
    "coin = Coin()\n",
    "print(coin.get_sideup())"
   ]
  },
  {
   "cell_type": "markdown",
   "metadata": {},
   "source": [
    "## More about defining a Python class\n",
    "\n",
    "* `self` is the first argument passed to the method\n",
    "* `self` is the instance of the class\n",
    "* \"private\" methods in Python have double underscores by convention"
   ]
  },
  {
   "cell_type": "code",
   "execution_count": null,
   "metadata": {},
   "outputs": [],
   "source": []
  }
 ],
 "metadata": {
  "kernelspec": {
   "display_name": "Python 3",
   "language": "python",
   "name": "python3"
  },
  "language_info": {
   "codemirror_mode": {
    "name": "ipython",
    "version": 3
   },
   "file_extension": ".py",
   "mimetype": "text/x-python",
   "name": "python",
   "nbconvert_exporter": "python",
   "pygments_lexer": "ipython3",
   "version": "3.7.5"
  }
 },
 "nbformat": 4,
 "nbformat_minor": 4
}
