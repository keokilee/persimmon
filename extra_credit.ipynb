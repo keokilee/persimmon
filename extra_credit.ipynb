{
 "cells": [
  {
   "cell_type": "markdown",
   "metadata": {},
   "source": [
    "# Extra Credit: Advent of Code\n",
    "\n",
    "Sign up for an account on [Advent of Code](https://adventofcode.com/). Complete as many problems as you can. 1 extra credit point will be awarded per star completed.\n",
    "\n",
    "Deliverables:\n",
    "\n",
    "* A screenshot of your progress.\n",
    "* A zip folder of your solutions."
   ]
  },
  {
   "cell_type": "code",
   "execution_count": null,
   "metadata": {},
   "outputs": [],
   "source": []
  }
 ],
 "metadata": {
  "kernelspec": {
   "display_name": "Python 3",
   "language": "python",
   "name": "python3"
  },
  "language_info": {
   "codemirror_mode": {
    "name": "ipython",
    "version": 3
   },
   "file_extension": ".py",
   "mimetype": "text/x-python",
   "name": "python",
   "nbconvert_exporter": "python",
   "pygments_lexer": "ipython3",
   "version": "3.7.5"
  }
 },
 "nbformat": 4,
 "nbformat_minor": 4
}
