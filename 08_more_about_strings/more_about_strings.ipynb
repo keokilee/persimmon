{
 "cells": [
  {
   "cell_type": "markdown",
   "metadata": {},
   "source": [
    "# More About Strings"
   ]
  },
  {
   "cell_type": "markdown",
   "metadata": {},
   "source": [
    "## Strings vs. Lists and Tuples\n",
    "\n",
    "* Strings are _sequences_ of characters\n",
    "* Strings are _enumerable_\n",
    "* Strings are _immutable_ like tuples"
   ]
  },
  {
   "cell_type": "markdown",
   "metadata": {},
   "source": [
    "## Accessing individual characters\n",
    "\n",
    "* Accessing individual characters in a string\n",
    "* Password strength validation (one uppercase letter/symbol/digit)\n",
    "* Can use a `for` loop or indexes"
   ]
  },
  {
   "cell_type": "code",
   "execution_count": 1,
   "metadata": {},
   "outputs": [
    {
     "name": "stdout",
     "output_type": "stream",
     "text": [
      "L\n",
      "3\n",
      "3\n",
      "7\n",
      "P\n",
      "@\n",
      "5\n",
      "5\n",
      "w\n",
      "0\n",
      "r\n",
      "d\n"
     ]
    }
   ],
   "source": [
    "# Iterating over a string with the for loop\n",
    "\n",
    "for char in \"L337P@55w0rd\":\n",
    "    print(char)"
   ]
  },
  {
   "cell_type": "code",
   "execution_count": 2,
   "metadata": {},
   "outputs": [
    {
     "name": "stdout",
     "output_type": "stream",
     "text": [
      "L337P@55w0rd\n"
     ]
    }
   ],
   "source": [
    "# Setting the list variable in a loop\n",
    "password = \"L337P@55w0rd\"\n",
    "for char in password:\n",
    "    char = \"*\"\n",
    "    \n",
    "print(password)"
   ]
  },
  {
   "cell_type": "code",
   "execution_count": 4,
   "metadata": {},
   "outputs": [
    {
     "name": "stdin",
     "output_type": "stream",
     "text": [
      "Enter some text The quick brown fox jumps over the lazy dog\n"
     ]
    },
    {
     "name": "stdout",
     "output_type": "stream",
     "text": [
      "Number of w's:  1\n"
     ]
    }
   ],
   "source": [
    "# Counting how many w's are in the text\n",
    "text = input(\"Enter some text\")\n",
    "count = 0\n",
    "for char in text:\n",
    "    if char == 'W' or char == 'w':\n",
    "        count += 1\n",
    "    \n",
    "print(\"Number of w's: \", count)"
   ]
  },
  {
   "cell_type": "markdown",
   "metadata": {},
   "source": [
    "## Indexing\n",
    "\n",
    "* Just like lists\n",
    "* `my_string[0]` gets the first character in the string\n",
    "* Raises an `IndexError` if we access an incorrect index"
   ]
  },
  {
   "cell_type": "code",
   "execution_count": 6,
   "metadata": {},
   "outputs": [
    {
     "name": "stdout",
     "output_type": "stream",
     "text": [
      "The quick brown fox jumps over the lazy dog\n"
     ]
    },
    {
     "ename": "IndexError",
     "evalue": "string index out of range",
     "output_type": "error",
     "traceback": [
      "\u001b[0;31m---------------------------------------------------------------------------\u001b[0m",
      "\u001b[0;31mIndexError\u001b[0m                                Traceback (most recent call last)",
      "\u001b[0;32m<ipython-input-6-a9cc54ee170a>\u001b[0m in \u001b[0;36m<module>\u001b[0;34m\u001b[0m\n\u001b[1;32m      7\u001b[0m \u001b[0;34m\u001b[0m\u001b[0m\n\u001b[1;32m      8\u001b[0m \u001b[0mprint\u001b[0m\u001b[0;34m(\u001b[0m\u001b[0;34m\"\"\u001b[0m\u001b[0;34m)\u001b[0m\u001b[0;34m\u001b[0m\u001b[0;34m\u001b[0m\u001b[0m\n\u001b[0;32m----> 9\u001b[0;31m \u001b[0mprint\u001b[0m\u001b[0;34m(\u001b[0m\u001b[0mtext\u001b[0m\u001b[0;34m[\u001b[0m\u001b[0mtext_length\u001b[0m\u001b[0;34m]\u001b[0m\u001b[0;34m)\u001b[0m\u001b[0;34m\u001b[0m\u001b[0;34m\u001b[0m\u001b[0m\n\u001b[0m",
      "\u001b[0;31mIndexError\u001b[0m: string index out of range"
     ]
    }
   ],
   "source": [
    "# Printing out the string using indexes\n",
    "text = \"The quick brown fox jumps over the lazy dog\"\n",
    "text_length = len(text)\n",
    "\n",
    "for i in range(text_length):\n",
    "    print(text[i], sep='', end='')\n",
    "    \n",
    "print(\"\")\n",
    "print(text[text_length])"
   ]
  },
  {
   "cell_type": "markdown",
   "metadata": {},
   "source": [
    "## Strings are _immutable_\n",
    "\n",
    "* When we do string operations, we get a new string\n",
    "* We can't change the string using the index"
   ]
  },
  {
   "cell_type": "code",
   "execution_count": 8,
   "metadata": {},
   "outputs": [
    {
     "ename": "TypeError",
     "evalue": "'str' object does not support item assignment",
     "output_type": "error",
     "traceback": [
      "\u001b[0;31m---------------------------------------------------------------------------\u001b[0m",
      "\u001b[0;31mTypeError\u001b[0m                                 Traceback (most recent call last)",
      "\u001b[0;32m<ipython-input-8-db39a05feb55>\u001b[0m in \u001b[0;36m<module>\u001b[0;34m\u001b[0m\n\u001b[1;32m      1\u001b[0m \u001b[0;31m# Attempting to change a string using an index\u001b[0m\u001b[0;34m\u001b[0m\u001b[0;34m\u001b[0m\u001b[0;34m\u001b[0m\u001b[0m\n\u001b[1;32m      2\u001b[0m \u001b[0mtext\u001b[0m \u001b[0;34m=\u001b[0m \u001b[0;34m\"Hello World\"\u001b[0m\u001b[0;34m\u001b[0m\u001b[0;34m\u001b[0m\u001b[0m\n\u001b[0;32m----> 3\u001b[0;31m \u001b[0mtext\u001b[0m\u001b[0;34m[\u001b[0m\u001b[0;36m0\u001b[0m\u001b[0;34m]\u001b[0m \u001b[0;34m=\u001b[0m \u001b[0;34m\"h\"\u001b[0m\u001b[0;34m\u001b[0m\u001b[0;34m\u001b[0m\u001b[0m\n\u001b[0m\u001b[1;32m      4\u001b[0m \u001b[0mprint\u001b[0m\u001b[0;34m(\u001b[0m\u001b[0mtext\u001b[0m\u001b[0;34m)\u001b[0m\u001b[0;34m\u001b[0m\u001b[0;34m\u001b[0m\u001b[0m\n",
      "\u001b[0;31mTypeError\u001b[0m: 'str' object does not support item assignment"
     ]
    }
   ],
   "source": [
    "# Attempting to change a string using an index\n",
    "text = \"Hello World\"\n",
    "text[0] = \"h\"\n",
    "print(text)"
   ]
  },
  {
   "cell_type": "markdown",
   "metadata": {},
   "source": [
    "## String slicing\n",
    "\n",
    "* Get a _sub string_, or a range of characters within the string\n",
    "* Same syntax as slicing a list\n",
    "* Invalid indexes do *not* cause `IndexError`s"
   ]
  },
  {
   "cell_type": "code",
   "execution_count": 11,
   "metadata": {},
   "outputs": [
    {
     "name": "stdout",
     "output_type": "stream",
     "text": [
      "Hello\n",
      "World\n",
      "ello\n",
      "\n"
     ]
    }
   ],
   "source": [
    "text = \"Hello World\"\n",
    "print(text[:5])\n",
    "print(text[6:10000]) # Goes to the end of the string\n",
    "print(text[1:5])\n",
    "print(text[3:2]) # Returns an empty string"
   ]
  },
  {
   "cell_type": "markdown",
   "metadata": {},
   "source": [
    "## Example: Generating a username\n",
    "\n",
    "Create a function that generates a user name. The function should receive the first name, last name, and id number (as a string) as arguments. The algorithm for generating the user name is:\n",
    "\n",
    "* First 3 letters of their first name (if fewer than 3 letters, use the full name)\n",
    "* First 3 letters of their last name (if fewer than 3 letters, use the full name)\n",
    "* Last 3 numbers in their id number"
   ]
  },
  {
   "cell_type": "code",
   "execution_count": 12,
   "metadata": {},
   "outputs": [
    {
     "name": "stdout",
     "output_type": "stream",
     "text": [
      "GeoLee789\n"
     ]
    }
   ],
   "source": [
    "# Generate a user name\n",
    "def get_login_name(first, last, idnumber):\n",
    "    part1 = first[:3]\n",
    "    part2 = last[:3]\n",
    "    part3 = idnumber[-3:]\n",
    "    login_name = part1 + part2 + part3\n",
    "    return login_name\n",
    "    \n",
    "login_name = get_login_name(\"George\", \"Lee\", \"123456789\")\n",
    "print(login_name)"
   ]
  },
  {
   "cell_type": "markdown",
   "metadata": {},
   "source": [
    "## Testing, searching, and manipulating strings\n",
    "\n",
    "* Similar list operators like `in` and `not in`\n",
    "* Many methods (See https://docs.python.org/3.8/library/string.html for a full list)"
   ]
  },
  {
   "cell_type": "code",
   "execution_count": 14,
   "metadata": {},
   "outputs": [
    {
     "name": "stdout",
     "output_type": "stream",
     "text": [
      "True\n",
      "False\n",
      "False\n"
     ]
    }
   ],
   "source": [
    "# Checking if a word is in a string\n",
    "text = \"The quick brown fox jumped over the lazy dog\"\n",
    "print(\"brown\" in text)\n",
    "print(\"puppy\" in text)\n",
    "print(\"fox\" not in text)"
   ]
  },
  {
   "cell_type": "markdown",
   "metadata": {},
   "source": [
    "## String methods testing for specific characteristics\n",
    "\n",
    "* `isalnum()` True if the string only contains letters or digits\n",
    "* `isalpha()` True if the string contains only letters\n",
    "* `isdigit()` True if the string contains only digits\n",
    "* `islower()` True if the string contains only lowercase letters\n",
    "* `isspace()` True if the string contains only whitespace characters (includes `\\n` and `\\t` as well as spaces)\n",
    "* `isupper()` True if the string contains only uppercase letters"
   ]
  },
  {
   "cell_type": "code",
   "execution_count": 16,
   "metadata": {},
   "outputs": [
    {
     "name": "stdin",
     "output_type": "stream",
     "text": [
      "Enter some text 123\n"
     ]
    },
    {
     "name": "stdout",
     "output_type": "stream",
     "text": [
      "The string is alphanumeric\n",
      "The string contains only numbers\n"
     ]
    }
   ],
   "source": [
    "# Testing a string\n",
    "text = input('Enter some text')\n",
    "if text.isalnum():\n",
    "    print('The string is alphanumeric')\n",
    "if text.isalpha():\n",
    "    print('The string contains only letters')\n",
    "if text.isdigit():\n",
    "    print('The string contains only numbers')\n",
    "if text.islower():\n",
    "    print('The string contains only lower case letters')\n",
    "if text.isspace():\n",
    "    print('The string contains only whitespace')\n",
    "if text.isupper():\n",
    "    print('The string contains only upper case letters')"
   ]
  },
  {
   "cell_type": "markdown",
   "metadata": {},
   "source": [
    "## Methods for modifying a string\n",
    "\n",
    "* Note, always return a new string\n",
    "* `lower()` Converts upper case letters to lower case\n",
    "* `lstrip()` Strips leading white space\n",
    "* `lstrip(char)` Strips all instances of char at the beginning of the string\n",
    "* `rstrip()` Strips trailing white space\n",
    "* `rstrip(char)` Strips all instances of char at the end of the string\n",
    "* `strip()` Combines `lstrip()` and `rstrip()`\n",
    "* `strip(char)` Combines `lstrip(char)` and `rstrip(char)`\n",
    "* `upper()` Converts lower case letters to upper case"
   ]
  },
  {
   "cell_type": "code",
   "execution_count": 17,
   "metadata": {},
   "outputs": [
    {
     "name": "stdout",
     "output_type": "stream",
     "text": [
      "abcd\n",
      "ABCD\n"
     ]
    }
   ],
   "source": [
    "# Examples\n",
    "\n",
    "letters = 'ABCD'\n",
    "letters = letters.lower()\n",
    "print(letters)\n",
    "letters = letters.upper()\n",
    "print(letters)"
   ]
  },
  {
   "cell_type": "code",
   "execution_count": 18,
   "metadata": {},
   "outputs": [
    {
     "name": "stdin",
     "output_type": "stream",
     "text": [
      "Are we there yet? no\n",
      "Are we there yet? no\n",
      "Are we there yet? YES\n"
     ]
    },
    {
     "name": "stdout",
     "output_type": "stream",
     "text": [
      "Finally!\n"
     ]
    }
   ],
   "source": [
    "# Dealing with lower or upper case input\n",
    "are_we_there_yet = 'no'\n",
    "\n",
    "while are_we_there_yet.lower() != 'yes':\n",
    "    are_we_there_yet = input(\"Are we there yet?\")\n",
    "    \n",
    "print(\"Finally!\")"
   ]
  },
  {
   "cell_type": "markdown",
   "metadata": {},
   "source": [
    "## Search and replace methods\n",
    "\n",
    "* `endswith(substring)` True if the string ends with `substring`\n",
    "* `find(substring)` Returns the lowest index where `substring` is found. Returns -1 if `substring` is not in the string\n",
    "* `replace(old, new)` Return a new string with instances of `old` replaced with `new`\n",
    "* `startswith(substring)` True if the string starts with `substring`"
   ]
  },
  {
   "cell_type": "code",
   "execution_count": 19,
   "metadata": {},
   "outputs": [
    {
     "name": "stdin",
     "output_type": "stream",
     "text": [
      "Enter a file path C:/Users/George/hello.txt\n"
     ]
    },
    {
     "name": "stdout",
     "output_type": "stream",
     "text": [
      "That is a text file\n",
      "This file is in a folder\n",
      "That is a Windows path\n",
      "On UNIX, the path might be /Users/George/hello.txt\n"
     ]
    }
   ],
   "source": [
    "# Examples of search methods\n",
    "filepath = input(\"Enter a file path\")\n",
    "if filepath.endswith('.txt'):\n",
    "    print('That is a text file')\n",
    "if filepath.find('/'):\n",
    "    print('This file is in a folder')\n",
    "if filepath.startswith('C:/'):\n",
    "    print('That is a Windows path')\n",
    "    print('On UNIX, the path might be', filepath.replace('C:/', '/'))"
   ]
  },
  {
   "cell_type": "markdown",
   "metadata": {},
   "source": [
    "## Example: Validating characters in a password\n",
    "\n",
    "* Password must be at least 12 characters long\n",
    "* It must contain at least one uppercase letter\n",
    "* It must contain at least one lowercase letter\n",
    "* It must contain at least one digit"
   ]
  },
  {
   "cell_type": "code",
   "execution_count": 20,
   "metadata": {},
   "outputs": [],
   "source": [
    "# Validating characters"
   ]
  },
  {
   "cell_type": "markdown",
   "metadata": {},
   "source": [
    "## Repetition operator\n",
    "\n",
    "Just like lists, we can repeat a string using the `*` operator"
   ]
  },
  {
   "cell_type": "code",
   "execution_count": 21,
   "metadata": {},
   "outputs": [
    {
     "name": "stdout",
     "output_type": "stream",
     "text": [
      "NaNaNaNaNaNaNaNaNaNa Batman\n"
     ]
    }
   ],
   "source": [
    "# Repetition example\n",
    "print(\"Na\" * 10, \"Batman\")"
   ]
  },
  {
   "cell_type": "markdown",
   "metadata": {},
   "source": [
    "## Splitting a string\n",
    "\n",
    "* The `split()` method splits a string into words (splits by spaces)\n",
    "* `split(char)` splits a string based on the character passed in"
   ]
  },
  {
   "cell_type": "code",
   "execution_count": 22,
   "metadata": {},
   "outputs": [
    {
     "name": "stdout",
     "output_type": "stream",
     "text": [
      "The number of words is 9\n",
      "The month is 11\n",
      "The day is 4\n",
      "The year is 2019\n"
     ]
    }
   ],
   "source": [
    "# Splitting a string\n",
    "text = \"The quick brown fox jumped over the lazy dog\"\n",
    "words = text.split()\n",
    "print(\"The number of words is\", len(words))\n",
    "\n",
    "date = \"11/4/2019\"\n",
    "date_list = date.split('/')\n",
    "print(\"The month is\", date_list[0])\n",
    "print(\"The day is\", date_list[1])\n",
    "print(\"The year is\", date_list[2])"
   ]
  },
  {
   "cell_type": "code",
   "execution_count": null,
   "metadata": {},
   "outputs": [],
   "source": []
  }
 ],
 "metadata": {
  "kernelspec": {
   "display_name": "Python 3",
   "language": "python",
   "name": "python3"
  },
  "language_info": {
   "codemirror_mode": {
    "name": "ipython",
    "version": 3
   },
   "file_extension": ".py",
   "mimetype": "text/x-python",
   "name": "python",
   "nbconvert_exporter": "python",
   "pygments_lexer": "ipython3",
   "version": "3.7.4"
  }
 },
 "nbformat": 4,
 "nbformat_minor": 4
}
