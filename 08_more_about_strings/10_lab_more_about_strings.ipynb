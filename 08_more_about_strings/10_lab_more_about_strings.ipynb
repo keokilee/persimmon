{
 "cells": [
  {
   "cell_type": "markdown",
   "metadata": {},
   "source": [
    "# Lab 10\n",
    "\n",
    "## Instructions\n",
    "\n",
    "Open the file in Jupyter Lab. Fill out the problems and submit the completed notebook on Laulima.\n",
    "\n",
    "## Problem 1: Initials\n",
    "\n",
    "Write a gprogram that getes a string containing a person's first, middle, and last names and displays their first, middle, and last initials (capitalized if not already capitalized). For example, if the user enters \"John William Smith\", the program should display \"J. W. S.\"."
   ]
  },
  {
   "cell_type": "code",
   "execution_count": 1,
   "metadata": {},
   "outputs": [],
   "source": [
    "# Input solution here"
   ]
  },
  {
   "cell_type": "markdown",
   "metadata": {},
   "source": [
    "## Problem 2: Date Printer\n",
    "\n",
    "Write a program that reads a string from the user containing a date in the form `mm/dd/yyyy`. It should print the date in the format \"November 04, 2019\". Note that leading zeros in the day is fine for this assignment."
   ]
  },
  {
   "cell_type": "code",
   "execution_count": 2,
   "metadata": {},
   "outputs": [],
   "source": [
    "# Input solution here"
   ]
  },
  {
   "cell_type": "markdown",
   "metadata": {},
   "source": [
    "## Problem 3: Alphabetic Telephone Number Translator\n",
    "\n",
    "Many companies use telephone numbers like `888-GET-FOOD` so the number is easier for their customers to remember. On a standard telephone, the alphabetic letters are mapped to numbers in the following fashion:\n",
    "\n",
    "* A, B, C = 2\n",
    "* D, E, F = 3\n",
    "* G, H, I = 4\n",
    "* J, K, L = 5\n",
    "* M, N, O = 6\n",
    "* P, Q, R, S = 7\n",
    "* T, U, V = 8\n",
    "* W, X, Y, Z = 9\n",
    "\n",
    "Write a program that asks the user to enter a 10-character telephone number in the format XXX-XXX-XXXX. The application should display the telephone number with any alphabetic characters that appeared in the original translated to their numeric equivalent. For example, if the user enters `555-GET-FOOD`, the program should display `555-438-3663`. If the user enters `808-422-2222`, the application should display `808-422-2222`."
   ]
  },
  {
   "cell_type": "code",
   "execution_count": 3,
   "metadata": {},
   "outputs": [],
   "source": [
    "# Input solution here"
   ]
  },
  {
   "cell_type": "markdown",
   "metadata": {},
   "source": [
    "## Problem 4: Sentence Capitalizer\n",
    "\n",
    "Write a program with a function that accepts a string as an argument and returns a copy of the string with the first character of each sentence capitalized. For instance, if the argument is \"hello. my name is George. what is your name?\", the function should return the string \"Hello. My name is George. What is your name?\" The program should let the user enter a string and then pass it to the function. The modified string should be displayed."
   ]
  },
  {
   "cell_type": "code",
   "execution_count": 4,
   "metadata": {},
   "outputs": [],
   "source": [
    "# Input solution here"
   ]
  },
  {
   "cell_type": "markdown",
   "metadata": {},
   "source": [
    "## Problem 5: Pig Latin\n",
    "\n",
    "Write a program that accepts a sentence as input and converts each word to \"Pig Latin\". As a simplification, assume that only the first letter is removed and placed at the end of the word. Then, append the string \"ay\" to the word. Here is an example:\n",
    "\n",
    "English: `I SLEPT MOST OF THE NIGHT`\n",
    "Pig Latin: `IAY LEPTSAY OSTMAY FOAY HETAY IGHTNAY`\n",
    "\n",
    "You may want to capitalize all of the letters to make it more consistent."
   ]
  },
  {
   "cell_type": "code",
   "execution_count": 5,
   "metadata": {},
   "outputs": [],
   "source": [
    "# Input solution here"
   ]
  }
 ],
 "metadata": {
  "kernelspec": {
   "display_name": "Python 3",
   "language": "python",
   "name": "python3"
  },
  "language_info": {
   "codemirror_mode": {
    "name": "ipython",
    "version": 3
   },
   "file_extension": ".py",
   "mimetype": "text/x-python",
   "name": "python",
   "nbconvert_exporter": "python",
   "pygments_lexer": "ipython3",
   "version": "3.7.4"
  }
 },
 "nbformat": 4,
 "nbformat_minor": 4
}
