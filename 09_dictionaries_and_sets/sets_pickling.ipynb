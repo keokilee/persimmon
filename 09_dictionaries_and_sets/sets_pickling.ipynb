{
 "cells": [
  {
   "cell_type": "markdown",
   "metadata": {},
   "source": [
    "# Sets"
   ]
  },
  {
   "cell_type": "markdown",
   "metadata": {},
   "source": [
    "## Sets\n",
    "\n",
    "* A _set_ contains a collection of unique values and works like a mathematical set.\n",
    "* No two elements can have the same value\n",
    "* Sets are unordered (kind of like a dictionary)\n",
    "* A set may contain multiple data types"
   ]
  },
  {
   "cell_type": "markdown",
   "metadata": {},
   "source": [
    "## Creating a set\n",
    "\n",
    "* Use the built-in `set()` function\n",
    "* `myset = set()`\n",
    "* You may also create a set from an iterable (usually a list, can be a string, tuple, or file)\n",
    "* `myset = set([1, 2, 3])`"
   ]
  },
  {
   "cell_type": "code",
   "execution_count": 5,
   "metadata": {},
   "outputs": [
    {
     "name": "stdout",
     "output_type": "stream",
     "text": [
      "{1, 2, 3}\n",
      "{1, 2, 3}\n",
      "{'e', 'o', 'l', 'h'}\n",
      "{' ', 'h', 'l', 'e', 'd', 'r', 'o', 'w'}\n",
      "{'hello', 'world'}\n"
     ]
    }
   ],
   "source": [
    "# Set examples\n",
    "print(set([1, 2, 3]))\n",
    "print(set([1, 2, 3, 3]))\n",
    "print(set('hello'))\n",
    "print(set('hello world'))\n",
    "print(set(['hello', 'world']))"
   ]
  },
  {
   "cell_type": "code",
   "execution_count": 6,
   "metadata": {},
   "outputs": [
    {
     "name": "stdout",
     "output_type": "stream",
     "text": [
      "3\n"
     ]
    }
   ],
   "source": [
    "# Getting the number of elements in a set\n",
    "myset = set([1, 2, 3, 3])\n",
    "print(len(myset))"
   ]
  },
  {
   "cell_type": "code",
   "execution_count": 7,
   "metadata": {},
   "outputs": [
    {
     "name": "stdout",
     "output_type": "stream",
     "text": [
      "{1, 2, 3}\n"
     ]
    }
   ],
   "source": [
    "# The `add` method\n",
    "#\n",
    "# Add an item to a set\n",
    "myset = set()\n",
    "myset.add(1)\n",
    "myset.add(2)\n",
    "myset.add(3)\n",
    "myset.add(3)\n",
    "print(myset)"
   ]
  },
  {
   "cell_type": "code",
   "execution_count": 11,
   "metadata": {},
   "outputs": [
    {
     "name": "stdout",
     "output_type": "stream",
     "text": [
      "{1, 2, 3, 4}\n"
     ]
    }
   ],
   "source": [
    "# The `update` method\n",
    "#\n",
    "# Add multiple items to a set\n",
    "myset = set()\n",
    "myset.update([1, 2, 3])\n",
    "myset.update([2, 3, 4])\n",
    "print(myset)"
   ]
  },
  {
   "cell_type": "code",
   "execution_count": 12,
   "metadata": {},
   "outputs": [
    {
     "ename": "KeyError",
     "evalue": "5",
     "output_type": "error",
     "traceback": [
      "\u001b[1;31m---------------------------------------------------------------------------\u001b[0m",
      "\u001b[1;31mKeyError\u001b[0m                                  Traceback (most recent call last)",
      "\u001b[1;32m<ipython-input-12-699df2ef9b8a>\u001b[0m in \u001b[0;36m<module>\u001b[1;34m\u001b[0m\n\u001b[0;32m      6\u001b[0m \u001b[0mmyset\u001b[0m\u001b[1;33m.\u001b[0m\u001b[0mdiscard\u001b[0m\u001b[1;33m(\u001b[0m\u001b[1;36m5\u001b[0m\u001b[1;33m)\u001b[0m\u001b[1;33m\u001b[0m\u001b[1;33m\u001b[0m\u001b[0m\n\u001b[0;32m      7\u001b[0m \u001b[0mmyset\u001b[0m\u001b[1;33m.\u001b[0m\u001b[0mremove\u001b[0m\u001b[1;33m(\u001b[0m\u001b[1;36m2\u001b[0m\u001b[1;33m)\u001b[0m\u001b[1;33m\u001b[0m\u001b[1;33m\u001b[0m\u001b[0m\n\u001b[1;32m----> 8\u001b[1;33m \u001b[0mmyset\u001b[0m\u001b[1;33m.\u001b[0m\u001b[0mremove\u001b[0m\u001b[1;33m(\u001b[0m\u001b[1;36m5\u001b[0m\u001b[1;33m)\u001b[0m\u001b[1;33m\u001b[0m\u001b[1;33m\u001b[0m\u001b[0m\n\u001b[0m",
      "\u001b[1;31mKeyError\u001b[0m: 5"
     ]
    }
   ],
   "source": [
    "# The `discard` and `remove` methods\n",
    "#\n",
    "# Both remove an item from a set. `remove` raises an error if the item is not in the set.\n",
    "myset = set([1, 2, 3])\n",
    "myset.discard(1)\n",
    "myset.discard(5)\n",
    "myset.remove(2)\n",
    "myset.remove(5)"
   ]
  },
  {
   "cell_type": "code",
   "execution_count": 13,
   "metadata": {},
   "outputs": [
    {
     "name": "stdout",
     "output_type": "stream",
     "text": [
      "set()\n"
     ]
    }
   ],
   "source": [
    "# The `clear`method\n",
    "#\n",
    "# Remove all items from the set\n",
    "myset = set([1, 2, 3])\n",
    "myset.clear()\n",
    "print(myset)"
   ]
  },
  {
   "cell_type": "code",
   "execution_count": 14,
   "metadata": {},
   "outputs": [
    {
     "name": "stdout",
     "output_type": "stream",
     "text": [
      "1\n",
      "2\n",
      "3\n",
      "4\n",
      "5\n"
     ]
    }
   ],
   "source": [
    "# Using a for loop on a set\n",
    "myset = set([1, 2, 3, 4, 5])\n",
    "for number in myset:\n",
    "    print(number)"
   ]
  },
  {
   "cell_type": "code",
   "execution_count": 15,
   "metadata": {},
   "outputs": [
    {
     "name": "stdout",
     "output_type": "stream",
     "text": [
      "True\n",
      "False\n",
      "True\n"
     ]
    }
   ],
   "source": [
    "# Using the `in` operator\n",
    "myset = set([1, 2, 3, 4, 5])\n",
    "print(1 in myset)\n",
    "print(6 in myset)\n",
    "print(6 not in myset)"
   ]
  },
  {
   "cell_type": "markdown",
   "metadata": {},
   "source": [
    "## Mathematical set functions between two sets\n",
    "\n",
    "* Union - A set containing all of the elements of two separate sets\n",
    "* Intersection - A set containing an element if it appears in both sets\n",
    "* Difference - A set containing the elements in the first set that are _not_ in the second set\n",
    "* Symmetric difference - A set containing the elements in either set, but not both sets"
   ]
  },
  {
   "cell_type": "code",
   "execution_count": 19,
   "metadata": {},
   "outputs": [
    {
     "name": "stdout",
     "output_type": "stream",
     "text": [
      "{1, 2, 3, 4, 5}\n",
      "{5, 6, 7, 8, 9}\n",
      "{1, 2, 3, 4, 5, 6, 7, 8, 9}\n",
      "{1, 2, 3, 4, 5, 6, 7, 8, 9}\n"
     ]
    }
   ],
   "source": [
    "# The `union` method\n",
    "#\n",
    "# Creates a new set containing all of the elements in both sets\n",
    "set1 = set([1, 2, 3, 4, 5])\n",
    "set2 = set([5, 6, 7, 8, 9])\n",
    "set3 = set1.union(set2)\n",
    "print(set1)\n",
    "print(set2)\n",
    "print(set3)\n",
    "\n",
    "# Alternate syntax\n",
    "set3 = set1 | set2\n",
    "print(set3)"
   ]
  },
  {
   "cell_type": "code",
   "execution_count": 20,
   "metadata": {},
   "outputs": [
    {
     "name": "stdout",
     "output_type": "stream",
     "text": [
      "{5}\n",
      "{5}\n"
     ]
    }
   ],
   "source": [
    "# The `intersection` method\n",
    "#\n",
    "# Creates a new set containing the intersection of two sets\n",
    "set1 = set([1, 2, 3, 4, 5])\n",
    "set2 = set([5, 6, 7, 8, 9])\n",
    "set3 = set1.intersection(set2)\n",
    "print(set3)\n",
    "\n",
    "# Alternate syntax\n",
    "set3 = set1 & set2\n",
    "print(set3)"
   ]
  },
  {
   "cell_type": "code",
   "execution_count": 21,
   "metadata": {},
   "outputs": [
    {
     "name": "stdout",
     "output_type": "stream",
     "text": [
      "{1, 2, 3, 4}\n",
      "{1, 2, 3, 4}\n"
     ]
    }
   ],
   "source": [
    "# The `difference` method\n",
    "#\n",
    "# Creates a new set containing the elements that appear in one set but not the other\n",
    "set1 = set([1, 2, 3, 4, 5])\n",
    "set2 = set([5, 6, 7, 8, 9])\n",
    "set3 = set1.difference(set2)\n",
    "print(set3)\n",
    "\n",
    "# Alternate syntax\n",
    "set3 = set1 - set2\n",
    "print(set3)"
   ]
  },
  {
   "cell_type": "code",
   "execution_count": 22,
   "metadata": {},
   "outputs": [
    {
     "name": "stdout",
     "output_type": "stream",
     "text": [
      "{1, 2, 3, 4, 6, 7, 8, 9}\n",
      "{1, 2, 3, 4, 6, 7, 8, 9}\n"
     ]
    }
   ],
   "source": [
    "# The `symmetric_difference` method\n",
    "#\n",
    "# Creates a new set containing the symmetric difference of two sets\n",
    "set1 = set([1, 2, 3, 4, 5])\n",
    "set2 = set([5, 6, 7, 8, 9])\n",
    "set3 = set1.symmetric_difference(set2)\n",
    "print(set3)\n",
    "\n",
    "# Alternate syntax\n",
    "set3 = set1 ^ set2\n",
    "print(set3)"
   ]
  },
  {
   "cell_type": "markdown",
   "metadata": {},
   "source": [
    "## Finding supersets and subsets\n",
    "\n",
    "* Superset - All of the elements in set 2 are contained in set 1\n",
    "* Subset - All of the elements in set 1 are contained in set 2"
   ]
  },
  {
   "cell_type": "code",
   "execution_count": 25,
   "metadata": {},
   "outputs": [
    {
     "name": "stdout",
     "output_type": "stream",
     "text": [
      "True\n",
      "False\n",
      "True\n"
     ]
    }
   ],
   "source": [
    "# `issuperset` method\n",
    "#\n",
    "# True if the set is a superset of the provided set, False otherwise\n",
    "set1 = set([1, 2, 3, 4, 5])\n",
    "set2 = set([1, 2, 3])\n",
    "print(set1.issuperset(set2))\n",
    "print(set2.issuperset(set1))\n",
    "\n",
    "# Alternate syntax\n",
    "print(set1 >= set2)"
   ]
  },
  {
   "cell_type": "code",
   "execution_count": 26,
   "metadata": {},
   "outputs": [
    {
     "name": "stdout",
     "output_type": "stream",
     "text": [
      "False\n",
      "True\n",
      "True\n"
     ]
    }
   ],
   "source": [
    "# `issubset` method\n",
    "#\n",
    "# True if the set is a subset of the provided set, False otherwise\n",
    "set1 = set([1, 2, 3, 4, 5])\n",
    "set2 = set([1, 2, 3])\n",
    "print(set1.issubset(set2))\n",
    "print(set2.issubset(set1))\n",
    "\n",
    "# Alternate syntax\n",
    "print(set2 <= set1)"
   ]
  },
  {
   "cell_type": "markdown",
   "metadata": {},
   "source": [
    "## Object serialization\n",
    "\n",
    "* We can write simple values to a text value\n",
    "* Sometimes we need something more complex (like, for dictionaries)\n",
    "* We can _serialize_ the object to a file\n",
    "* From the file, we can _deserialize_ it back to the original object"
   ]
  },
  {
   "cell_type": "markdown",
   "metadata": {},
   "source": [
    "## The `pickle` module\n",
    "\n",
    "* Python calls serialization \"pickling\"\n",
    "* Included module that must be imported (`import pickle`)\n",
    "* Module has various serialization methods"
   ]
  },
  {
   "cell_type": "markdown",
   "metadata": {},
   "source": [
    "## Pickling an object\n",
    "\n",
    "1. `import pickle`\n",
    "2. Open a file for binary writing (`open('file.dat', 'wb')`).\n",
    "3. Call the `pickle` module's `dump` method to pickle the object and write to file\n",
    "4. Close the file when done."
   ]
  },
  {
   "cell_type": "code",
   "execution_count": 29,
   "metadata": {},
   "outputs": [],
   "source": [
    "# Pickling objects\n",
    "import pickle\n",
    "\n",
    "phonebook = {'Greg': '555-1234', 'Katie': '555-2345'}\n",
    "favorites = ['Greg']\n",
    "\n",
    "output_file = open('pickled.dat', 'wb')\n",
    "pickle.dump(phonebook, output_file)\n",
    "pickle.dump(favorites, output_file)\n",
    "output_file.close()"
   ]
  },
  {
   "cell_type": "markdown",
   "metadata": {},
   "source": [
    "## Notes on pickling\n",
    "\n",
    "* We are writing binary, so we use the `wb` flag.\n",
    "* The extension on the file isn't important, but note that this is not a text file.\n",
    "* The file is unreadable as it contains binary data\n",
    "* We can pickle multiple items and unpickle them in order"
   ]
  },
  {
   "cell_type": "markdown",
   "metadata": {},
   "source": [
    "## Unpickling\n",
    "\n",
    "1. `import pickle`\n",
    "2. Open the file for binary reading(`open('file.dat', 'rb')`)\n",
    "3. Call the `pickle` module's `load` method to deserialize object from the file\n",
    "4. Close the file when done"
   ]
  },
  {
   "cell_type": "code",
   "execution_count": 30,
   "metadata": {},
   "outputs": [
    {
     "name": "stdout",
     "output_type": "stream",
     "text": [
      "{'Greg': '555-1234', 'Katie': '555-2345'}\n",
      "['Greg']\n"
     ]
    }
   ],
   "source": [
    "# Unpickling objects\n",
    "import pickle\n",
    "\n",
    "input_file = open('pickled.dat', 'rb')\n",
    "phonebook = pickle.load(input_file)\n",
    "favorites = pickle.load(input_file)\n",
    "input_file.close()\n",
    "\n",
    "print(phonebook)\n",
    "print(favorites)"
   ]
  },
  {
   "cell_type": "markdown",
   "metadata": {},
   "source": [
    "## Notes on unpickling\n",
    "\n",
    "* We arereading binary, so we use the `rb` flag.\n",
    "* We unpickle items in the same order they were pickled\n",
    "* If you try to unpickle an item that's not in the file, you get a `EOFError`"
   ]
  },
  {
   "cell_type": "markdown",
   "metadata": {},
   "source": [
    "## Example: Saving and loading complex records\n",
    "\n",
    "Create a program that records information about a person. This program should save its data to a file and then load it at startup (if the file exists)."
   ]
  },
  {
   "cell_type": "code",
   "execution_count": 31,
   "metadata": {},
   "outputs": [],
   "source": [
    "# Walkthrough solution"
   ]
  },
  {
   "cell_type": "code",
   "execution_count": null,
   "metadata": {},
   "outputs": [],
   "source": []
  }
 ],
 "metadata": {
  "kernelspec": {
   "display_name": "Python 3",
   "language": "python",
   "name": "python3"
  },
  "language_info": {
   "codemirror_mode": {
    "name": "ipython",
    "version": 3
   },
   "file_extension": ".py",
   "mimetype": "text/x-python",
   "name": "python",
   "nbconvert_exporter": "python",
   "pygments_lexer": "ipython3",
   "version": "3.7.5"
  }
 },
 "nbformat": 4,
 "nbformat_minor": 4
}
