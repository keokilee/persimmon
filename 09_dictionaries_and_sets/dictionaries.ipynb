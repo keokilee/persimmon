{
 "cells": [
  {
   "cell_type": "markdown",
   "metadata": {},
   "source": [
    "# Dictionaries"
   ]
  },
  {
   "cell_type": "markdown",
   "metadata": {},
   "source": [
    "## Dictionary\n",
    "\n",
    "A dictionary is an object that stores a collection of data. Each element in a dictionary has two parts: a key and a value. You use a key to locate a specific value"
   ]
  },
  {
   "cell_type": "markdown",
   "metadata": {},
   "source": [
    "## Key-Value Pairs\n",
    "\n",
    "* Dictionary has two parts, a _key_ and a _value_\n",
    "* When we want to retrieve a value, we use the key\n",
    "* Similar to dictionary, where words are _keys_ and definitions are _values_\n",
    "* Also known as _mappings_\n",
    "* Think about variables"
   ]
  },
  {
   "cell_type": "markdown",
   "metadata": {},
   "source": [
    "## Creating a dictionary\n",
    "\n",
    "* Syntax is `{<key>: <value>, <another key>: <value>}`\n",
    "* `{'George': 'george@test.com', 'Moseli': 'moseli@test.com'}`\n",
    "* Values can be of any type (lists, strings, numbers, etc.)\n",
    "* Keys must be immutable objects (strings, integers, floating point values, tuples)"
   ]
  },
  {
   "cell_type": "markdown",
   "metadata": {},
   "source": [
    "## Retrieving a value from a dictionary\n",
    "\n",
    "* Elements in a dictionary are not stored in any particular order\n",
    "* Cannot use indices like a list\n",
    "* To retrieve a value, we must use the key\n",
    "* `dictionary_name[key]`\n",
    "* If the key does not exist, `KeyError`"
   ]
  },
  {
   "cell_type": "code",
   "execution_count": 10,
   "metadata": {},
   "outputs": [
    {
     "name": "stdout",
     "output_type": "stream",
     "text": [
      "{'Greg': '555−1111', 'Joanne': '555−3333', 'Joseph': '555−2222'}\n",
      "555−1111\n"
     ]
    },
    {
     "ename": "KeyError",
     "evalue": "'greg'",
     "output_type": "error",
     "traceback": [
      "\u001b[0;31m---------------------------------------------------------------------------\u001b[0m",
      "\u001b[0;31mKeyError\u001b[0m                                  Traceback (most recent call last)",
      "\u001b[0;32m<ipython-input-10-31eee94f83b8>\u001b[0m in \u001b[0;36m<module>\u001b[0;34m\u001b[0m\n\u001b[1;32m      5\u001b[0m \u001b[0mprint\u001b[0m\u001b[0;34m(\u001b[0m\u001b[0mphonebook\u001b[0m\u001b[0;34m[\u001b[0m\u001b[0;34m'Greg'\u001b[0m\u001b[0;34m]\u001b[0m\u001b[0;34m)\u001b[0m\u001b[0;34m\u001b[0m\u001b[0;34m\u001b[0m\u001b[0m\n\u001b[1;32m      6\u001b[0m \u001b[0;31m# Note that strings are case-sensitive\u001b[0m\u001b[0;34m\u001b[0m\u001b[0;34m\u001b[0m\u001b[0;34m\u001b[0m\u001b[0m\n\u001b[0;32m----> 7\u001b[0;31m \u001b[0mprint\u001b[0m\u001b[0;34m(\u001b[0m\u001b[0mphonebook\u001b[0m\u001b[0;34m[\u001b[0m\u001b[0;34m'greg'\u001b[0m\u001b[0;34m]\u001b[0m\u001b[0;34m)\u001b[0m\u001b[0;34m\u001b[0m\u001b[0;34m\u001b[0m\u001b[0m\n\u001b[0m",
      "\u001b[0;31mKeyError\u001b[0m: 'greg'"
     ]
    }
   ],
   "source": [
    "# Example of a dictionary\n",
    "\n",
    "phonebook = {'Greg': '555−1111', 'Joanne': '555−3333', 'Joseph': '555−2222'}\n",
    "print(phonebook)\n",
    "print(phonebook['Greg'])\n",
    "# Note that strings are case-sensitive\n",
    "print(phonebook['greg'])"
   ]
  },
  {
   "cell_type": "code",
   "execution_count": 12,
   "metadata": {},
   "outputs": [
    {
     "name": "stdout",
     "output_type": "stream",
     "text": [
      "True\n",
      "False\n",
      "True\n",
      "555−1111\n"
     ]
    }
   ],
   "source": [
    "# Testing if a key is in the dictionary\n",
    "# We can use the same `in` operator to check if a _key_ is in a dictionary\n",
    "\n",
    "phonebook = {'Greg': '555−1111', 'Joanne': '555−3333', 'Joseph': '555−2222'}\n",
    "print('Greg' in phonebook)\n",
    "print('greg' in phonebook)\n",
    "print('George' not in phonebook)\n",
    "if 'Greg' in phonebook:\n",
    "    print(phonebook['Greg'])"
   ]
  },
  {
   "cell_type": "markdown",
   "metadata": {},
   "source": [
    "## Adding elements to an existing dictionary\n",
    "\n",
    "* Dictionaries are mutable objects\n",
    "* We can add new key-value pairs\n",
    "* If the key exists, we update the key with the new value\n",
    "* A dictionary may not have duplicates\n",
    "* `dictionary_name[key] = value`"
   ]
  },
  {
   "cell_type": "code",
   "execution_count": 14,
   "metadata": {},
   "outputs": [
    {
     "data": {
      "text/plain": [
       "{'Greg': '555-1112',\n",
       " 'Joanne': '555−3333',\n",
       " 'Joseph': '555−2222',\n",
       " 'Joe': '555-0123'}"
      ]
     },
     "execution_count": 14,
     "metadata": {},
     "output_type": "execute_result"
    }
   ],
   "source": [
    "phonebook = {'Greg': '555−1111', 'Joanne': '555−3333', 'Joseph': '555−2222'}\n",
    "phonebook['Joe'] = '555-0123'\n",
    "phonebook['Greg'] = '555-1112'\n",
    "phonebook"
   ]
  },
  {
   "cell_type": "markdown",
   "metadata": {},
   "source": [
    "## Deleting elements from a dictionary\n",
    "\n",
    "* Use the `del` keyword\n",
    "* `del dictionary[key]`\n",
    "* Raises a `KeyError` if the key does not exist"
   ]
  },
  {
   "cell_type": "code",
   "execution_count": 15,
   "metadata": {},
   "outputs": [
    {
     "name": "stdout",
     "output_type": "stream",
     "text": [
      "{'Chris': '555−1111', 'Katie': '555−2222', 'Joanne': '555−3333'}\n",
      "{'Katie': '555−2222', 'Joanne': '555−3333'}\n"
     ]
    },
    {
     "ename": "KeyError",
     "evalue": "'katie'",
     "output_type": "error",
     "traceback": [
      "\u001b[0;31m---------------------------------------------------------------------------\u001b[0m",
      "\u001b[0;31mKeyError\u001b[0m                                  Traceback (most recent call last)",
      "\u001b[0;32m<ipython-input-15-bb52c1f264bb>\u001b[0m in \u001b[0;36m<module>\u001b[0;34m\u001b[0m\n\u001b[1;32m      3\u001b[0m \u001b[0;32mdel\u001b[0m \u001b[0mphonebook\u001b[0m\u001b[0;34m[\u001b[0m\u001b[0;34m'Chris'\u001b[0m\u001b[0;34m]\u001b[0m\u001b[0;34m\u001b[0m\u001b[0;34m\u001b[0m\u001b[0m\n\u001b[1;32m      4\u001b[0m \u001b[0mprint\u001b[0m\u001b[0;34m(\u001b[0m\u001b[0mphonebook\u001b[0m\u001b[0;34m)\u001b[0m\u001b[0;34m\u001b[0m\u001b[0;34m\u001b[0m\u001b[0m\n\u001b[0;32m----> 5\u001b[0;31m \u001b[0;32mdel\u001b[0m \u001b[0mphonebook\u001b[0m\u001b[0;34m[\u001b[0m\u001b[0;34m'katie'\u001b[0m\u001b[0;34m]\u001b[0m\u001b[0;34m\u001b[0m\u001b[0;34m\u001b[0m\u001b[0m\n\u001b[0m",
      "\u001b[0;31mKeyError\u001b[0m: 'katie'"
     ]
    }
   ],
   "source": [
    "phonebook = {'Chris':'555−1111', 'Katie':'555−2222', 'Joanne':'555−3333'}\n",
    "print(phonebook)\n",
    "del phonebook['Chris']\n",
    "print(phonebook)\n",
    "del phonebook['katie']"
   ]
  },
  {
   "cell_type": "markdown",
   "metadata": {},
   "source": [
    "## Getting the number of elements in a dictionary\n",
    "\n",
    "* Use the `len` function\n",
    "* `len(dictionary)`"
   ]
  },
  {
   "cell_type": "code",
   "execution_count": 16,
   "metadata": {},
   "outputs": [
    {
     "name": "stdout",
     "output_type": "stream",
     "text": [
      "2\n"
     ]
    }
   ],
   "source": [
    "phonebook = {'Chris':'555−1111', 'Katie':'555−2222'}\n",
    "num_items = len(phonebook)\n",
    "print(num_items)"
   ]
  },
  {
   "cell_type": "code",
   "execution_count": 17,
   "metadata": {},
   "outputs": [
    {
     "name": "stdout",
     "output_type": "stream",
     "text": [
      "[90, 91, 92]\n",
      "90\n"
     ]
    }
   ],
   "source": [
    "# Using lists as the values in a dictionary\n",
    "\n",
    "test_scores = {'George': [90, 91, 92], 'Moseli': [95, 96, 97]}\n",
    "print(test_scores['George'])\n",
    "print(test_scores['George'][0])"
   ]
  },
  {
   "cell_type": "code",
   "execution_count": 36,
   "metadata": {},
   "outputs": [
    {
     "name": "stdout",
     "output_type": "stream",
     "text": [
      "{'date': '2019-11-13', 'valid': True, 'id': 1, 'count': 3}\n"
     ]
    }
   ],
   "source": [
    "# Mixing types of values in a dictionary\n",
    "\n",
    "data = {'date': '2019-11-13', 'valid': True, 'id': 1, 'count': 3}\n",
    "print(data)"
   ]
  },
  {
   "cell_type": "code",
   "execution_count": 37,
   "metadata": {},
   "outputs": [
    {
     "name": "stdout",
     "output_type": "stream",
     "text": [
      "{'id': 1, 'first_name': 'George', 'last_name': 'Lee', 'classes': [{'id': '110p', 'name': 'Intro to programming with Python'}]}\n",
      "[{'id': '110p', 'name': 'Intro to programming with Python'}]\n"
     ]
    }
   ],
   "source": [
    "# More complicated sub values of a dictionary\n",
    "record = {'id': 1, 'first_name': 'George', 'last_name': 'Lee', 'classes': [{'id': '110p', 'name': 'Intro to programming with Python'}]}\n",
    "print(record)\n",
    "print(record['classes'])"
   ]
  },
  {
   "cell_type": "code",
   "execution_count": 21,
   "metadata": {},
   "outputs": [
    {
     "name": "stdout",
     "output_type": "stream",
     "text": [
      "{'George': '555-1234', 'Moseli': '555-2345'}\n"
     ]
    }
   ],
   "source": [
    "# Creating an empty dictionary\n",
    "\n",
    "phonebook = {}\n",
    "phonebook['George'] = '555-1234'\n",
    "phonebook['Moseli'] = '555-2345'\n",
    "print(phonebook)"
   ]
  },
  {
   "cell_type": "markdown",
   "metadata": {},
   "source": [
    "## Using the for loop to iterate over a dictionary\n",
    "\n",
    "* In Python, we can use the `for` loop to iterate over the keys of the dictionary\n",
    "* We can use the key to get the value in the dictionary\n",
    "\n",
    "```\n",
    "for var in dictionary:\n",
    "    statement\n",
    "    statement\n",
    "```"
   ]
  },
  {
   "cell_type": "code",
   "execution_count": 23,
   "metadata": {},
   "outputs": [
    {
     "name": "stdout",
     "output_type": "stream",
     "text": [
      "Chris\n",
      "Katie\n",
      "Joanne\n",
      "Chris's phone number is 555−1111\n",
      "Katie's phone number is 555−2222\n",
      "Joanne's phone number is 555−3333\n"
     ]
    }
   ],
   "source": [
    "phonebook = {'Chris':'555−1111', 'Katie':'555−2222', 'Joanne':'555−3333'}\n",
    "for key in phonebook:\n",
    "    print(key)\n",
    "    \n",
    "for key in phonebook:\n",
    "    print(key + \"'s phone number is\", phonebook[key])"
   ]
  },
  {
   "cell_type": "markdown",
   "metadata": {},
   "source": [
    "## Dictionary methods\n",
    "\n",
    "Dictionaries have several methods. For a complete list, see: https://realpython.com/python-dicts/#built-in-dictionary-methods"
   ]
  },
  {
   "cell_type": "code",
   "execution_count": 24,
   "metadata": {},
   "outputs": [
    {
     "name": "stdout",
     "output_type": "stream",
     "text": [
      "{}\n"
     ]
    }
   ],
   "source": [
    "# The clear method deletes all the elements in a dictionary\n",
    "\n",
    "phonebook = {'Chris':'555−1111', 'Katie':'555−2222', 'Joanne':'555−3333'}\n",
    "phonebook.clear()\n",
    "print(phonebook)"
   ]
  },
  {
   "cell_type": "code",
   "execution_count": 25,
   "metadata": {},
   "outputs": [
    {
     "name": "stdout",
     "output_type": "stream",
     "text": [
      "555−1111\n",
      "Entry not found\n"
     ]
    }
   ],
   "source": [
    "# The `get` method\n",
    "#\n",
    "# Alternative to using dictionary[key], but does not raise an error if value does not exist\n",
    "# Instead returns `default`, which is the second parameter to the method\n",
    "\n",
    "phonebook = {'Chris':'555−1111', 'Katie':'555−2222', 'Joanne':'555−3333'}\n",
    "value = phonebook.get('Chris', 'Entry not found')\n",
    "print(value)\n",
    "value = phonebook.get('George', 'Entry not found')\n",
    "print(value)"
   ]
  },
  {
   "cell_type": "code",
   "execution_count": 27,
   "metadata": {},
   "outputs": [
    {
     "name": "stdout",
     "output_type": "stream",
     "text": [
      "dict_items([('Chris', '555−1111'), ('Katie', '555−2222'), ('Joanne', '555−3333')])\n"
     ]
    }
   ],
   "source": [
    "# The `items` method\n",
    "#\n",
    "# Returns the dictionaries keys and associated values as a special sequence of tuples\n",
    "# This special sequence is a dictionary view\n",
    "\n",
    "phonebook = {'Chris':'555−1111', 'Katie':'555−2222', 'Joanne':'555−3333'}\n",
    "print(phonebook.items())"
   ]
  },
  {
   "cell_type": "code",
   "execution_count": 28,
   "metadata": {},
   "outputs": [
    {
     "name": "stdout",
     "output_type": "stream",
     "text": [
      "Chris's phone number is 555−1111\n",
      "Katie's phone number is 555−2222\n",
      "Joanne's phone number is 555−3333\n"
     ]
    }
   ],
   "source": [
    "# More on the `items` method\n",
    "#\n",
    "# You can now iterate over key/value tuples using the items method\n",
    "\n",
    "phonebook = {'Chris':'555−1111', 'Katie':'555−2222', 'Joanne':'555−3333'}\n",
    "for key, value in phonebook.items():\n",
    "    print(key + \"'s phone number is\", value)"
   ]
  },
  {
   "cell_type": "code",
   "execution_count": 29,
   "metadata": {},
   "outputs": [
    {
     "name": "stdout",
     "output_type": "stream",
     "text": [
      "Chris\n",
      "Katie\n",
      "Joanne\n"
     ]
    }
   ],
   "source": [
    "# The `keys` method\n",
    "#\n",
    "# Returns a dictionary view containing only the keys of the dictionary\n",
    "phonebook = {'Chris':'555−1111', 'Katie':'555−2222', 'Joanne':'555−3333'}\n",
    "for key in phonebook.keys():\n",
    "    print(key)"
   ]
  },
  {
   "cell_type": "code",
   "execution_count": 30,
   "metadata": {},
   "outputs": [
    {
     "name": "stdout",
     "output_type": "stream",
     "text": [
      "555−2222\n",
      "{'Chris': '555−1111', 'Joanne': '555−3333'}\n",
      "Entry not found\n",
      "{'Chris': '555−1111', 'Joanne': '555−3333'}\n"
     ]
    }
   ],
   "source": [
    "# The `pop` method\n",
    "#\n",
    "# Returns the value associated with a key and removes that key/value pair from the dictionary\n",
    "# Also accepts a default value if the key is not found in the dictionary\n",
    "\n",
    "phonebook = {'Chris':'555−1111', 'Katie':'555−2222', 'Joanne':'555−3333'}\n",
    "value = phonebook.pop('Katie', 'Entry not found')\n",
    "print(value)\n",
    "print(phonebook)\n",
    "\n",
    "value = phonebook.pop('George', 'Entry not found')\n",
    "print(value)\n",
    "print(phonebook)"
   ]
  },
  {
   "cell_type": "code",
   "execution_count": 32,
   "metadata": {},
   "outputs": [
    {
     "name": "stdout",
     "output_type": "stream",
     "text": [
      "Joanne's phone number is 555−3333\n"
     ]
    }
   ],
   "source": [
    "# the `popitem` method\n",
    "#\n",
    "# Returns a randomly selected key/value pair and removes that pair from the dictionary\n",
    "# The key/value pair is returned as a tuple\n",
    "phonebook = {'Chris':'555−1111', 'Katie':'555−2222', 'Joanne':'555−3333'}\n",
    "\n",
    "# We can use _multiple assignment_ to assign the returned tuple to multiple variables\n",
    "key, value = phonebook.popitem()\n",
    "print(key + \"'s phone number is\", value)"
   ]
  },
  {
   "cell_type": "code",
   "execution_count": 34,
   "metadata": {},
   "outputs": [
    {
     "name": "stdout",
     "output_type": "stream",
     "text": [
      "dict_values(['555−1111', '555−2222', '555−3333'])\n",
      "555−1111\n",
      "555−2222\n",
      "555−3333\n"
     ]
    }
   ],
   "source": [
    "# The `values` method\n",
    "#\n",
    "# Returns a dictionary view containing the values (no keys) in the dictionary\n",
    "phonebook = {'Chris':'555−1111', 'Katie':'555−2222', 'Joanne':'555−3333'}\n",
    "print(phonebook.values())\n",
    "for value in phonebook.values():\n",
    "    print(value)"
   ]
  },
  {
   "cell_type": "markdown",
   "metadata": {},
   "source": [
    "## Example: Storing names and birthdays in a dictionary\n",
    "\n",
    "Write a program that allows the user to make one of the following choices:\n",
    "\n",
    "1. Look up a birthday\n",
    "2. Add a new birthday\n",
    "3. Change a birthday\n",
    "4. Delete a birthday\n",
    "5. Quit the program\n",
    "\n",
    "The program should store the birthdays in a dictionary where the friend's name is the key and the friend's birthday is the value."
   ]
  },
  {
   "cell_type": "code",
   "execution_count": 35,
   "metadata": {},
   "outputs": [],
   "source": [
    "# Walkthrough solution"
   ]
  },
  {
   "cell_type": "code",
   "execution_count": null,
   "metadata": {},
   "outputs": [],
   "source": []
  }
 ],
 "metadata": {
  "kernelspec": {
   "display_name": "Python 3",
   "language": "python",
   "name": "python3"
  },
  "language_info": {
   "codemirror_mode": {
    "name": "ipython",
    "version": 3
   },
   "file_extension": ".py",
   "mimetype": "text/x-python",
   "name": "python",
   "nbconvert_exporter": "python",
   "pygments_lexer": "ipython3",
   "version": "3.7.5"
  }
 },
 "nbformat": 4,
 "nbformat_minor": 4
}
