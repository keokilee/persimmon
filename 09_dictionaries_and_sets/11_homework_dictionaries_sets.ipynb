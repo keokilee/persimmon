{
 "cells": [
  {
   "cell_type": "markdown",
   "metadata": {},
   "source": [
    "# Homework 11\n",
    "\n",
    "## Instructions\n",
    "\n",
    "Open the file in Jupyter Lab. Fill out the problems and submit the completed notebook on Laulima.\n",
    "\n",
    "## Problem 1: Course Information\n",
    "\n",
    "Write a program that creates a dictionary containing course numbers and the room numbers of the rooms where the courses meet. The dictionary should have the following key-value pairs:\n",
    "\n",
    "Course Number (key)|Room Number (value)\n",
    "-------------------|-------------------\n",
    "CS101|3004\n",
    "CS102|4501\n",
    "CS103|6755\n",
    "NT110|1244\n",
    "CM241|1411\n",
    "\n",
    "The program should also create a dictionary containing course numbers and the names of the instructors that teach each course. The dictionary should have the following key-value pairs:\n",
    "\n",
    "Course Number (key)|Instructor (value)\n",
    "-------------------|------------------\n",
    "CS101|Haynes\n",
    "CS102|Alvarado\n",
    "CS103|Rich\n",
    "NT110|Burke\n",
    "CM241|Lee\n",
    "\n",
    "The program should also create a dictionary containing course numbers and the meeting times of each course. The dictionary should have the following key-value pairs:\n",
    "\n",
    "Course Number (key)|Meeting Time (value) \n",
    "-------------------|--------------------\n",
    "CS101|8:00 a.m.\n",
    "CS102|9:00 a.m.\n",
    "CS103|10:00 a.m.\n",
    "NT110|11:00 a.m.\n",
    "CM241|1:00 p.m.\n",
    "\n",
    "The program should let the user enter a course number, then it should display the course’s room number, instructor, and meeting time. "
   ]
  },
  {
   "cell_type": "code",
   "execution_count": 1,
   "metadata": {},
   "outputs": [],
   "source": [
    "# Input solution here"
   ]
  },
  {
   "cell_type": "markdown",
   "metadata": {},
   "source": [
    "## Problem 2: File Encryption and Decryption\n",
    "\n",
    " File Encryption and Decryption Write a program that uses a dictionary to assign “codes” to each letter of the alphabet. For example:\n",
    " \n",
    "`codes = { ‘A’ : ‘%’, ‘a’ : ‘9’, ‘B’ : ‘@’, ‘b’ : ‘#’, etc . . .}`\n",
    "\n",
    "Using this example, the letter A would be assigned the symbol %, the letter a would be assigned the number 9, the letter B would be assigned the symbol @, and so forth.\n",
    "\n",
    "The program should open a specified text file, read its contents, then use the dictionary to write an encrypted version of the file’s contents to a second file. Each character in the second file should contain the code for the corresponding character in the first file.\n",
    "\n",
    "Write a second program that opens an encrypted file and displays its decrypted contents on the screen."
   ]
  },
  {
   "cell_type": "code",
   "execution_count": 2,
   "metadata": {},
   "outputs": [],
   "source": [
    "# Input solution here"
   ]
  },
  {
   "cell_type": "markdown",
   "metadata": {},
   "source": [
    "## Problem 3: Word Frequency\n",
    "\n",
    "Write a program that reads the contents of a text file. The program should create a dictio-nary in which the keys are the individual words found in the file and the values are the number of times each word appears. For example, if the word “the” appears 128 times, the dictionary would contain an element with 'the' as the key and 128 as the value. The program should either display the frequency of each word or create a second file containing a list of each word and its frequency. "
   ]
  },
  {
   "cell_type": "code",
   "execution_count": 3,
   "metadata": {},
   "outputs": [],
   "source": [
    "# Input solution here"
   ]
  },
  {
   "cell_type": "markdown",
   "metadata": {},
   "source": [
    "## Problem 4 Word Index\n",
    "\n",
    "Write a program that reads the contents of a text file. The program should create a dictionary in which the key-value pairs are described as follows:\n",
    "\n",
    "* Key. The keys are the individual words found in the file.\n",
    "* Values. Each value is a list that contains the line numbers in the file where the word (the key) is found.\n",
    "\n",
    "For example, suppose the word “robot” is found in lines 7, 18, 94, and 138. The dictionary would contain an element in which the key was the string “robot”, and the value was a list containing the numbers 7, 18, 94, and 138.\n",
    "\n",
    "Once the dictionary is built, the program should create another text file, known as a word index, listing the contents of the dictionary. The word index file should contain an alphabetical listing of the words that are stored as keys in the dictionary, along with the line numbers where the words appear in the original file. "
   ]
  },
  {
   "cell_type": "code",
   "execution_count": null,
   "metadata": {},
   "outputs": [],
   "source": [
    "# Input solution here"
   ]
  }
 ],
 "metadata": {
  "kernelspec": {
   "display_name": "Python 3",
   "language": "python",
   "name": "python3"
  },
  "language_info": {
   "codemirror_mode": {
    "name": "ipython",
    "version": 3
   },
   "file_extension": ".py",
   "mimetype": "text/x-python",
   "name": "python",
   "nbconvert_exporter": "python",
   "pygments_lexer": "ipython3",
   "version": "3.7.5"
  }
 },
 "nbformat": 4,
 "nbformat_minor": 4
}
