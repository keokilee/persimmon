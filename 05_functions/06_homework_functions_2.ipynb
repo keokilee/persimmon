{
 "cells": [
  {
   "cell_type": "markdown",
   "metadata": {},
   "source": [
    "# Homework 05\n",
    "\n",
    "## Instructions\n",
    "\n",
    "Open the file in Jupyter Lab. Fill out the problems and submit the completed notebook on Laulima.\n",
    "\n",
    "## Problem 1: Maximum of two values\n",
    "\n",
    "Write a function named `max_value` that accepts two integer values as arguments and returns the value that is the greater of the two. For example, if 7 and 12 are passed as arguments to the function, the function should return 12. Use the function in a program that prompts the user to enter two integer values. The program should display the value that is the greater of the two (or the value if they are equal).\n",
    "\n",
    "Do NOT use the built-in `max()` function!"
   ]
  },
  {
   "cell_type": "code",
   "execution_count": 1,
   "metadata": {},
   "outputs": [],
   "source": [
    "# Insert solution here"
   ]
  },
  {
   "cell_type": "markdown",
   "metadata": {},
   "source": [
    "## Problem 2: Updated Math Quiz\n",
    "\n",
    "Update the `quiz()` function in the notes to return `True` if the answer is correct and `False` otherwise. In the `main()` function, track their score and display the number the user got correct once the loop is finished."
   ]
  },
  {
   "cell_type": "code",
   "execution_count": 2,
   "metadata": {},
   "outputs": [],
   "source": [
    "# Insert solution here"
   ]
  },
  {
   "cell_type": "markdown",
   "metadata": {},
   "source": [
    "## Problem 3: Prime Number List\n",
    "\n",
    "This exercise assumes you have already written the `is_prime` function in the lab. Write another program that displays all of the prime numbers from 1 to 100. The program should have a loop that calls the `is_prime` function."
   ]
  },
  {
   "cell_type": "code",
   "execution_count": 3,
   "metadata": {},
   "outputs": [],
   "source": [
    "# Insert solution here"
   ]
  },
  {
   "cell_type": "markdown",
   "metadata": {},
   "source": [
    "## Problem 4: Turtle Graphics: Modular Snowman\n",
    "\n",
    "Write a program that uses turtle graphics to display a snowman, similar to the one shown below. In addition to a `main` function, the program should also have the following functions:\n",
    "\n",
    "* `drawBase` This function should draw the base of the snowman, which is the large snowball at the bottom.\n",
    "* `drawMidSection` This function should draw the middle snowball.\n",
    "* `drawArms` This function should draw the snowman's arms.\n",
    "* `drawHead` This function should draw the snowman's head, with eyes, mouth, and other facial features you desire.\n",
    "* `drawHat` This function should draw the snowman's hat.\n",
    "\n",
    "![Snowman](https://github.com/keokilee/persimmon/blob/master/05_functions/images/snowman.png?raw=true)"
   ]
  },
  {
   "cell_type": "code",
   "execution_count": 4,
   "metadata": {},
   "outputs": [],
   "source": [
    "# Insert solution here"
   ]
  }
 ],
 "metadata": {
  "kernelspec": {
   "display_name": "Python 3",
   "language": "python",
   "name": "python3"
  },
  "language_info": {
   "codemirror_mode": {
    "name": "ipython",
    "version": 3
   },
   "file_extension": ".py",
   "mimetype": "text/x-python",
   "name": "python",
   "nbconvert_exporter": "python",
   "pygments_lexer": "ipython3",
   "version": "3.7.0"
  }
 },
 "nbformat": 4,
 "nbformat_minor": 4
}
