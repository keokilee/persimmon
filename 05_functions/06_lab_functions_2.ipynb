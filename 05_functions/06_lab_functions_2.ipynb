{
 "cells": [
  {
   "cell_type": "markdown",
   "metadata": {},
   "source": [
    "# Lab 05\n",
    "\n",
    "## Instructions\n",
    "\n",
    "Open the file in Jupyter Lab. Fill out the problems and submit the completed notebook on Laulima.\n",
    "\n",
    "## Problem 1: Half a number\n",
    "\n",
    "Write a function called `half`, which returns a value that is half that of the argument."
   ]
  },
  {
   "cell_type": "code",
   "execution_count": 4,
   "metadata": {},
   "outputs": [],
   "source": [
    "# Insert solution here\n",
    "\n",
    "# The following statement returns an error if the value is incorrect\n",
    "# Floating point calculations are often inaccurate, so we're checking\n",
    "# if the difference between the answer and the expected answer is small.\n",
    "assert half(2.0) - 1.0 < 0.0000000001"
   ]
  },
  {
   "cell_type": "markdown",
   "metadata": {},
   "source": [
    "## Problem 2: Feet to Inches\n",
    "\n",
    "One foot equals 12 inches. Write a function named `feet_to_inches` that accepts a number of feet as an argument and returns the number of inches in that many feet. Use the function in a program that prompts the user to enter a number of feet and then displays the number of inches in that many feet."
   ]
  },
  {
   "cell_type": "code",
   "execution_count": 5,
   "metadata": {},
   "outputs": [],
   "source": [
    "# Insert solution here"
   ]
  },
  {
   "cell_type": "markdown",
   "metadata": {},
   "source": [
    "## Problem 3: Prime Numbers\n",
    "\n",
    "A prime number is a number that is only evenly divisible by itself and 1. For example, the number 5 is prime because it can only be evenly divided by 1 and 5. The number 6, however, is not prime because it can be divided evenly by 1, 2, 3, and 6.\n",
    "\n",
    "Write a Boolean function named `is_prime` which takes an integer as an argument and returns true if the argument is a prime number, or false otherwise. use the function in a program that prompts the user to enter a number, then displays a message indicating whether the number is prime.\n",
    "\n",
    "### Hints\n",
    "\n",
    "Recall the `%` operator divides one number by another and returns the remainder of the division. In an expression such as `num1 % num2` the `%` operator will return 0 if `num1` is evenly divisible by `num2`.\n",
    "\n",
    "Note that you don't need to test every number less than the number provided as an argument. You only need to go up to half of the provided number (use the `//` operator to perform integer division).\n",
    "\n",
    "Also, optimizations are not required but recommended."
   ]
  },
  {
   "cell_type": "code",
   "execution_count": 6,
   "metadata": {},
   "outputs": [],
   "source": [
    "# Insert solution here"
   ]
  },
  {
   "cell_type": "markdown",
   "metadata": {},
   "source": [
    "## Problem 4: Rock, Paper, Scissors Game\n",
    "\n",
    "Write a program that lets the user play the game of Rock, Paper, Scissors against the computer. The program should work as follows:\n",
    "\n",
    "1. When the program begins, a random number in the range of 1 through 3 is generated. If the number is 1, then the computer has chosen rock. If the number is 2, then the computer has chosen paper. If the number is 3, then the computer has chosen scissors. Do not display the computer's choice.\n",
    "2. The user enters his or her choice of \"rock\", \"paper\", or \"scissors\" at the keyboard (validate this input)\n",
    "3. The computer's choice is displayed.\n",
    "4. A winner is selected to the following rules:\n",
    "    * If one player chooses rock and the other player chooses scissors, then rock wins. (Rock smashes scissors)\n",
    "    * If one player chooses scissors and the other player chooses paper, then scissors wins. (Scissors cuts paper).\n",
    "    * If one player chooses paper and the other player chooses rock, then paper wins. (Paper wraps rock).\n",
    "    * If both players make the same choice, the game must be played again to determine the winner.\n",
    "    "
   ]
  },
  {
   "cell_type": "code",
   "execution_count": null,
   "metadata": {},
   "outputs": [],
   "source": []
  }
 ],
 "metadata": {
  "kernelspec": {
   "display_name": "Python 3",
   "language": "python",
   "name": "python3"
  },
  "language_info": {
   "codemirror_mode": {
    "name": "ipython",
    "version": 3
   },
   "file_extension": ".py",
   "mimetype": "text/x-python",
   "name": "python",
   "nbconvert_exporter": "python",
   "pygments_lexer": "ipython3",
   "version": "3.7.0"
  }
 },
 "nbformat": 4,
 "nbformat_minor": 4
}
