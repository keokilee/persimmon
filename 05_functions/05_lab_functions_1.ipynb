{
 "cells": [
  {
   "cell_type": "markdown",
   "metadata": {},
   "source": [
    "# Lab 05\n",
    "\n",
    "## Instructions\n",
    "\n",
    "Open the file in Jupyter Lab. Fill out the problems and submit the completed notebook on Laulima.\n",
    "\n",
    "## Problem 1: Kilometer Converter\n",
    "\n",
    "Write a function called `convert_kilometers_to_miles` that converts a parameter `kilometers` to miles and prints the result. The formula is:\n",
    "\n",
    "`miles = kilometers * 0.6214`\n",
    "\n",
    "Write a program that asks the user to input a number of kilometers and then uses the function to display the miles."
   ]
  },
  {
   "cell_type": "code",
   "execution_count": 1,
   "metadata": {},
   "outputs": [],
   "source": [
    "# Input solution here"
   ]
  },
  {
   "cell_type": "markdown",
   "metadata": {},
   "source": [
    "## Problem 2: Automobile Costs\n",
    "\n",
    "Write a program that asks the user to enter the monthly costs for the following expenses incurred from operating his or her automobile: loan payment, insurance, gas, oil, tires, and maintenance. The program should then display the total monthly costs of these expenses, and the total annual costs of these expenses.\n",
    "\n",
    "When writing this program, ensure that the entered expenses are non-negative numbers."
   ]
  },
  {
   "cell_type": "code",
   "execution_count": 4,
   "metadata": {},
   "outputs": [],
   "source": [
    "# Input solution here"
   ]
  },
  {
   "cell_type": "markdown",
   "metadata": {},
   "source": [
    "## Problem 3: Calories from Fat and Carbohydrates\n",
    "\n",
    "A nutritionist who works for a fitness club helps members by evaluating their diets. As part of her evaluation, she asks members for the number of fat grams and carbohydrate grams that they consumed in a day. Then, she calculates the number of calories that result from the fat, using the following formula:\n",
    "\n",
    "`calories from fat = fat grams * 9`\n",
    "\n",
    "Next, she calculates the number of calories that result from the carbohydrates, using the following formula:\n",
    "\n",
    "`calories from carbs = carb grams * 4`\n",
    "\n",
    "Create two functions for calculating the calories from fat and for calculating the calories from carbs. Use these two functions to create a program that asks a user to enter these two values and prints out the result."
   ]
  },
  {
   "cell_type": "code",
   "execution_count": 5,
   "metadata": {},
   "outputs": [],
   "source": [
    "# Input solution here"
   ]
  },
  {
   "cell_type": "markdown",
   "metadata": {},
   "source": [
    "## Problem 4: Feet to inches\n",
    "\n",
    "One foot equals 12 inches. Write a function named `feet_to_inches` that accepts a number of feet as an argument and prints out the number of inches in that many feet. Use the function in a program that prompts the user to enter a number of feet and then displays the number of inches in that many feet."
   ]
  },
  {
   "cell_type": "code",
   "execution_count": 6,
   "metadata": {},
   "outputs": [],
   "source": [
    "# Input solution here"
   ]
  },
  {
   "cell_type": "markdown",
   "metadata": {},
   "source": [
    "## Problem 5: Rectangular Pattern\n",
    "\n",
    "Previously, we had a snippet of code that would draw a square. We could create a function that draws a square that looks something like this:"
   ]
  },
  {
   "cell_type": "code",
   "execution_count": 3,
   "metadata": {},
   "outputs": [],
   "source": [
    "import turtle\n",
    "\n",
    "def draw_square(width):\n",
    "    turtle.forward(width)\n",
    "    turtle.left(90)\n",
    "    turtle.forward(width)\n",
    "    turtle.left(90)\n",
    "    turtle.forward(width)\n",
    "    turtle.left(90)\n",
    "    turtle.forward(width)\n",
    "    turtle.left(90)\n",
    "    \n",
    "        \n",
    "draw_square(10)\n",
    "turtle.done()"
   ]
  },
  {
   "cell_type": "markdown",
   "metadata": {},
   "source": [
    "Now create a new function `draw_rectangle`. `draw_rectangle` should take two parameters (width and height) and draw the rectangle on the screen.\n",
    "\n",
    "Create a program that asks the user for the width and the height of the rectangle and then uses those values to draw a rectangle."
   ]
  },
  {
   "cell_type": "code",
   "execution_count": null,
   "metadata": {},
   "outputs": [],
   "source": [
    "# Input solution here"
   ]
  }
 ],
 "metadata": {
  "kernelspec": {
   "display_name": "Python 3",
   "language": "python",
   "name": "python3"
  },
  "language_info": {
   "codemirror_mode": {
    "name": "ipython",
    "version": 3
   },
   "file_extension": ".py",
   "mimetype": "text/x-python",
   "name": "python",
   "nbconvert_exporter": "python",
   "pygments_lexer": "ipython3",
   "version": "3.7.0"
  }
 },
 "nbformat": 4,
 "nbformat_minor": 4
}
