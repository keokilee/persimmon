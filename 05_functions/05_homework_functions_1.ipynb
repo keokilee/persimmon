{
 "cells": [
  {
   "cell_type": "markdown",
   "metadata": {},
   "source": [
    "# Homework 05\n",
    "\n",
    "## Instructions\n",
    "\n",
    "Open the file in Jupyter Lab. Fill out the problems and submit the completed notebook on Laulima.\n",
    "\n",
    "## Problem 1: How Much Insurance?\n",
    "\n",
    "Many financial experts advise that property owners should insure their homes or buildings for at least 80 percent of the amount it would cost to replace the the structure. Write a program that asks the user to enter the replacement cost of a building, then displays the minimum amount of insurance he or she should buy for the property.\n",
    "\n",
    "The value the user enters should be non-negative."
   ]
  },
  {
   "cell_type": "code",
   "execution_count": 1,
   "metadata": {},
   "outputs": [],
   "source": [
    "# Input solution here"
   ]
  },
  {
   "cell_type": "markdown",
   "metadata": {},
   "source": [
    "## Problem 2: Stadium seating\n",
    "\n",
    "There are three seating categories at a stadium. Class A seats cost 20 dollars, Class B seats cost 15 dollars, and Class C seats cost 10 dollars. Write a program that asks how many tickets for each class of seats were sold, then displays the amount of income generated from ticket sales."
   ]
  },
  {
   "cell_type": "code",
   "execution_count": 2,
   "metadata": {},
   "outputs": [],
   "source": [
    "# Input solution here"
   ]
  },
  {
   "cell_type": "markdown",
   "metadata": {},
   "source": [
    "## Problem 3: Property Tax\n",
    "\n",
    "A county collects property taxes on the assessment value of property, which is 60 percent of the property's actual value. For example, if an acre of land is valued at `10,000` dollars, its assesment value is `6,000` dollars. The proeprty tax is then 72 cents for each 100 dollars of the assessment value. The tax for the acre assessed at `6,000` dollars will be `43.20`. Write a program that asks for the actual value of a piece of property and displays the assessment value and property tax."
   ]
  },
  {
   "cell_type": "code",
   "execution_count": null,
   "metadata": {},
   "outputs": [],
   "source": [
    "# Input solution here"
   ]
  },
  {
   "cell_type": "markdown",
   "metadata": {},
   "source": [
    "## Problem 4: Test Average and Grade\n",
    "\n",
    "Write a program that asks the user to enter five test scores. The program should display a letter grade for each score and the average test score. Write the following functions in the program:\n",
    "\n",
    "* `calc_average`. This function should accept five test scores as arguments and prints the average of the scores.\n",
    "\n",
    "* `determine_grade`. This function should accept a test score as an argument and prints the letter grade for the score based on the following scale:\n",
    "\n",
    "Score|Letter Grade\n",
    "-----|------------\n",
    "90-100|A\n",
    "80-89|B\n",
    "70-79|C\n",
    "60-69|D\n",
    "Below 60|F"
   ]
  },
  {
   "cell_type": "code",
   "execution_count": 3,
   "metadata": {},
   "outputs": [],
   "source": [
    "# Input solution here"
   ]
  },
  {
   "cell_type": "markdown",
   "metadata": {},
   "source": [
    "## Problem 5: Checkerboard\n",
    "\n",
    "Here is a function that uses turtle graphics to draw a square and fill it with a color:"
   ]
  },
  {
   "cell_type": "code",
   "execution_count": 8,
   "metadata": {},
   "outputs": [],
   "source": [
    "import turtle\n",
    "\n",
    "def draw_square(width, color):\n",
    "    turtle.fillcolor(color)\n",
    "    turtle.begin_fill()\n",
    "    for i in range(4):\n",
    "        turtle.forward(width)\n",
    "        turtle.left(90)\n",
    "    \n",
    "    turtle.end_fill()\n",
    "    \n",
    "draw_square(10, 'white')\n",
    "turtle.done()"
   ]
  },
  {
   "cell_type": "markdown",
   "metadata": {},
   "source": [
    "Use this function along with loop (or loops) to draw the following checkerboard pattern (color parameter should be `black` or `white`).\n",
    "\n",
    "![Checkerboard](https://github.com/keokilee/persimmon/blob/master/05_functions/images/checkerboard.png?raw=true)"
   ]
  },
  {
   "cell_type": "code",
   "execution_count": 9,
   "metadata": {},
   "outputs": [],
   "source": [
    "# Input solution here"
   ]
  },
  {
   "cell_type": "code",
   "execution_count": null,
   "metadata": {},
   "outputs": [],
   "source": []
  }
 ],
 "metadata": {
  "kernelspec": {
   "display_name": "Python 3",
   "language": "python",
   "name": "python3"
  },
  "language_info": {
   "codemirror_mode": {
    "name": "ipython",
    "version": 3
   },
   "file_extension": ".py",
   "mimetype": "text/x-python",
   "name": "python",
   "nbconvert_exporter": "python",
   "pygments_lexer": "ipython3",
   "version": "3.7.0"
  }
 },
 "nbformat": 4,
 "nbformat_minor": 4
}
