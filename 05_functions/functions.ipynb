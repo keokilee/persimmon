{
 "cells": [
  {
   "cell_type": "markdown",
   "metadata": {
    "slideshow": {
     "slide_type": "slide"
    }
   },
   "source": [
    "# Functions"
   ]
  },
  {
   "cell_type": "markdown",
   "metadata": {
    "slideshow": {
     "slide_type": "slide"
    }
   },
   "source": [
    "## Definition\n",
    "\n",
    "A function is a group of statements that exist within a program for the purpose of performing a specific task"
   ]
  },
  {
   "cell_type": "code",
   "execution_count": 23,
   "metadata": {
    "slideshow": {
     "slide_type": "slide"
    }
   },
   "outputs": [
    {
     "name": "stdin",
     "output_type": "stream",
     "text": [
      "Enter a nonnegative number:  -1\n",
      "Enter a nonnegative number:  -2\n",
      "Enter a nonnegative number:  4\n"
     ]
    },
    {
     "name": "stdout",
     "output_type": "stream",
     "text": [
      "value is 4.0\n"
     ]
    }
   ],
   "source": [
    "# Example: Check if input is a nonnegative number\n",
    "\n",
    "value = -1\n",
    "while value < 0:\n",
    "    value = float(input(\"Enter a nonnegative number: \"))\n",
    "    \n",
    "print(\"value is\", value)"
   ]
  },
  {
   "cell_type": "markdown",
   "metadata": {
    "slideshow": {
     "slide_type": "slide"
    }
   },
   "source": [
    "## Reusable code\n",
    "\n",
    "* What if we needed to prompt the user to enter a nonnegative number multiple times?\n",
    "* Breaking down a large problem into smaller problems\n",
    "* _Modularization_ and _top-down_ design"
   ]
  },
  {
   "cell_type": "code",
   "execution_count": 5,
   "metadata": {
    "slideshow": {
     "slide_type": "slide"
    }
   },
   "outputs": [
    {
     "name": "stdin",
     "output_type": "stream",
     "text": [
      "Enter a nonnegative number:  -1\n",
      "Enter a nonnegative number:  0\n"
     ]
    },
    {
     "name": "stdout",
     "output_type": "stream",
     "text": [
      "value is 0.0\n"
     ]
    }
   ],
   "source": [
    "# Function for entering a non-negative number\n",
    "\n",
    "def get_non_negative_number():\n",
    "    number = -1\n",
    "    while number < 0:\n",
    "        number = float(input(\"Enter a nonnegative number: \"))\n",
    "        \n",
    "    return number\n",
    "\n",
    "value = get_non_negative_number()\n",
    "print(\"value is\", value)"
   ]
  },
  {
   "cell_type": "markdown",
   "metadata": {
    "slideshow": {
     "slide_type": "slide"
    }
   },
   "source": [
    "## Why do we modularize code?\n",
    "\n",
    "* Code reuse\n",
    "* Better testing\n",
    "* Faster development\n",
    "* Easier facilitation of teamwork"
   ]
  },
  {
   "cell_type": "markdown",
   "metadata": {
    "slideshow": {
     "slide_type": "slide"
    }
   },
   "source": [
    "## Types of functions\n",
    "\n",
    "* `void` and `value-returning` functions\n",
    "* `void` functions execute statements and terminate\n",
    "* `value-returning` functions execute statements and then _returns_ a value to the caller"
   ]
  },
  {
   "cell_type": "markdown",
   "metadata": {
    "slideshow": {
     "slide_type": "slide"
    }
   },
   "source": [
    "## Function names\n",
    "\n",
    "* Rules are similar to that of naming variables\n",
    "* Python keywords are disallowed (`if`, `else`, `elif`, `for`, `while`, etc.)\n",
    "* Cannot contain spaces\n",
    "* First character must be letter or underscore\n",
    "* After that, can contain letters, numbers, or underscores\n",
    "* Generally, functions are verbs because they perform actions"
   ]
  },
  {
   "cell_type": "markdown",
   "metadata": {
    "slideshow": {
     "slide_type": "slide"
    }
   },
   "source": [
    "## General format for defining a function\n",
    "\n",
    "```\n",
    "def function_name(): # function header\n",
    "    # Function block\n",
    "    statement\n",
    "    statement\n",
    "    statement\n",
    "```"
   ]
  },
  {
   "cell_type": "markdown",
   "metadata": {
    "slideshow": {
     "slide_type": "slide"
    }
   },
   "source": [
    "## Calling a function\n",
    "\n",
    "We _call_ a function by appending parens along with the necessary _arguments_"
   ]
  },
  {
   "cell_type": "code",
   "execution_count": 7,
   "metadata": {
    "slideshow": {
     "slide_type": "slide"
    }
   },
   "outputs": [],
   "source": [
    "# Demonstrates a zero argument void function\n",
    "\n",
    "def message():\n",
    "    # Note that none of these statements are invoked\n",
    "    print('I am Jon Snow,')\n",
    "    print('King of the North')"
   ]
  },
  {
   "cell_type": "code",
   "execution_count": 8,
   "metadata": {
    "slideshow": {
     "slide_type": "slide"
    }
   },
   "outputs": [
    {
     "name": "stdout",
     "output_type": "stream",
     "text": [
      "I am Jon Snow,\n",
      "King of the North\n"
     ]
    }
   ],
   "source": [
    "# Demonstrates invoking a function\n",
    "message()"
   ]
  },
  {
   "cell_type": "markdown",
   "metadata": {
    "slideshow": {
     "slide_type": "slide"
    }
   },
   "source": [
    "## Functions calling other functions\n",
    "\n",
    "* We typically have more than one function in a program\n",
    "* Functions may call upon other functions\n",
    "* Typically, a single function contains the _mainline logic_, or the overall logic of the program\n",
    "* The _main_ function"
   ]
  },
  {
   "cell_type": "code",
   "execution_count": 9,
   "metadata": {
    "slideshow": {
     "slide_type": "slide"
    }
   },
   "outputs": [
    {
     "name": "stdout",
     "output_type": "stream",
     "text": [
      "A raven has sent a message to you.\n",
      "I am Jon Snow,\n",
      "King of the North\n",
      "Goodbye\n"
     ]
    }
   ],
   "source": [
    "# Example of creating a main function to display a message\n",
    "def main():\n",
    "    print(\"A raven has sent a message to you.\")\n",
    "    message()\n",
    "    print('Goodbye')\n",
    "    \n",
    "main()"
   ]
  },
  {
   "cell_type": "markdown",
   "metadata": {
    "slideshow": {
     "slide_type": "slide"
    }
   },
   "source": [
    "## Local Variables\n",
    "\n",
    "A local variable is created inside of a function and cannot be accessed by statements outside the function. Different functions can have local variables with the same names because the functions cannot see each other's local variables"
   ]
  },
  {
   "cell_type": "markdown",
   "metadata": {
    "slideshow": {
     "slide_type": "slide"
    }
   },
   "source": [
    "## Non-negative number example\n",
    "\n",
    "```\n",
    "def get_non_negative_number():\n",
    "    number = -1\n",
    "    while number < 0:\n",
    "        number = float(input(\"Enter a nonnegative number: \"))\n",
    "        \n",
    "    return number\n",
    "```\n",
    "\n",
    "What happens if I try to access the `number` variable?"
   ]
  },
  {
   "cell_type": "markdown",
   "metadata": {
    "slideshow": {
     "slide_type": "slide"
    }
   },
   "source": [
    "## Scope and Local Variables\n",
    "\n",
    "* A variable's scope represents where in the program the variable may be accessed\n",
    "* A local variable's scope is the function in which the variable is created\n",
    "* Cannot reference a variable before it has been created or _declared_"
   ]
  },
  {
   "cell_type": "markdown",
   "metadata": {
    "slideshow": {
     "slide_type": "slide"
    }
   },
   "source": [
    "## Two functions can have local variables with the same name\n",
    "\n",
    "Try creating a function called `get_negative_number` that uses the same `number` variable and reverses the while loop logic"
   ]
  },
  {
   "cell_type": "markdown",
   "metadata": {
    "slideshow": {
     "slide_type": "slide"
    }
   },
   "source": [
    "## Passing Arguments to Functions\n",
    "\n",
    "* We've seen examples of this already (`print`, `input`, etc)\n",
    "* Functions receive arguments and assign them to _parameter values_ or simply _parameters_"
   ]
  },
  {
   "cell_type": "code",
   "execution_count": 11,
   "metadata": {
    "slideshow": {
     "slide_type": "slide"
    }
   },
   "outputs": [
    {
     "name": "stdin",
     "output_type": "stream",
     "text": [
      "Enter a nonnegative number NOW:  -1\n",
      "Enter a nonnegative number NOW:  1\n"
     ]
    },
    {
     "data": {
      "text/plain": [
       "1.0"
      ]
     },
     "execution_count": 11,
     "metadata": {},
     "output_type": "execute_result"
    }
   ],
   "source": [
    "# Update get_non_negative number to accept a prompt\n",
    "\n",
    "def get_non_negative_number2(prompt):\n",
    "    number = -1\n",
    "    while number < 0:\n",
    "        number = float(input(prompt))\n",
    "        \n",
    "    return number\n",
    "\n",
    "get_non_negative_number2(\"Enter a nonnegative number NOW: \")"
   ]
  },
  {
   "cell_type": "code",
   "execution_count": 15,
   "metadata": {
    "slideshow": {
     "slide_type": "slide"
    }
   },
   "outputs": [
    {
     "name": "stdin",
     "output_type": "stream",
     "text": [
      "Enter a nonnegative number:  -1\n",
      "Enter a nonnegative number:  4\n"
     ]
    },
    {
     "name": "stdout",
     "output_type": "stream",
     "text": [
      "The number squared is 16.0\n"
     ]
    }
   ],
   "source": [
    "# Creating a program to square an inputted non-negative number\n",
    "def main():\n",
    "    value = get_non_negative_number2(\"Enter a nonnegative number: \")\n",
    "    show_square(value)\n",
    "    \n",
    "def show_square(number):\n",
    "    print(\"The number squared is\", number ** 2)\n",
    "    \n",
    "main()\n",
    "    "
   ]
  },
  {
   "cell_type": "markdown",
   "metadata": {
    "slideshow": {
     "slide_type": "slide"
    }
   },
   "source": [
    "## Parameter Value Scope\n",
    "\n",
    "* Same as local variables\n",
    "* All statements in the function block can access the parameter value\n",
    "* No statement outside can access"
   ]
  },
  {
   "cell_type": "markdown",
   "metadata": {
    "slideshow": {
     "slide_type": "slide"
    }
   },
   "source": [
    "## Passing Multiple Arguments\n",
    "\n",
    "* Functions may accept more than one argument (like `print`)\n",
    "* Arguments are assigned in the same order they're passed in\n",
    "* _positional arguments_"
   ]
  },
  {
   "cell_type": "code",
   "execution_count": 17,
   "metadata": {
    "slideshow": {
     "slide_type": "slide"
    }
   },
   "outputs": [
    {
     "name": "stdin",
     "output_type": "stream",
     "text": [
      "Enter a nonnegative number NOW 2\n",
      "Enter a nonnegative number NOW 3\n"
     ]
    },
    {
     "name": "stdout",
     "output_type": "stream",
     "text": [
      "5.0\n"
     ]
    }
   ],
   "source": [
    "# Creating a program to sum two numbers\n",
    "\n",
    "def main():\n",
    "    value1 = get_non_negative_number2(\"Enter a nonnegative number NOW\")\n",
    "    value2 = get_non_negative_number2(\"Enter a nonnegative number NOW\")\n",
    "    show_sum(value1, value2)\n",
    "    \n",
    "def show_sum(number1, number2):\n",
    "    print(number1 + number2)\n",
    "    \n",
    "main()"
   ]
  },
  {
   "cell_type": "code",
   "execution_count": 19,
   "metadata": {
    "slideshow": {
     "slide_type": "slide"
    }
   },
   "outputs": [
    {
     "name": "stdin",
     "output_type": "stream",
     "text": [
      "Enter your first name:  George\n",
      "Enter your last name:  Lee\n"
     ]
    },
    {
     "name": "stdout",
     "output_type": "stream",
     "text": [
      "Lee , George\n"
     ]
    }
   ],
   "source": [
    "# Creating a program to show reversed name name\n",
    "def main():\n",
    "    first_name = input('Enter your first name: ')\n",
    "    last_name = input('Enter your last name: ')\n",
    "    print_reversed(first_name, last_name)\n",
    "    \n",
    "def print_reversed(first, last):\n",
    "    print(last, ',', first)\n",
    "    \n",
    "main()"
   ]
  },
  {
   "cell_type": "markdown",
   "metadata": {
    "slideshow": {
     "slide_type": "slide"
    }
   },
   "source": [
    "## Changing parameters\n",
    "\n",
    "* Re-assigning a _parameter_ only affects the current scope\n",
    "* The update will not be reflected in the calling scope\n",
    "* Parameter is _passed by value_"
   ]
  },
  {
   "cell_type": "code",
   "execution_count": 21,
   "metadata": {
    "slideshow": {
     "slide_type": "slide"
    }
   },
   "outputs": [
    {
     "name": "stdout",
     "output_type": "stream",
     "text": [
      "Value updated to 100\n",
      "Value is 99\n"
     ]
    }
   ],
   "source": [
    "def main():\n",
    "    value = 99\n",
    "    change_value(value)\n",
    "    print('Value is', value)\n",
    "    \n",
    "def change_value(arg):\n",
    "    arg += 1\n",
    "    print('Value updated to', arg)\n",
    "    \n",
    "main()"
   ]
  },
  {
   "cell_type": "markdown",
   "metadata": {
    "slideshow": {
     "slide_type": "slide"
    }
   },
   "source": [
    "## Keyword arguments\n",
    "\n",
    "* We've seen this with the `print` function\n",
    "* Python allows you to create an argument with the following format: `parameter_name=value`\n",
    "* `parameter_name` is the name of the parameter variable, and `value` is the value being passed to that parameter\n",
    "* This is a _keyword argument_\n",
    "* Order doesn't matter!"
   ]
  },
  {
   "cell_type": "code",
   "execution_count": 22,
   "metadata": {
    "slideshow": {
     "slide_type": "slide"
    }
   },
   "outputs": [
    {
     "name": "stdin",
     "output_type": "stream",
     "text": [
      "Enter your first name:  George\n",
      "Enter your last name:  Lee\n"
     ]
    },
    {
     "name": "stdout",
     "output_type": "stream",
     "text": [
      "Lee George\n"
     ]
    }
   ],
   "source": [
    "# Example with reversing the name\n",
    "def main():\n",
    "    first_name = input('Enter your first name: ')\n",
    "    last_name = input('Enter your last name: ')\n",
    "    # Our arguments are first and last\n",
    "    reverse_name(last=last_name, first=first_name)\n",
    "    \n",
    "def reverse_name(first, last):\n",
    "    print(last, first)\n",
    "    \n",
    "main()"
   ]
  },
  {
   "cell_type": "markdown",
   "metadata": {
    "slideshow": {
     "slide_type": "slide"
    }
   },
   "source": [
    "# Mixing keyword arguments with positional arguments\n",
    "\n",
    "* Keyword arguments must come AFTER positional arguments\n",
    "* `reverse_name(last=last_name, first_name)` will throw an error"
   ]
  },
  {
   "cell_type": "code",
   "execution_count": null,
   "metadata": {},
   "outputs": [],
   "source": []
  }
 ],
 "metadata": {
  "kernelspec": {
   "display_name": "Python 3",
   "language": "python",
   "name": "python3"
  },
  "language_info": {
   "codemirror_mode": {
    "name": "ipython",
    "version": 3
   },
   "file_extension": ".py",
   "mimetype": "text/x-python",
   "name": "python",
   "nbconvert_exporter": "python",
   "pygments_lexer": "ipython3",
   "version": "3.7.0"
  }
 },
 "nbformat": 4,
 "nbformat_minor": 4
}
