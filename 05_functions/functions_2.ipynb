{
 "cells": [
  {
   "cell_type": "markdown",
   "metadata": {
    "slideshow": {
     "slide_type": "slide"
    }
   },
   "source": [
    "# More Functions"
   ]
  },
  {
   "cell_type": "markdown",
   "metadata": {
    "slideshow": {
     "slide_type": "slide"
    }
   },
   "source": [
    "## Global variables and Global Constants\n",
    "\n",
    "* We've previously discussed _local_ variables and scope\n",
    "* We can also have _global_ variables\n",
    "* These variables are accessible by any function\n",
    "* Use with care!"
   ]
  },
  {
   "cell_type": "code",
   "execution_count": 2,
   "metadata": {
    "slideshow": {
     "slide_type": "slide"
    }
   },
   "outputs": [
    {
     "name": "stdout",
     "output_type": "stream",
     "text": [
      "10\n",
      "10\n"
     ]
    }
   ],
   "source": [
    "# Example global value\n",
    "global_value = 10\n",
    "\n",
    "def show_value():\n",
    "    print(global_value)\n",
    "    \n",
    "def show_value2():\n",
    "    print(global_value)\n",
    "    \n",
    "show_value()\n",
    "show_value2()"
   ]
  },
  {
   "cell_type": "markdown",
   "metadata": {
    "slideshow": {
     "slide_type": "slide"
    }
   },
   "source": [
    "## Assigning to a global variable\n",
    "\n",
    "* Previous example shows how to access a global value\n",
    "* Changing the value of a global variable requires an extra step\n",
    "* Variable must be declared global"
   ]
  },
  {
   "cell_type": "code",
   "execution_count": 3,
   "metadata": {
    "slideshow": {
     "slide_type": "slide"
    }
   },
   "outputs": [
    {
     "name": "stdout",
     "output_type": "stream",
     "text": [
      "11\n"
     ]
    }
   ],
   "source": [
    "# Example assigning a global value\n",
    "\n",
    "global_value = 10\n",
    "\n",
    "def increment_global_value():\n",
    "    global global_value\n",
    "    global_value += 1\n",
    "    \n",
    "increment_global_value()\n",
    "print(global_value)"
   ]
  },
  {
   "cell_type": "markdown",
   "metadata": {
    "slideshow": {
     "slide_type": "slide"
    }
   },
   "source": [
    "## Globals are bad\n",
    "\n",
    "* Debugging is difficult\n",
    "* Functions that use global variables are less re-usable\n",
    "* Program is harder to understand\n",
    "* tl;dr Create variables local to your program and pass them as arguments"
   ]
  },
  {
   "cell_type": "markdown",
   "metadata": {
    "slideshow": {
     "slide_type": "slide"
    }
   },
   "source": [
    "## Global Constants\n",
    "\n",
    "* _Constant_ means the value is never changed\n",
    "* Basically a global variable, but we never re-assign it\n",
    "* Conventionally written as ALL_CAPS"
   ]
  },
  {
   "cell_type": "code",
   "execution_count": 7,
   "metadata": {
    "slideshow": {
     "slide_type": "slide"
    }
   },
   "outputs": [],
   "source": [
    "# Example using constants\n",
    "import turtle\n",
    "\n",
    "NORTH = 90\n",
    "EAST = 0\n",
    "\n",
    "def point_north():\n",
    "    turtle.setheading(NORTH)\n",
    "    \n",
    "def point_east():\n",
    "    turtle.setheading(EAST)\n",
    "\n",
    "point_north()\n",
    "turtle.forward(100)\n",
    "\n",
    "point_east()\n",
    "turtle.forward(100)\n",
    "\n",
    "turtle.done()"
   ]
  },
  {
   "cell_type": "markdown",
   "metadata": {
    "slideshow": {
     "slide_type": "slide"
    }
   },
   "source": [
    "## Intro to Value-Returning Functions\n",
    "\n",
    "* A _value-returning_ function is a function that returns a value back to the part of the program that called it.\n",
    "* Python, as well as most other programming languages, provides a library of prewritten functions that perform commonly needed tasks."
   ]
  },
  {
   "cell_type": "markdown",
   "metadata": {
    "slideshow": {
     "slide_type": "slide"
    }
   },
   "source": [
    "## Void vs. Value-Returning\n",
    "\n",
    "* Both are a set of statements that represent a task\n",
    "* We _call_ them both the same way\n",
    "* _Value-Returning_ functions _return_ a value back to the part of the program that called it\n",
    "* This value can be assigned to a variable and used just like any other value"
   ]
  },
  {
   "cell_type": "markdown",
   "metadata": {
    "slideshow": {
     "slide_type": "slide"
    }
   },
   "source": [
    "## Standard Library Functions\n",
    "\n",
    "* We've already seen a few (`print`, `input`, `range`)\n",
    "* Many other functions\n",
    "* Split out into _modules_\n",
    "* `turtle` is an example of a _module_"
   ]
  },
  {
   "cell_type": "markdown",
   "metadata": {
    "slideshow": {
     "slide_type": "slide"
    }
   },
   "source": [
    "## Importing a module\n",
    "\n",
    "* We have already seen this with `import turtle`\n",
    "* This means we can use the `turtle` module's functions by using `turtle.<function name>`\n",
    "* There are other ways to write an import statement, but this is more clear\n",
    "* We will use the `random` module in this chapter"
   ]
  },
  {
   "cell_type": "markdown",
   "metadata": {
    "slideshow": {
     "slide_type": "slide"
    }
   },
   "source": [
    "## Module functions are \"black boxes\"\n",
    "\n",
    "We cannot see the statements executed by the function\n",
    "\n",
    "![Black box functions](images/black-box.png)"
   ]
  },
  {
   "cell_type": "markdown",
   "metadata": {
    "slideshow": {
     "slide_type": "slide"
    }
   },
   "source": [
    "## Random numbers\n",
    "\n",
    "* Commonly used in games (i.e. dice rolls, spawn locations)\n",
    "* Useful in simulations to simulate decision making\n",
    "* Creating sample data for analysis\n",
    "* Encryption"
   ]
  },
  {
   "cell_type": "code",
   "execution_count": 16,
   "metadata": {
    "slideshow": {
     "slide_type": "slide"
    }
   },
   "outputs": [
    {
     "name": "stdout",
     "output_type": "stream",
     "text": [
      "49\n"
     ]
    }
   ],
   "source": [
    "# Generating random numbers using randint\n",
    "import random\n",
    "\n",
    "# Dot notation, where we use the module name first\n",
    "# then the function name\n",
    "# randint takes two arguments, start (inclusive) and end (inclusive)\n",
    "number = random.randint(1, 100)\n",
    "print(number)\n",
    "\n",
    "# We could also do:\n",
    "# print(random.randint(1, 100))"
   ]
  },
  {
   "cell_type": "code",
   "execution_count": 18,
   "metadata": {
    "slideshow": {
     "slide_type": "slide"
    }
   },
   "outputs": [
    {
     "name": "stdin",
     "output_type": "stream",
     "text": [
      "Guess the number between 1 and 10:  1\n",
      "Guess the number between 1 and 10:  2\n",
      "Guess the number between 1 and 10:  3\n"
     ]
    },
    {
     "name": "stdout",
     "output_type": "stream",
     "text": [
      "Congrats!\n"
     ]
    }
   ],
   "source": [
    "# Guess a random number game\n",
    "import random\n",
    "\n",
    "def main():\n",
    "    number = random.randint(1, 10)\n",
    "    answer = 0\n",
    "    while answer != number:\n",
    "        answer = int(input(\"Guess the number between 1 and 10: \"))\n",
    "    \n",
    "    print(\"Congrats!\")\n",
    "    \n",
    "main()"
   ]
  },
  {
   "cell_type": "markdown",
   "metadata": {
    "slideshow": {
     "slide_type": "slide"
    }
   },
   "source": [
    "## Creating a math quiz game\n",
    "\n",
    "Create a function that creates two random integers between 1 and 10 and asks the user what the sum is. If they're correct, print \"Correct\". Else, print \"Incorrect\". Create a main function that runs the quiz function 5 times."
   ]
  },
  {
   "cell_type": "code",
   "execution_count": 19,
   "metadata": {
    "slideshow": {
     "slide_type": "slide"
    }
   },
   "outputs": [],
   "source": [
    "# Math quiz game\n",
    "import random\n",
    "\n",
    "def quiz():\n",
    "    pass\n",
    "\n",
    "def main():\n",
    "    pass\n",
    "\n",
    "main()"
   ]
  },
  {
   "cell_type": "markdown",
   "metadata": {
    "slideshow": {
     "slide_type": "slide"
    }
   },
   "source": [
    "## Coin toss\n",
    "\n",
    "Random numbers can be used for non-numeric responses. Create a function that generates a random number between 0 and 1 and uses that result to print out \"Heads\" or \"Tails\". Let 0 represent \"tails\" and 1 represent \"heads\" (global constants?). Call this function 5 times."
   ]
  },
  {
   "cell_type": "code",
   "execution_count": 20,
   "metadata": {
    "slideshow": {
     "slide_type": "slide"
    }
   },
   "outputs": [],
   "source": [
    "# Coin toss\n",
    "import random\n",
    "\n",
    "def coin_flip():\n",
    "    pass\n",
    "\n",
    "def main():\n",
    "    pass\n",
    "\n",
    "main()"
   ]
  },
  {
   "cell_type": "markdown",
   "metadata": {
    "slideshow": {
     "slide_type": "slide"
    }
   },
   "source": [
    "## Other random functions\n",
    "\n",
    "* `random.randrange` works like range, but returns a value from within the range (main difference from `randint` being the step parameter)\n",
    "* `random.random` returns a random floating point number between 0.0 and 1.0\n",
    "* `random.uniform` returns a random flotaing point number between a start and end"
   ]
  },
  {
   "cell_type": "code",
   "execution_count": 24,
   "metadata": {
    "slideshow": {
     "slide_type": "slide"
    }
   },
   "outputs": [
    {
     "name": "stdout",
     "output_type": "stream",
     "text": [
      "6\n",
      "0.18273728165530956\n",
      "17.781960372144187\n"
     ]
    }
   ],
   "source": [
    "# Random function examples\n",
    "import random\n",
    "\n",
    "print(random.randrange(2, 11, 2)) # Prints a random even number\n",
    "print(random.random())\n",
    "print(random.uniform(1, 100))"
   ]
  },
  {
   "cell_type": "markdown",
   "metadata": {
    "slideshow": {
     "slide_type": "slide"
    }
   },
   "source": [
    "## Pseudorandom numbers\n",
    "\n",
    "* Numbers are generated according to an algorithm and a _seed value_\n",
    "* Seed value can be specified with `random.seed()`\n",
    "* Generators with the same seed value generate the same numbers!\n",
    "* https://en.wikipedia.org/wiki/Pseudorandom_number_generator"
   ]
  },
  {
   "cell_type": "markdown",
   "metadata": {
    "slideshow": {
     "slide_type": "slide"
    }
   },
   "source": [
    "## Writing value-returning functions\n",
    "\n",
    "* Conceptually the same as a void function\n",
    "* Ends with a _return_ statement\n",
    "* Function execution halts and the value is returned to the caller\n",
    "* Syntax of a return statement is `return <statement>`"
   ]
  },
  {
   "cell_type": "code",
   "execution_count": 25,
   "metadata": {
    "slideshow": {
     "slide_type": "slide"
    }
   },
   "outputs": [
    {
     "name": "stdout",
     "output_type": "stream",
     "text": [
      "3\n"
     ]
    }
   ],
   "source": [
    "# Summing two numbers\n",
    "def sum(number1, number2):\n",
    "    # Can be written as return number1 + number2\n",
    "    total = number1 + number2\n",
    "    return total\n",
    "\n",
    "print(sum(1, 2))"
   ]
  },
  {
   "cell_type": "markdown",
   "metadata": {
    "slideshow": {
     "slide_type": "slide"
    }
   },
   "source": [
    "## Usage of value returning functions\n",
    "\n",
    "* Input validation loop\n",
    "* Simplifying complex calculations"
   ]
  },
  {
   "cell_type": "code",
   "execution_count": 26,
   "metadata": {
    "slideshow": {
     "slide_type": "slide"
    }
   },
   "outputs": [
    {
     "name": "stdin",
     "output_type": "stream",
     "text": [
      "What's your subtotal? 20\n"
     ]
    },
    {
     "name": "stdout",
     "output_type": "stream",
     "text": [
      "Your total is:\n",
      "20.9424\n"
     ]
    }
   ],
   "source": [
    "## Example calculating tax\n",
    "TAX_PCT = 0.04712\n",
    "\n",
    "def total(subtotal):\n",
    "    # May add other fees and tips here, too\n",
    "    return subtotal * (1 + TAX_PCT)\n",
    "\n",
    "def main():\n",
    "    subtotal = float(input(\"What's your subtotal?\"))\n",
    "    print(\"Your total is:\")\n",
    "    print(total(subtotal))\n",
    "    \n",
    "main()"
   ]
  },
  {
   "cell_type": "markdown",
   "metadata": {
    "slideshow": {
     "slide_type": "slide"
    }
   },
   "source": [
    "## Value returning functions can return any type of value\n",
    "\n",
    "* Numbers\n",
    "* Strings\n",
    "* Boolean\n",
    "* Lists (in the future)"
   ]
  },
  {
   "cell_type": "code",
   "execution_count": 28,
   "metadata": {
    "slideshow": {
     "slide_type": "slide"
    }
   },
   "outputs": [],
   "source": [
    "# Math quiz with score tracking\n",
    "import random\n",
    "\n",
    "# Update this function to return True if correct and False if incorrect\n",
    "def quiz():\n",
    "    pass\n",
    "\n",
    "def main():\n",
    "    pass\n",
    "\n",
    "main()"
   ]
  },
  {
   "cell_type": "code",
   "execution_count": 29,
   "metadata": {
    "slideshow": {
     "slide_type": "slide"
    }
   },
   "outputs": [
    {
     "name": "stdin",
     "output_type": "stream",
     "text": [
      "Enter a letter grade E\n",
      "Enter a letter grade G\n",
      "Enter a letter grade A\n"
     ]
    }
   ],
   "source": [
    "# Using boolean functions to validate input\n",
    "\n",
    "def validate_response(response):\n",
    "    if response == \"A\" or response == \"B\" or response == \"C\" or response == \"D\" or response == \"F\":\n",
    "        return True\n",
    "    else:\n",
    "        return False\n",
    "    \n",
    "def main():\n",
    "    valid_response = False\n",
    "    while not valid_response:\n",
    "        letter_grade = input(\"Enter a letter grade\")\n",
    "        valid_response = validate_response(letter_grade)\n",
    "        \n",
    "main()"
   ]
  },
  {
   "cell_type": "code",
   "execution_count": 30,
   "metadata": {
    "slideshow": {
     "slide_type": "slide"
    }
   },
   "outputs": [
    {
     "name": "stdin",
     "output_type": "stream",
     "text": [
      "Enter your first name George\n",
      "Enter your last name Lee\n"
     ]
    },
    {
     "name": "stdout",
     "output_type": "stream",
     "text": [
      "George Lee\n"
     ]
    }
   ],
   "source": [
    "# Returning multiple values\n",
    "def get_name():\n",
    "    first_name = input(\"Enter your first name\")\n",
    "    last_name = input(\"Enter your last name\")\n",
    "    return first_name, last_name\n",
    "\n",
    "first, last = get_name()\n",
    "print(first, last)"
   ]
  },
  {
   "cell_type": "markdown",
   "metadata": {
    "slideshow": {
     "slide_type": "slide"
    }
   },
   "source": [
    "## The `math` module\n",
    "\n",
    "* Use `import math` to import these functions.\n",
    "* See: https://docs.python.org/3/library/math.html"
   ]
  },
  {
   "cell_type": "code",
   "execution_count": null,
   "metadata": {},
   "outputs": [],
   "source": []
  }
 ],
 "metadata": {
  "kernelspec": {
   "display_name": "Python 3",
   "language": "python",
   "name": "python3"
  },
  "language_info": {
   "codemirror_mode": {
    "name": "ipython",
    "version": 3
   },
   "file_extension": ".py",
   "mimetype": "text/x-python",
   "name": "python",
   "nbconvert_exporter": "python",
   "pygments_lexer": "ipython3",
   "version": "3.7.0"
  }
 },
 "nbformat": 4,
 "nbformat_minor": 4
}
